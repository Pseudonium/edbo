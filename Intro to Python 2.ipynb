{
 "cells": [
  {
   "cell_type": "markdown",
   "id": "35635b39",
   "metadata": {},
   "source": [
    "## Predicting hydrocarbon boiling points"
   ]
  },
  {
   "cell_type": "code",
   "execution_count": 28,
   "id": "412e97b6",
   "metadata": {},
   "outputs": [],
   "source": [
    "import pandas as pd\n",
    "import numpy as np\n",
    "import matplotlib.pyplot as plt\n",
    "\n",
    "from sklearn.model_selection import train_test_split\n",
    "from sklearn.linear_model import LinearRegression\n",
    "\n",
    "import statsmodels.api as sm"
   ]
  },
  {
   "cell_type": "markdown",
   "id": "fa5c4586",
   "metadata": {},
   "source": [
    "Importing the data set"
   ]
  },
  {
   "cell_type": "code",
   "execution_count": 2,
   "id": "48b115ac",
   "metadata": {},
   "outputs": [],
   "source": [
    "#Hydrocarbon dataframe\n",
    "\n",
    "hc_df = pd.read_csv('hc-long-list.csv')"
   ]
  },
  {
   "cell_type": "code",
   "execution_count": 3,
   "id": "e79f114b",
   "metadata": {},
   "outputs": [
    {
     "data": {
      "text/html": [
       "<div>\n",
       "<style scoped>\n",
       "    .dataframe tbody tr th:only-of-type {\n",
       "        vertical-align: middle;\n",
       "    }\n",
       "\n",
       "    .dataframe tbody tr th {\n",
       "        vertical-align: top;\n",
       "    }\n",
       "\n",
       "    .dataframe thead th {\n",
       "        text-align: right;\n",
       "    }\n",
       "</style>\n",
       "<table border=\"1\" class=\"dataframe\">\n",
       "  <thead>\n",
       "    <tr style=\"text-align: right;\">\n",
       "      <th></th>\n",
       "      <th>name</th>\n",
       "      <th>IUPAC</th>\n",
       "      <th>nC</th>\n",
       "      <th>mp</th>\n",
       "      <th>bp</th>\n",
       "    </tr>\n",
       "  </thead>\n",
       "  <tbody>\n",
       "    <tr>\n",
       "      <th>0</th>\n",
       "      <td>N-alkane</td>\n",
       "      <td>Methane</td>\n",
       "      <td>1</td>\n",
       "      <td>-183</td>\n",
       "      <td>-162</td>\n",
       "    </tr>\n",
       "    <tr>\n",
       "      <th>1</th>\n",
       "      <td>N-alkane</td>\n",
       "      <td>Ethane</td>\n",
       "      <td>2</td>\n",
       "      <td>-183</td>\n",
       "      <td>-89</td>\n",
       "    </tr>\n",
       "    <tr>\n",
       "      <th>2</th>\n",
       "      <td>N-alkane</td>\n",
       "      <td>Propane</td>\n",
       "      <td>3</td>\n",
       "      <td>-188</td>\n",
       "      <td>-42</td>\n",
       "    </tr>\n",
       "    <tr>\n",
       "      <th>3</th>\n",
       "      <td>N-alkane</td>\n",
       "      <td>N-butane</td>\n",
       "      <td>4</td>\n",
       "      <td>-138</td>\n",
       "      <td>-1</td>\n",
       "    </tr>\n",
       "    <tr>\n",
       "      <th>4</th>\n",
       "      <td>N-alkane</td>\n",
       "      <td>N-pentane</td>\n",
       "      <td>5</td>\n",
       "      <td>-130</td>\n",
       "      <td>36</td>\n",
       "    </tr>\n",
       "    <tr>\n",
       "      <th>5</th>\n",
       "      <td>N-alkane</td>\n",
       "      <td>N-hexane</td>\n",
       "      <td>6</td>\n",
       "      <td>-95</td>\n",
       "      <td>69</td>\n",
       "    </tr>\n",
       "    <tr>\n",
       "      <th>6</th>\n",
       "      <td>N-alkane</td>\n",
       "      <td>N-heptane</td>\n",
       "      <td>7</td>\n",
       "      <td>-91</td>\n",
       "      <td>98</td>\n",
       "    </tr>\n",
       "    <tr>\n",
       "      <th>7</th>\n",
       "      <td>N-alkane</td>\n",
       "      <td>N-octane</td>\n",
       "      <td>8</td>\n",
       "      <td>-57</td>\n",
       "      <td>126</td>\n",
       "    </tr>\n",
       "    <tr>\n",
       "      <th>8</th>\n",
       "      <td>N-alkane</td>\n",
       "      <td>N-nonane</td>\n",
       "      <td>9</td>\n",
       "      <td>-53</td>\n",
       "      <td>151</td>\n",
       "    </tr>\n",
       "    <tr>\n",
       "      <th>9</th>\n",
       "      <td>N-alkane</td>\n",
       "      <td>N-decane</td>\n",
       "      <td>10</td>\n",
       "      <td>-30</td>\n",
       "      <td>174</td>\n",
       "    </tr>\n",
       "    <tr>\n",
       "      <th>10</th>\n",
       "      <td>N-alkane</td>\n",
       "      <td>N-undecane</td>\n",
       "      <td>11</td>\n",
       "      <td>-26</td>\n",
       "      <td>196</td>\n",
       "    </tr>\n",
       "    <tr>\n",
       "      <th>11</th>\n",
       "      <td>N-alkane</td>\n",
       "      <td>N-dodecane</td>\n",
       "      <td>12</td>\n",
       "      <td>-10</td>\n",
       "      <td>216</td>\n",
       "    </tr>\n",
       "    <tr>\n",
       "      <th>12</th>\n",
       "      <td>N-alkane</td>\n",
       "      <td>N-tridecane</td>\n",
       "      <td>13</td>\n",
       "      <td>-5</td>\n",
       "      <td>235</td>\n",
       "    </tr>\n",
       "    <tr>\n",
       "      <th>13</th>\n",
       "      <td>N-alkane</td>\n",
       "      <td>N-tetradecane</td>\n",
       "      <td>14</td>\n",
       "      <td>6</td>\n",
       "      <td>254</td>\n",
       "    </tr>\n",
       "    <tr>\n",
       "      <th>14</th>\n",
       "      <td>N-alkane</td>\n",
       "      <td>N-pentadecane</td>\n",
       "      <td>15</td>\n",
       "      <td>15</td>\n",
       "      <td>270</td>\n",
       "    </tr>\n",
       "    <tr>\n",
       "      <th>15</th>\n",
       "      <td>N-alkane</td>\n",
       "      <td>N-hexadecane</td>\n",
       "      <td>16</td>\n",
       "      <td>18</td>\n",
       "      <td>287</td>\n",
       "    </tr>\n",
       "    <tr>\n",
       "      <th>16</th>\n",
       "      <td>N-alkane</td>\n",
       "      <td>N-heptadecane</td>\n",
       "      <td>17</td>\n",
       "      <td>22</td>\n",
       "      <td>303</td>\n",
       "    </tr>\n",
       "    <tr>\n",
       "      <th>17</th>\n",
       "      <td>N-alkane</td>\n",
       "      <td>N-octadecane</td>\n",
       "      <td>18</td>\n",
       "      <td>28</td>\n",
       "      <td>316</td>\n",
       "    </tr>\n",
       "    <tr>\n",
       "      <th>18</th>\n",
       "      <td>N-alkane</td>\n",
       "      <td>N-nonadecane</td>\n",
       "      <td>19</td>\n",
       "      <td>32</td>\n",
       "      <td>330</td>\n",
       "    </tr>\n",
       "    <tr>\n",
       "      <th>19</th>\n",
       "      <td>N-alkane</td>\n",
       "      <td>N-eicosane</td>\n",
       "      <td>20</td>\n",
       "      <td>37</td>\n",
       "      <td>344</td>\n",
       "    </tr>\n",
       "    <tr>\n",
       "      <th>20</th>\n",
       "      <td>N-alkane</td>\n",
       "      <td>N-heneicosane</td>\n",
       "      <td>21</td>\n",
       "      <td>40</td>\n",
       "      <td>359</td>\n",
       "    </tr>\n",
       "    <tr>\n",
       "      <th>21</th>\n",
       "      <td>N-alkane</td>\n",
       "      <td>N-docosane</td>\n",
       "      <td>22</td>\n",
       "      <td>44</td>\n",
       "      <td>369</td>\n",
       "    </tr>\n",
       "    <tr>\n",
       "      <th>22</th>\n",
       "      <td>N-alkane</td>\n",
       "      <td>N-tricosane</td>\n",
       "      <td>23</td>\n",
       "      <td>47</td>\n",
       "      <td>381</td>\n",
       "    </tr>\n",
       "    <tr>\n",
       "      <th>23</th>\n",
       "      <td>N-alkane</td>\n",
       "      <td>N-tetracosane</td>\n",
       "      <td>24</td>\n",
       "      <td>50</td>\n",
       "      <td>391</td>\n",
       "    </tr>\n",
       "    <tr>\n",
       "      <th>24</th>\n",
       "      <td>N-alkane</td>\n",
       "      <td>N-pentacosane</td>\n",
       "      <td>25</td>\n",
       "      <td>53</td>\n",
       "      <td>402</td>\n",
       "    </tr>\n",
       "    <tr>\n",
       "      <th>25</th>\n",
       "      <td>N-alkane</td>\n",
       "      <td>N-hexacosane</td>\n",
       "      <td>26</td>\n",
       "      <td>56</td>\n",
       "      <td>415</td>\n",
       "    </tr>\n",
       "    <tr>\n",
       "      <th>26</th>\n",
       "      <td>N-alkane</td>\n",
       "      <td>N-heptacosane</td>\n",
       "      <td>27</td>\n",
       "      <td>59</td>\n",
       "      <td>422</td>\n",
       "    </tr>\n",
       "    <tr>\n",
       "      <th>27</th>\n",
       "      <td>N-alkane</td>\n",
       "      <td>N-octacosane</td>\n",
       "      <td>28</td>\n",
       "      <td>61</td>\n",
       "      <td>435</td>\n",
       "    </tr>\n",
       "    <tr>\n",
       "      <th>28</th>\n",
       "      <td>N-alkane</td>\n",
       "      <td>N-nonacosane</td>\n",
       "      <td>29</td>\n",
       "      <td>64</td>\n",
       "      <td>443</td>\n",
       "    </tr>\n",
       "    <tr>\n",
       "      <th>29</th>\n",
       "      <td>N-alkane</td>\n",
       "      <td>N-triacontane</td>\n",
       "      <td>30</td>\n",
       "      <td>66</td>\n",
       "      <td>451</td>\n",
       "    </tr>\n",
       "    <tr>\n",
       "      <th>30</th>\n",
       "      <td>N-alkane</td>\n",
       "      <td>N-hentriacontane</td>\n",
       "      <td>31</td>\n",
       "      <td>68</td>\n",
       "      <td>458</td>\n",
       "    </tr>\n",
       "    <tr>\n",
       "      <th>31</th>\n",
       "      <td>N-alkane</td>\n",
       "      <td>N-dotriacontane</td>\n",
       "      <td>32</td>\n",
       "      <td>70</td>\n",
       "      <td>470</td>\n",
       "    </tr>\n",
       "    <tr>\n",
       "      <th>32</th>\n",
       "      <td>N-alkane</td>\n",
       "      <td>N-pentatriacontane</td>\n",
       "      <td>35</td>\n",
       "      <td>74</td>\n",
       "      <td>489</td>\n",
       "    </tr>\n",
       "    <tr>\n",
       "      <th>33</th>\n",
       "      <td>N-alkane</td>\n",
       "      <td>N-tetracontane</td>\n",
       "      <td>40</td>\n",
       "      <td>81</td>\n",
       "      <td>522</td>\n",
       "    </tr>\n",
       "    <tr>\n",
       "      <th>34</th>\n",
       "      <td>N-alkane</td>\n",
       "      <td>N-pentacontane</td>\n",
       "      <td>50</td>\n",
       "      <td>92</td>\n",
       "      <td>575</td>\n",
       "    </tr>\n",
       "    <tr>\n",
       "      <th>35</th>\n",
       "      <td>N-alkane</td>\n",
       "      <td>N-hexacontane</td>\n",
       "      <td>60</td>\n",
       "      <td>100</td>\n",
       "      <td>625</td>\n",
       "    </tr>\n",
       "    <tr>\n",
       "      <th>36</th>\n",
       "      <td>N-alkane</td>\n",
       "      <td>N-heptacontane</td>\n",
       "      <td>70</td>\n",
       "      <td>106</td>\n",
       "      <td>647</td>\n",
       "    </tr>\n",
       "    <tr>\n",
       "      <th>37</th>\n",
       "      <td>N-alkane</td>\n",
       "      <td>N-octacontane</td>\n",
       "      <td>80</td>\n",
       "      <td>112</td>\n",
       "      <td>672</td>\n",
       "    </tr>\n",
       "  </tbody>\n",
       "</table>\n",
       "</div>"
      ],
      "text/plain": [
       "        name               IUPAC  nC   mp   bp\n",
       "0   N-alkane             Methane   1 -183 -162\n",
       "1   N-alkane              Ethane   2 -183  -89\n",
       "2   N-alkane             Propane   3 -188  -42\n",
       "3   N-alkane            N-butane   4 -138   -1\n",
       "4   N-alkane           N-pentane   5 -130   36\n",
       "5   N-alkane            N-hexane   6  -95   69\n",
       "6   N-alkane           N-heptane   7  -91   98\n",
       "7   N-alkane            N-octane   8  -57  126\n",
       "8   N-alkane            N-nonane   9  -53  151\n",
       "9   N-alkane            N-decane  10  -30  174\n",
       "10  N-alkane          N-undecane  11  -26  196\n",
       "11  N-alkane          N-dodecane  12  -10  216\n",
       "12  N-alkane         N-tridecane  13   -5  235\n",
       "13  N-alkane       N-tetradecane  14    6  254\n",
       "14  N-alkane       N-pentadecane  15   15  270\n",
       "15  N-alkane        N-hexadecane  16   18  287\n",
       "16  N-alkane       N-heptadecane  17   22  303\n",
       "17  N-alkane        N-octadecane  18   28  316\n",
       "18  N-alkane        N-nonadecane  19   32  330\n",
       "19  N-alkane          N-eicosane  20   37  344\n",
       "20  N-alkane       N-heneicosane  21   40  359\n",
       "21  N-alkane          N-docosane  22   44  369\n",
       "22  N-alkane         N-tricosane  23   47  381\n",
       "23  N-alkane       N-tetracosane  24   50  391\n",
       "24  N-alkane       N-pentacosane  25   53  402\n",
       "25  N-alkane        N-hexacosane  26   56  415\n",
       "26  N-alkane       N-heptacosane  27   59  422\n",
       "27  N-alkane        N-octacosane  28   61  435\n",
       "28  N-alkane        N-nonacosane  29   64  443\n",
       "29  N-alkane       N-triacontane  30   66  451\n",
       "30  N-alkane    N-hentriacontane  31   68  458\n",
       "31  N-alkane     N-dotriacontane  32   70  470\n",
       "32  N-alkane  N-pentatriacontane  35   74  489\n",
       "33  N-alkane      N-tetracontane  40   81  522\n",
       "34  N-alkane      N-pentacontane  50   92  575\n",
       "35  N-alkane       N-hexacontane  60  100  625\n",
       "36  N-alkane      N-heptacontane  70  106  647\n",
       "37  N-alkane       N-octacontane  80  112  672"
      ]
     },
     "execution_count": 3,
     "metadata": {},
     "output_type": "execute_result"
    }
   ],
   "source": [
    "hc_df"
   ]
  },
  {
   "cell_type": "code",
   "execution_count": 4,
   "id": "7bd6a7b6",
   "metadata": {},
   "outputs": [
    {
     "data": {
      "text/html": [
       "<div>\n",
       "<style scoped>\n",
       "    .dataframe tbody tr th:only-of-type {\n",
       "        vertical-align: middle;\n",
       "    }\n",
       "\n",
       "    .dataframe tbody tr th {\n",
       "        vertical-align: top;\n",
       "    }\n",
       "\n",
       "    .dataframe thead th {\n",
       "        text-align: right;\n",
       "    }\n",
       "</style>\n",
       "<table border=\"1\" class=\"dataframe\">\n",
       "  <thead>\n",
       "    <tr style=\"text-align: right;\">\n",
       "      <th></th>\n",
       "      <th>name</th>\n",
       "      <th>IUPAC</th>\n",
       "      <th>nC</th>\n",
       "      <th>mp</th>\n",
       "      <th>bp</th>\n",
       "    </tr>\n",
       "  </thead>\n",
       "  <tbody>\n",
       "    <tr>\n",
       "      <th>0</th>\n",
       "      <td>N-alkane</td>\n",
       "      <td>Methane</td>\n",
       "      <td>1</td>\n",
       "      <td>-183</td>\n",
       "      <td>-162</td>\n",
       "    </tr>\n",
       "    <tr>\n",
       "      <th>1</th>\n",
       "      <td>N-alkane</td>\n",
       "      <td>Ethane</td>\n",
       "      <td>2</td>\n",
       "      <td>-183</td>\n",
       "      <td>-89</td>\n",
       "    </tr>\n",
       "    <tr>\n",
       "      <th>2</th>\n",
       "      <td>N-alkane</td>\n",
       "      <td>Propane</td>\n",
       "      <td>3</td>\n",
       "      <td>-188</td>\n",
       "      <td>-42</td>\n",
       "    </tr>\n",
       "    <tr>\n",
       "      <th>3</th>\n",
       "      <td>N-alkane</td>\n",
       "      <td>N-butane</td>\n",
       "      <td>4</td>\n",
       "      <td>-138</td>\n",
       "      <td>-1</td>\n",
       "    </tr>\n",
       "    <tr>\n",
       "      <th>4</th>\n",
       "      <td>N-alkane</td>\n",
       "      <td>N-pentane</td>\n",
       "      <td>5</td>\n",
       "      <td>-130</td>\n",
       "      <td>36</td>\n",
       "    </tr>\n",
       "  </tbody>\n",
       "</table>\n",
       "</div>"
      ],
      "text/plain": [
       "       name      IUPAC  nC   mp   bp\n",
       "0  N-alkane    Methane   1 -183 -162\n",
       "1  N-alkane     Ethane   2 -183  -89\n",
       "2  N-alkane    Propane   3 -188  -42\n",
       "3  N-alkane   N-butane   4 -138   -1\n",
       "4  N-alkane  N-pentane   5 -130   36"
      ]
     },
     "execution_count": 4,
     "metadata": {},
     "output_type": "execute_result"
    }
   ],
   "source": [
    "hc_df.head()"
   ]
  },
  {
   "cell_type": "code",
   "execution_count": 5,
   "id": "311f86d8",
   "metadata": {},
   "outputs": [
    {
     "data": {
      "text/html": [
       "<div>\n",
       "<style scoped>\n",
       "    .dataframe tbody tr th:only-of-type {\n",
       "        vertical-align: middle;\n",
       "    }\n",
       "\n",
       "    .dataframe tbody tr th {\n",
       "        vertical-align: top;\n",
       "    }\n",
       "\n",
       "    .dataframe thead th {\n",
       "        text-align: right;\n",
       "    }\n",
       "</style>\n",
       "<table border=\"1\" class=\"dataframe\">\n",
       "  <thead>\n",
       "    <tr style=\"text-align: right;\">\n",
       "      <th></th>\n",
       "      <th>name</th>\n",
       "      <th>IUPAC</th>\n",
       "      <th>nC</th>\n",
       "      <th>mp</th>\n",
       "      <th>bp</th>\n",
       "    </tr>\n",
       "  </thead>\n",
       "  <tbody>\n",
       "    <tr>\n",
       "      <th>33</th>\n",
       "      <td>N-alkane</td>\n",
       "      <td>N-tetracontane</td>\n",
       "      <td>40</td>\n",
       "      <td>81</td>\n",
       "      <td>522</td>\n",
       "    </tr>\n",
       "    <tr>\n",
       "      <th>34</th>\n",
       "      <td>N-alkane</td>\n",
       "      <td>N-pentacontane</td>\n",
       "      <td>50</td>\n",
       "      <td>92</td>\n",
       "      <td>575</td>\n",
       "    </tr>\n",
       "    <tr>\n",
       "      <th>35</th>\n",
       "      <td>N-alkane</td>\n",
       "      <td>N-hexacontane</td>\n",
       "      <td>60</td>\n",
       "      <td>100</td>\n",
       "      <td>625</td>\n",
       "    </tr>\n",
       "    <tr>\n",
       "      <th>36</th>\n",
       "      <td>N-alkane</td>\n",
       "      <td>N-heptacontane</td>\n",
       "      <td>70</td>\n",
       "      <td>106</td>\n",
       "      <td>647</td>\n",
       "    </tr>\n",
       "    <tr>\n",
       "      <th>37</th>\n",
       "      <td>N-alkane</td>\n",
       "      <td>N-octacontane</td>\n",
       "      <td>80</td>\n",
       "      <td>112</td>\n",
       "      <td>672</td>\n",
       "    </tr>\n",
       "  </tbody>\n",
       "</table>\n",
       "</div>"
      ],
      "text/plain": [
       "        name           IUPAC  nC   mp   bp\n",
       "33  N-alkane  N-tetracontane  40   81  522\n",
       "34  N-alkane  N-pentacontane  50   92  575\n",
       "35  N-alkane   N-hexacontane  60  100  625\n",
       "36  N-alkane  N-heptacontane  70  106  647\n",
       "37  N-alkane   N-octacontane  80  112  672"
      ]
     },
     "execution_count": 5,
     "metadata": {},
     "output_type": "execute_result"
    }
   ],
   "source": [
    "hc_df.tail()"
   ]
  },
  {
   "cell_type": "code",
   "execution_count": 6,
   "id": "9d21cda6",
   "metadata": {},
   "outputs": [
    {
     "data": {
      "text/html": [
       "<div>\n",
       "<style scoped>\n",
       "    .dataframe tbody tr th:only-of-type {\n",
       "        vertical-align: middle;\n",
       "    }\n",
       "\n",
       "    .dataframe tbody tr th {\n",
       "        vertical-align: top;\n",
       "    }\n",
       "\n",
       "    .dataframe thead th {\n",
       "        text-align: right;\n",
       "    }\n",
       "</style>\n",
       "<table border=\"1\" class=\"dataframe\">\n",
       "  <thead>\n",
       "    <tr style=\"text-align: right;\">\n",
       "      <th></th>\n",
       "      <th>nC</th>\n",
       "      <th>mp</th>\n",
       "      <th>bp</th>\n",
       "    </tr>\n",
       "  </thead>\n",
       "  <tbody>\n",
       "    <tr>\n",
       "      <th>count</th>\n",
       "      <td>38.000000</td>\n",
       "      <td>38.000000</td>\n",
       "      <td>38.000000</td>\n",
       "    </tr>\n",
       "    <tr>\n",
       "      <th>mean</th>\n",
       "      <td>22.710526</td>\n",
       "      <td>5.578947</td>\n",
       "      <td>306.236842</td>\n",
       "    </tr>\n",
       "    <tr>\n",
       "      <th>std</th>\n",
       "      <td>18.058326</td>\n",
       "      <td>83.834338</td>\n",
       "      <td>203.578318</td>\n",
       "    </tr>\n",
       "    <tr>\n",
       "      <th>min</th>\n",
       "      <td>1.000000</td>\n",
       "      <td>-188.000000</td>\n",
       "      <td>-162.000000</td>\n",
       "    </tr>\n",
       "    <tr>\n",
       "      <th>25%</th>\n",
       "      <td>10.250000</td>\n",
       "      <td>-29.000000</td>\n",
       "      <td>179.500000</td>\n",
       "    </tr>\n",
       "    <tr>\n",
       "      <th>50%</th>\n",
       "      <td>19.500000</td>\n",
       "      <td>34.500000</td>\n",
       "      <td>337.000000</td>\n",
       "    </tr>\n",
       "    <tr>\n",
       "      <th>75%</th>\n",
       "      <td>28.750000</td>\n",
       "      <td>63.250000</td>\n",
       "      <td>441.000000</td>\n",
       "    </tr>\n",
       "    <tr>\n",
       "      <th>max</th>\n",
       "      <td>80.000000</td>\n",
       "      <td>112.000000</td>\n",
       "      <td>672.000000</td>\n",
       "    </tr>\n",
       "  </tbody>\n",
       "</table>\n",
       "</div>"
      ],
      "text/plain": [
       "              nC          mp          bp\n",
       "count  38.000000   38.000000   38.000000\n",
       "mean   22.710526    5.578947  306.236842\n",
       "std    18.058326   83.834338  203.578318\n",
       "min     1.000000 -188.000000 -162.000000\n",
       "25%    10.250000  -29.000000  179.500000\n",
       "50%    19.500000   34.500000  337.000000\n",
       "75%    28.750000   63.250000  441.000000\n",
       "max    80.000000  112.000000  672.000000"
      ]
     },
     "execution_count": 6,
     "metadata": {},
     "output_type": "execute_result"
    }
   ],
   "source": [
    "hc_df.describe()"
   ]
  },
  {
   "cell_type": "code",
   "execution_count": 7,
   "id": "f4c5a43d",
   "metadata": {},
   "outputs": [],
   "source": [
    "x, y = hc_df['nC'], hc_df['bp']"
   ]
  },
  {
   "cell_type": "code",
   "execution_count": 8,
   "id": "4d90d25f",
   "metadata": {},
   "outputs": [
    {
     "data": {
      "text/plain": [
       "0      1\n",
       "1      2\n",
       "2      3\n",
       "3      4\n",
       "4      5\n",
       "5      6\n",
       "6      7\n",
       "7      8\n",
       "8      9\n",
       "9     10\n",
       "10    11\n",
       "11    12\n",
       "12    13\n",
       "13    14\n",
       "14    15\n",
       "15    16\n",
       "16    17\n",
       "17    18\n",
       "18    19\n",
       "19    20\n",
       "20    21\n",
       "21    22\n",
       "22    23\n",
       "23    24\n",
       "24    25\n",
       "25    26\n",
       "26    27\n",
       "27    28\n",
       "28    29\n",
       "29    30\n",
       "30    31\n",
       "31    32\n",
       "32    35\n",
       "33    40\n",
       "34    50\n",
       "35    60\n",
       "36    70\n",
       "37    80\n",
       "Name: nC, dtype: int64"
      ]
     },
     "execution_count": 8,
     "metadata": {},
     "output_type": "execute_result"
    }
   ],
   "source": [
    "x"
   ]
  },
  {
   "cell_type": "code",
   "execution_count": 9,
   "id": "ee6d9728",
   "metadata": {},
   "outputs": [
    {
     "data": {
      "text/plain": [
       "0    -162\n",
       "1     -89\n",
       "2     -42\n",
       "3      -1\n",
       "4      36\n",
       "5      69\n",
       "6      98\n",
       "7     126\n",
       "8     151\n",
       "9     174\n",
       "10    196\n",
       "11    216\n",
       "12    235\n",
       "13    254\n",
       "14    270\n",
       "15    287\n",
       "16    303\n",
       "17    316\n",
       "18    330\n",
       "19    344\n",
       "20    359\n",
       "21    369\n",
       "22    381\n",
       "23    391\n",
       "24    402\n",
       "25    415\n",
       "26    422\n",
       "27    435\n",
       "28    443\n",
       "29    451\n",
       "30    458\n",
       "31    470\n",
       "32    489\n",
       "33    522\n",
       "34    575\n",
       "35    625\n",
       "36    647\n",
       "37    672\n",
       "Name: bp, dtype: int64"
      ]
     },
     "execution_count": 9,
     "metadata": {},
     "output_type": "execute_result"
    }
   ],
   "source": [
    "y"
   ]
  },
  {
   "cell_type": "code",
   "execution_count": 10,
   "id": "508bedd5",
   "metadata": {},
   "outputs": [
    {
     "data": {
      "text/plain": [
       "<matplotlib.collections.PathCollection at 0x2729ae05148>"
      ]
     },
     "execution_count": 10,
     "metadata": {},
     "output_type": "execute_result"
    },
    {
     "data": {
      "image/png": "[encoded data removed]",
      "text/plain": [
       "<Figure size 432x288 with 1 Axes>"
      ]
     },
     "metadata": {
      "needs_background": "light"
     },
     "output_type": "display_data"
    }
   ],
   "source": [
    "plt.scatter(x, y)"
   ]
  },
  {
   "cell_type": "code",
   "execution_count": 11,
   "id": "e19b954d",
   "metadata": {},
   "outputs": [
    {
     "data": {
      "text/plain": [
       "Text(0.5, 1.0, 'Boiling points of linear hydrocarbons')"
      ]
     },
     "execution_count": 11,
     "metadata": {},
     "output_type": "execute_result"
    },
    {
     "data": {
      "image/png": "[encoded data removed]",
      "text/plain": [
       "<Figure size 432x288 with 1 Axes>"
      ]
     },
     "metadata": {
      "needs_background": "light"
     },
     "output_type": "display_data"
    }
   ],
   "source": [
    "fig, ax = plt.subplots()\n",
    "ax.scatter(x, y)\n",
    "ax.set_xlabel('No. Carbon atoms')\n",
    "ax.set_ylabel('Boiling point /K')\n",
    "ax.set_title('Boiling points of linear hydrocarbons')"
   ]
  },
  {
   "cell_type": "markdown",
   "id": "3a1a19b4",
   "metadata": {},
   "source": [
    "Going to just pull the columns we want"
   ]
  },
  {
   "cell_type": "code",
   "execution_count": 12,
   "id": "598a1bc2",
   "metadata": {},
   "outputs": [
    {
     "data": {
      "text/html": [
       "<div>\n",
       "<style scoped>\n",
       "    .dataframe tbody tr th:only-of-type {\n",
       "        vertical-align: middle;\n",
       "    }\n",
       "\n",
       "    .dataframe tbody tr th {\n",
       "        vertical-align: top;\n",
       "    }\n",
       "\n",
       "    .dataframe thead th {\n",
       "        text-align: right;\n",
       "    }\n",
       "</style>\n",
       "<table border=\"1\" class=\"dataframe\">\n",
       "  <thead>\n",
       "    <tr style=\"text-align: right;\">\n",
       "      <th></th>\n",
       "      <th>nC</th>\n",
       "      <th>bp</th>\n",
       "    </tr>\n",
       "  </thead>\n",
       "  <tbody>\n",
       "    <tr>\n",
       "      <th>0</th>\n",
       "      <td>1</td>\n",
       "      <td>-162</td>\n",
       "    </tr>\n",
       "    <tr>\n",
       "      <th>1</th>\n",
       "      <td>2</td>\n",
       "      <td>-89</td>\n",
       "    </tr>\n",
       "    <tr>\n",
       "      <th>2</th>\n",
       "      <td>3</td>\n",
       "      <td>-42</td>\n",
       "    </tr>\n",
       "    <tr>\n",
       "      <th>3</th>\n",
       "      <td>4</td>\n",
       "      <td>-1</td>\n",
       "    </tr>\n",
       "    <tr>\n",
       "      <th>4</th>\n",
       "      <td>5</td>\n",
       "      <td>36</td>\n",
       "    </tr>\n",
       "    <tr>\n",
       "      <th>5</th>\n",
       "      <td>6</td>\n",
       "      <td>69</td>\n",
       "    </tr>\n",
       "    <tr>\n",
       "      <th>6</th>\n",
       "      <td>7</td>\n",
       "      <td>98</td>\n",
       "    </tr>\n",
       "    <tr>\n",
       "      <th>7</th>\n",
       "      <td>8</td>\n",
       "      <td>126</td>\n",
       "    </tr>\n",
       "    <tr>\n",
       "      <th>8</th>\n",
       "      <td>9</td>\n",
       "      <td>151</td>\n",
       "    </tr>\n",
       "    <tr>\n",
       "      <th>9</th>\n",
       "      <td>10</td>\n",
       "      <td>174</td>\n",
       "    </tr>\n",
       "    <tr>\n",
       "      <th>10</th>\n",
       "      <td>11</td>\n",
       "      <td>196</td>\n",
       "    </tr>\n",
       "    <tr>\n",
       "      <th>11</th>\n",
       "      <td>12</td>\n",
       "      <td>216</td>\n",
       "    </tr>\n",
       "    <tr>\n",
       "      <th>12</th>\n",
       "      <td>13</td>\n",
       "      <td>235</td>\n",
       "    </tr>\n",
       "    <tr>\n",
       "      <th>13</th>\n",
       "      <td>14</td>\n",
       "      <td>254</td>\n",
       "    </tr>\n",
       "    <tr>\n",
       "      <th>14</th>\n",
       "      <td>15</td>\n",
       "      <td>270</td>\n",
       "    </tr>\n",
       "    <tr>\n",
       "      <th>15</th>\n",
       "      <td>16</td>\n",
       "      <td>287</td>\n",
       "    </tr>\n",
       "    <tr>\n",
       "      <th>16</th>\n",
       "      <td>17</td>\n",
       "      <td>303</td>\n",
       "    </tr>\n",
       "    <tr>\n",
       "      <th>17</th>\n",
       "      <td>18</td>\n",
       "      <td>316</td>\n",
       "    </tr>\n",
       "    <tr>\n",
       "      <th>18</th>\n",
       "      <td>19</td>\n",
       "      <td>330</td>\n",
       "    </tr>\n",
       "    <tr>\n",
       "      <th>19</th>\n",
       "      <td>20</td>\n",
       "      <td>344</td>\n",
       "    </tr>\n",
       "    <tr>\n",
       "      <th>20</th>\n",
       "      <td>21</td>\n",
       "      <td>359</td>\n",
       "    </tr>\n",
       "    <tr>\n",
       "      <th>21</th>\n",
       "      <td>22</td>\n",
       "      <td>369</td>\n",
       "    </tr>\n",
       "    <tr>\n",
       "      <th>22</th>\n",
       "      <td>23</td>\n",
       "      <td>381</td>\n",
       "    </tr>\n",
       "    <tr>\n",
       "      <th>23</th>\n",
       "      <td>24</td>\n",
       "      <td>391</td>\n",
       "    </tr>\n",
       "    <tr>\n",
       "      <th>24</th>\n",
       "      <td>25</td>\n",
       "      <td>402</td>\n",
       "    </tr>\n",
       "    <tr>\n",
       "      <th>25</th>\n",
       "      <td>26</td>\n",
       "      <td>415</td>\n",
       "    </tr>\n",
       "    <tr>\n",
       "      <th>26</th>\n",
       "      <td>27</td>\n",
       "      <td>422</td>\n",
       "    </tr>\n",
       "    <tr>\n",
       "      <th>27</th>\n",
       "      <td>28</td>\n",
       "      <td>435</td>\n",
       "    </tr>\n",
       "    <tr>\n",
       "      <th>28</th>\n",
       "      <td>29</td>\n",
       "      <td>443</td>\n",
       "    </tr>\n",
       "    <tr>\n",
       "      <th>29</th>\n",
       "      <td>30</td>\n",
       "      <td>451</td>\n",
       "    </tr>\n",
       "    <tr>\n",
       "      <th>30</th>\n",
       "      <td>31</td>\n",
       "      <td>458</td>\n",
       "    </tr>\n",
       "    <tr>\n",
       "      <th>31</th>\n",
       "      <td>32</td>\n",
       "      <td>470</td>\n",
       "    </tr>\n",
       "    <tr>\n",
       "      <th>32</th>\n",
       "      <td>35</td>\n",
       "      <td>489</td>\n",
       "    </tr>\n",
       "    <tr>\n",
       "      <th>33</th>\n",
       "      <td>40</td>\n",
       "      <td>522</td>\n",
       "    </tr>\n",
       "    <tr>\n",
       "      <th>34</th>\n",
       "      <td>50</td>\n",
       "      <td>575</td>\n",
       "    </tr>\n",
       "    <tr>\n",
       "      <th>35</th>\n",
       "      <td>60</td>\n",
       "      <td>625</td>\n",
       "    </tr>\n",
       "    <tr>\n",
       "      <th>36</th>\n",
       "      <td>70</td>\n",
       "      <td>647</td>\n",
       "    </tr>\n",
       "    <tr>\n",
       "      <th>37</th>\n",
       "      <td>80</td>\n",
       "      <td>672</td>\n",
       "    </tr>\n",
       "  </tbody>\n",
       "</table>\n",
       "</div>"
      ],
      "text/plain": [
       "    nC   bp\n",
       "0    1 -162\n",
       "1    2  -89\n",
       "2    3  -42\n",
       "3    4   -1\n",
       "4    5   36\n",
       "5    6   69\n",
       "6    7   98\n",
       "7    8  126\n",
       "8    9  151\n",
       "9   10  174\n",
       "10  11  196\n",
       "11  12  216\n",
       "12  13  235\n",
       "13  14  254\n",
       "14  15  270\n",
       "15  16  287\n",
       "16  17  303\n",
       "17  18  316\n",
       "18  19  330\n",
       "19  20  344\n",
       "20  21  359\n",
       "21  22  369\n",
       "22  23  381\n",
       "23  24  391\n",
       "24  25  402\n",
       "25  26  415\n",
       "26  27  422\n",
       "27  28  435\n",
       "28  29  443\n",
       "29  30  451\n",
       "30  31  458\n",
       "31  32  470\n",
       "32  35  489\n",
       "33  40  522\n",
       "34  50  575\n",
       "35  60  625\n",
       "36  70  647\n",
       "37  80  672"
      ]
     },
     "execution_count": 12,
     "metadata": {},
     "output_type": "execute_result"
    }
   ],
   "source": [
    "new_linear_regression_hc_df = hc_df[['nC', 'bp']].copy()\n",
    "new_linear_regression_hc_df"
   ]
  },
  {
   "cell_type": "code",
   "execution_count": 13,
   "id": "16b1a1c2",
   "metadata": {},
   "outputs": [],
   "source": [
    "new_lr_hc_df = new_linear_regression_hc_df\n",
    "\n",
    "x_LR = new_lr_hc_df.iloc[:, 0].values.reshape(-1, 1)\n",
    "y_LR = new_lr_hc_df.iloc[:, 1].values.reshape(-1, 1)"
   ]
  },
  {
   "cell_type": "markdown",
   "id": "9d0f8468",
   "metadata": {},
   "source": [
    "Can't just do a regression on all the data, otherwise we can't test it on new data (cause we don't have any!). So, we'll split up the data into *training* data and *testing* data."
   ]
  },
  {
   "cell_type": "code",
   "execution_count": 14,
   "id": "39019f8b",
   "metadata": {},
   "outputs": [],
   "source": [
    "x_train, x_test, y_train, y_test = train_test_split(x_LR, y_LR, test_size = 0.1, random_state = 0)\n",
    "# test_size gives the proportion of the data that will be used for testing as opposed to training"
   ]
  },
  {
   "cell_type": "code",
   "execution_count": 15,
   "id": "8ae72a7d",
   "metadata": {},
   "outputs": [
    {
     "data": {
      "text/plain": [
       "LinearRegression()"
      ]
     },
     "execution_count": 15,
     "metadata": {},
     "output_type": "execute_result"
    }
   ],
   "source": [
    "regressor = LinearRegression()\n",
    "regressor.fit(x_train, y_train)"
   ]
  },
  {
   "cell_type": "code",
   "execution_count": 16,
   "id": "cd49cb27",
   "metadata": {},
   "outputs": [
    {
     "name": "stdout",
     "output_type": "stream",
     "text": [
      "[69.58791912]\n",
      "[[10.10168694]]\n"
     ]
    }
   ],
   "source": [
    "print(regressor.intercept_)\n",
    "print(regressor.coef_)"
   ]
  },
  {
   "cell_type": "code",
   "execution_count": 17,
   "id": "9664d679",
   "metadata": {},
   "outputs": [],
   "source": [
    "y_pred = regressor.predict(x_test)"
   ]
  },
  {
   "cell_type": "code",
   "execution_count": 18,
   "id": "da49455a",
   "metadata": {},
   "outputs": [
    {
     "data": {
      "text/plain": [
       "[<matplotlib.lines.Line2D at 0x2729b65a7c8>]"
      ]
     },
     "execution_count": 18,
     "metadata": {},
     "output_type": "execute_result"
    },
    {
     "data": {
      "image/png": "[encoded data removed]",
      "text/plain": [
       "<Figure size 432x288 with 1 Axes>"
      ]
     },
     "metadata": {
      "needs_background": "light"
     },
     "output_type": "display_data"
    }
   ],
   "source": [
    "plt.scatter(x_test, y_test)\n",
    "plt.plot(x_test, y_pred, color = 'red')"
   ]
  },
  {
   "cell_type": "code",
   "execution_count": 19,
   "id": "c6a0ed60",
   "metadata": {},
   "outputs": [
    {
     "data": {
      "text/plain": [
       "Text(0.5, 1.0, 'Predictions of boiling points using linear regression')"
      ]
     },
     "execution_count": 19,
     "metadata": {},
     "output_type": "execute_result"
    },
    {
     "data": {
      "image/png": "[encoded data removed]",
      "text/plain": [
       "<Figure size 432x288 with 1 Axes>"
      ]
     },
     "metadata": {
      "needs_background": "light"
     },
     "output_type": "display_data"
    }
   ],
   "source": [
    "fig_1, ax_1 = plt.subplots()\n",
    "ax_1.scatter(x_test, y_test)\n",
    "plt.plot(x_test, y_pred, color = 'red')\n",
    "ax_1.set_xlabel('No. Carbon atoms')\n",
    "ax_1.set_ylabel('Boiling point /K')\n",
    "ax_1.set_title('Predictions of boiling points using linear regression')"
   ]
  },
  {
   "cell_type": "markdown",
   "id": "a7293d21",
   "metadata": {},
   "source": [
    "## Multilinear regresssion test"
   ]
  },
  {
   "cell_type": "code",
   "execution_count": 20,
   "id": "ce795841",
   "metadata": {},
   "outputs": [],
   "source": [
    "x_mr_df = hc_df[['nC', 'mp']]\n",
    "y_mr_df = hc_df['bp']"
   ]
  },
  {
   "cell_type": "code",
   "execution_count": 24,
   "id": "b39cbd42",
   "metadata": {},
   "outputs": [],
   "source": [
    "mr_regressor = LinearRegression()"
   ]
  },
  {
   "cell_type": "code",
   "execution_count": 25,
   "id": "56efdafa",
   "metadata": {},
   "outputs": [
    {
     "data": {
      "text/plain": [
       "LinearRegression()"
      ]
     },
     "execution_count": 25,
     "metadata": {},
     "output_type": "execute_result"
    }
   ],
   "source": [
    "mr_regressor.fit(x_mr_df, y_mr_df)"
   ]
  },
  {
   "cell_type": "code",
   "execution_count": 26,
   "id": "81fc402d",
   "metadata": {},
   "outputs": [
    {
     "name": "stdout",
     "output_type": "stream",
     "text": [
      "Intercept: \n",
      " 208.27904270615383\n",
      "Coefficients: \n",
      " [3.89548558 1.70090716]\n"
     ]
    }
   ],
   "source": [
    "print('Intercept: \\n', mr_regressor.intercept_)\n",
    "print('Coefficients: \\n', mr_regressor.coef_)"
   ]
  },
  {
   "cell_type": "code",
   "execution_count": 29,
   "id": "3110755a",
   "metadata": {},
   "outputs": [],
   "source": [
    "x_mr_df = sm.add_constant(x_mr_df)"
   ]
  },
  {
   "cell_type": "code",
   "execution_count": 30,
   "id": "5db7eff0",
   "metadata": {},
   "outputs": [],
   "source": [
    "model = sm.OLS(y_mr_df, x_mr_df).fit()"
   ]
  },
  {
   "cell_type": "code",
   "execution_count": 31,
   "id": "db4d4d45",
   "metadata": {},
   "outputs": [],
   "source": [
    "predictions = model.predict(x_mr_df)"
   ]
  },
  {
   "cell_type": "code",
   "execution_count": 32,
   "id": "e10d9371",
   "metadata": {},
   "outputs": [
    {
     "name": "stdout",
     "output_type": "stream",
     "text": [
      "                            OLS Regression Results                            \n",
      "==============================================================================\n",
      "Dep. Variable:                     bp   R-squared:                       0.990\n",
      "Model:                            OLS   Adj. R-squared:                  0.989\n",
      "Method:                 Least Squares   F-statistic:                     1699.\n",
      "Date:                Thu, 29 Jul 2021   Prob (F-statistic):           1.40e-35\n",
      "Time:                        13:12:19   Log-Likelihood:                -168.29\n",
      "No. Observations:                  38   AIC:                             342.6\n",
      "Df Residuals:                      35   BIC:                             347.5\n",
      "Df Model:                           2                                         \n",
      "Covariance Type:            nonrobust                                         \n",
      "==============================================================================\n",
      "                 coef    std err          t      P>|t|      [0.025      0.975]\n",
      "------------------------------------------------------------------------------\n",
      "const        208.2790      7.578     27.485      0.000     192.895     223.663\n",
      "nC             3.8955      0.310     12.555      0.000       3.266       4.525\n",
      "mp             1.7009      0.067     25.449      0.000       1.565       1.837\n",
      "==============================================================================\n",
      "Omnibus:                        5.804   Durbin-Watson:                   0.961\n",
      "Prob(Omnibus):                  0.055   Jarque-Bera (JB):                6.402\n",
      "Skew:                          -0.315   Prob(JB):                       0.0407\n",
      "Kurtosis:                       4.909   Cond. No.                         187.\n",
      "==============================================================================\n",
      "\n",
      "Notes:\n",
      "[1] Standard Errors assume that the covariance matrix of the errors is correctly specified.\n"
     ]
    }
   ],
   "source": [
    "print(model.summary())"
   ]
  },
  {
   "cell_type": "code",
   "execution_count": 34,
   "id": "e44528e2",
   "metadata": {},
   "outputs": [
    {
     "data": {
      "text/plain": [
       "<matplotlib.collections.PathCollection at 0x2729c894408>"
      ]
     },
     "execution_count": 34,
     "metadata": {},
     "output_type": "execute_result"
    },
    {
     "data": {
      "image/png": "[encoded data removed]",
      "text/plain": [
       "<Figure size 432x288 with 1 Axes>"
      ]
     },
     "metadata": {
      "needs_background": "light"
     },
     "output_type": "display_data"
    }
   ],
   "source": [
    "plt.scatter(x, y)\n",
    "plt.scatter(range(len(predictions)), predictions)"
   ]
  },
  {
   "cell_type": "code",
   "execution_count": 36,
   "id": "2d0f98ff",
   "metadata": {},
   "outputs": [
    {
     "data": {
      "text/plain": [
       "Text(0.5, 1.0, 'Predictions of boiling points using multilinear regression')"
      ]
     },
     "execution_count": 36,
     "metadata": {},
     "output_type": "execute_result"
    },
    {
     "data": {
      "image/png": "[encoded data removed]",
      "text/plain": [
       "<Figure size 432x288 with 1 Axes>"
      ]
     },
     "metadata": {
      "needs_background": "light"
     },
     "output_type": "display_data"
    }
   ],
   "source": [
    "fig_2, ax_2 = plt.subplots()\n",
    "ax_2.scatter(x, y)\n",
    "plt.scatter(range(len(predictions)), predictions)\n",
    "ax_2.set_xlabel('No. Carbon atoms')\n",
    "ax_2.set_ylabel('Boiling point /K')\n",
    "ax_2.set_title('Predictions of boiling points using multilinear regression')"
   ]
  },
  {
   "cell_type": "code",
   "execution_count": null,
   "id": "8eeeceb6",
   "metadata": {},
   "outputs": [],
   "source": []
  }
 ],
 "metadata": {
  "kernelspec": {
   "display_name": "Python 3",
   "language": "python",
   "name": "python3"
  },
  "language_info": {
   "codemirror_mode": {
    "name": "ipython",
    "version": 3
   },
   "file_extension": ".py",
   "mimetype": "text/x-python",
   "name": "python",
   "nbconvert_exporter": "python",
   "pygments_lexer": "ipython3",
   "version": "3.7.10"
  }
 },
 "nbformat": 4,
 "nbformat_minor": 5
}
