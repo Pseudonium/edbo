{
 "cells": [
  {
   "cell_type": "markdown",
   "id": "642116c9",
   "metadata": {},
   "source": [
    "File for loading data given a text string"
   ]
  },
  {
   "cell_type": "code",
   "execution_count": 1,
   "id": "46cce6c2",
   "metadata": {},
   "outputs": [],
   "source": [
    "import pandas as pd\n",
    "import itertools"
   ]
  },
  {
   "cell_type": "markdown",
   "id": "107b09c4",
   "metadata": {},
   "source": [
    "The following file will be used to hold summary statistics of running the optimiser various times with different configurations."
   ]
  },
  {
   "cell_type": "code",
   "execution_count": 2,
   "id": "34c338d4",
   "metadata": {},
   "outputs": [],
   "source": [
    "output_file = ''\n",
    "output_file += 'filename,mean yield,standard deviation,average loss, worst-case loss\\n'\n",
    "output_filename = \"Optimiser Summary Statistics.csv\""
   ]
  },
  {
   "cell_type": "code",
   "execution_count": 3,
   "id": "44c651dc",
   "metadata": {},
   "outputs": [],
   "source": [
    "def update_output_file_with_data(filename, output_file, max_yield=100.0):\n",
    "    \"\"\"\n",
    "    Update the output file with the data present in filename.\n",
    "    \n",
    "    \n",
    "    -------\n",
    "    Parameters:\n",
    "    \n",
    "    filename: string\n",
    "        Path to the file with the data. Format of file should be as follows:\n",
    "        seed,maximum_observed_yield\n",
    "        124142,99.4\n",
    "        092402,96.8\n",
    "        ...\n",
    "        \n",
    "    output_file: string\n",
    "        Current state of internal output file. Format described above\n",
    "    \n",
    "    max_yield: float\n",
    "        The maximum observed yield across all data points for this experiment.\n",
    "        Used in calculating average loss and worst-case loss\n",
    "    \"\"\"\n",
    "    \n",
    "    yields_df = pd.read_csv(filename)\n",
    "    \n",
    "    # Don't care about the seed column, only interested in the yields\n",
    "    yields_df = yields_df[['maximum observed yield']].copy()\n",
    "    \n",
    "    # Mean\n",
    "    average_yield = yields_df['maximum observed yield'].mean()\n",
    "    \n",
    "    # Standard deviation\n",
    "    std_yield = yields_df['maximum observed yield'].std()\n",
    "    \n",
    "    # Average loss\n",
    "    # This will be the average of {max_yield - yield}\n",
    "    # But that's simply max_yield - the average yield!\n",
    "    \n",
    "    average_loss = max_yield - average_yield\n",
    "    \n",
    "    # Worst-case loss\n",
    "    # This is the maximum of max_yield - yield\n",
    "    # But that's simply max_yield - min(yield)\n",
    "    \n",
    "    worst_loss = max_yield - yields_df['maximum observed yield'].min()\n",
    "    \n",
    "    # Now add to the file, and return\n",
    "    \n",
    "    output_file += f\"{filename},{average_yield:.2f},{std_yield:.2f},{average_loss:.2f},{worst_loss:.2f}\\n\"\n",
    "    return output_file"
   ]
  },
  {
   "cell_type": "markdown",
   "id": "81b8b078",
   "metadata": {},
   "source": [
    "Now let's run it on all the desired files"
   ]
  },
  {
   "cell_type": "code",
   "execution_count": 4,
   "id": "32e012a2",
   "metadata": {},
   "outputs": [],
   "source": [
    "reaction_yields = {\n",
    "    'suzuki': 100.0,\n",
    "    'aryl_amination': 99.99999,\n",
    "    'direct_arylation': 100.0,\n",
    "}\n",
    "\n",
    "sampling_methods = [\n",
    "    'random',\n",
    "    'randomts',\n",
    "    'randomtsei'\n",
    "]\n",
    "\n",
    "batch_combinations = [\n",
    "    '1_25_50',\n",
    "    '1_50_50',\n",
    "    '2_24_50',\n",
    "    '2_50_50',\n",
    "    '3_24_50',\n",
    "    '3_51_50',\n",
    "    '4_24_50',\n",
    "    '4_48_50',\n",
    "    '5_25_50',\n",
    "    '5_50_50',\n",
    "    '10_50_50'\n",
    "]\n",
    "\n",
    "for reaction, sampling_method, batch_combination in itertools.product(reaction_yields.keys(), sampling_methods, batch_combinations):\n",
    "    try:\n",
    "        output_file = update_output_file_with_data(f\"{reaction}_{sampling_method}_{batch_combination}.csv\", output_file, max_yield = reaction_yields[reaction])\n",
    "    except FileNotFoundError as e:\n",
    "        print(\"Missing file: \", e)\n",
    "\n"
   ]
  },
  {
   "cell_type": "code",
   "execution_count": 5,
   "id": "9fc9a8b5",
   "metadata": {},
   "outputs": [
    {
     "data": {
      "text/plain": [
       "'filename,mean yield,standard deviation,average loss, worst-case loss\\nsuzuki_random_1_25_50.csv,97.52,1.62,2.48,6.31\\nsuzuki_random_1_50_50.csv,98.71,0.78,1.29,4.15\\nsuzuki_random_2_24_50.csv,97.41,1.68,2.59,7.18\\nsuzuki_random_2_50_50.csv,98.88,0.86,1.12,3.84\\nsuzuki_random_3_24_50.csv,97.73,1.78,2.27,6.72\\nsuzuki_random_3_51_50.csv,98.85,0.93,1.15,3.80\\nsuzuki_random_4_24_50.csv,97.48,1.83,2.52,7.12\\nsuzuki_random_4_48_50.csv,98.66,1.36,1.34,6.57\\nsuzuki_random_5_25_50.csv,97.30,2.24,2.70,11.63\\nsuzuki_random_5_50_50.csv,98.49,1.26,1.51,5.18\\nsuzuki_random_10_50_50.csv,98.92,0.85,1.08,3.96\\nsuzuki_randomts_1_25_50.csv,96.50,1.83,3.50,7.23\\nsuzuki_randomts_1_50_50.csv,98.25,1.29,1.75,5.67\\nsuzuki_randomts_2_24_50.csv,95.89,1.96,4.11,9.21\\nsuzuki_randomts_2_50_50.csv,98.16,1.46,1.84,6.27\\nsuzuki_randomts_3_24_50.csv,95.55,2.06,4.45,9.43\\nsuzuki_randomts_3_51_50.csv,98.41,1.11,1.59,5.18\\nsuzuki_randomts_4_24_50.csv,95.81,2.32,4.19,10.97\\nsuzuki_randomts_4_48_50.csv,98.27,1.35,1.73,5.67\\nsuzuki_randomts_5_25_50.csv,95.83,2.10,4.17,7.99\\nsuzuki_randomts_5_50_50.csv,98.24,1.70,1.76,5.67\\nsuzuki_randomts_10_50_50.csv,98.56,1.12,1.44,3.96\\nsuzuki_randomtsei_1_25_50.csv,95.68,2.97,4.32,17.93\\nsuzuki_randomtsei_1_50_50.csv,98.67,1.14,1.33,4.94\\nsuzuki_randomtsei_2_24_50.csv,96.98,1.83,3.02,7.30\\nsuzuki_randomtsei_2_50_50.csv,98.67,0.85,1.33,4.03\\nsuzuki_randomtsei_3_24_50.csv,97.14,1.90,2.86,7.18\\nsuzuki_randomtsei_3_51_50.csv,98.67,0.99,1.33,5.36\\nsuzuki_randomtsei_4_24_50.csv,97.57,1.93,2.43,12.76\\nsuzuki_randomtsei_4_48_50.csv,98.76,1.06,1.24,4.15\\nsuzuki_randomtsei_5_25_50.csv,97.29,1.65,2.71,6.22\\nsuzuki_randomtsei_5_50_50.csv,98.72,1.08,1.28,4.66\\nsuzuki_randomtsei_10_50_50.csv,98.71,1.36,1.29,5.43\\naryl_amination_random_1_25_50.csv,94.83,6.14,5.17,18.52\\naryl_amination_random_1_50_50.csv,99.01,2.44,0.99,16.06\\naryl_amination_random_2_24_50.csv,95.47,7.80,4.53,45.75\\naryl_amination_random_2_50_50.csv,98.19,3.95,1.81,16.06\\naryl_amination_random_3_24_50.csv,95.10,7.75,4.90,45.75\\naryl_amination_random_3_51_50.csv,98.71,3.30,1.29,16.90\\naryl_amination_random_4_24_50.csv,95.05,5.65,4.95,19.21\\naryl_amination_random_4_48_50.csv,98.73,2.73,1.27,16.06\\naryl_amination_random_5_25_50.csv,95.47,5.74,4.53,19.42\\naryl_amination_random_5_50_50.csv,98.06,4.09,1.94,14.11\\naryl_amination_random_10_50_50.csv,98.99,2.31,1.01,14.11\\naryl_amination_randomts_1_25_50.csv,91.44,6.96,8.56,24.94\\naryl_amination_randomts_1_50_50.csv,97.43,4.55,2.57,19.02\\naryl_amination_randomts_2_24_50.csv,91.79,4.66,8.21,19.84\\naryl_amination_randomts_2_50_50.csv,98.43,1.72,1.57,6.97\\naryl_amination_randomts_3_24_50.csv,93.46,5.12,6.54,24.96\\naryl_amination_randomts_3_51_50.csv,98.82,1.91,1.18,11.83\\naryl_amination_randomts_4_24_50.csv,91.99,5.52,8.01,20.34\\naryl_amination_randomts_4_48_50.csv,90.63,4.09,9.37,19.47\\naryl_amination_randomts_5_25_50.csv,93.36,5.25,6.64,25.30\\naryl_amination_randomts_5_50_50.csv,98.53,1.80,1.47,8.47\\naryl_amination_randomts_10_50_50.csv,98.79,2.04,1.21,14.00\\naryl_amination_randomtsei_1_25_50.csv,89.49,8.06,10.51,40.68\\naryl_amination_randomtsei_1_50_50.csv,97.84,3.31,2.16,16.06\\naryl_amination_randomtsei_2_24_50.csv,95.60,6.51,4.40,26.26\\naryl_amination_randomtsei_2_50_50.csv,98.65,2.42,1.35,14.11\\naryl_amination_randomtsei_3_24_50.csv,94.30,6.77,5.70,25.25\\naryl_amination_randomtsei_3_51_50.csv,98.67,2.38,1.33,14.11\\naryl_amination_randomtsei_4_24_50.csv,95.21,5.57,4.79,19.42\\naryl_amination_randomtsei_4_48_50.csv,98.92,2.24,1.08,13.40\\naryl_amination_randomtsei_5_25_50.csv,93.85,6.81,6.15,18.98\\naryl_amination_randomtsei_5_50_50.csv,97.71,4.87,2.29,16.90\\naryl_amination_randomtsei_10_50_50.csv,99.40,0.74,0.60,4.61\\ndirect_arylation_random_1_25_50.csv,97.50,5.87,2.50,21.56\\ndirect_arylation_random_1_50_50.csv,99.93,0.47,0.07,3.36\\ndirect_arylation_random_2_24_50.csv,97.09,8.13,2.91,47.80\\ndirect_arylation_random_2_50_50.csv,99.27,2.65,0.73,11.18\\ndirect_arylation_random_3_24_50.csv,97.43,5.14,2.57,20.24\\ndirect_arylation_random_3_51_50.csv,99.98,0.11,0.02,0.78\\ndirect_arylation_random_4_24_50.csv,97.29,5.60,2.71,19.35\\ndirect_arylation_random_4_48_50.csv,99.77,1.53,0.23,10.83\\ndirect_arylation_random_5_25_50.csv,95.85,7.10,4.15,33.10\\ndirect_arylation_random_5_50_50.csv,99.61,1.83,0.39,12.17\\ndirect_arylation_random_10_50_50.csv,99.74,1.64,0.26,11.59\\ndirect_arylation_randomts_1_25_50.csv,92.38,9.31,7.62,42.82\\ndirect_arylation_randomts_1_50_50.csv,98.00,5.59,2.00,33.10\\ndirect_arylation_randomts_2_24_50.csv,88.98,10.36,11.02,43.50\\ndirect_arylation_randomts_2_50_50.csv,96.78,5.04,3.22,15.38\\ndirect_arylation_randomts_3_24_50.csv,91.91,8.74,8.09,41.05\\ndirect_arylation_randomts_3_51_50.csv,98.20,4.56,1.80,19.14\\ndirect_arylation_randomts_4_24_50.csv,93.15,7.80,6.85,32.96\\ndirect_arylation_randomts_4_48_50.csv,98.33,3.77,1.67,10.83\\ndirect_arylation_randomts_5_25_50.csv,93.04,9.11,6.96,42.32\\ndirect_arylation_randomts_5_50_50.csv,98.56,3.40,1.44,11.59\\ndirect_arylation_randomts_10_50_50.csv,98.11,4.32,1.89,16.38\\ndirect_arylation_randomtsei_1_25_50.csv,94.37,7.65,5.63,42.32\\ndirect_arylation_randomtsei_1_50_50.csv,98.47,3.47,1.53,10.83\\ndirect_arylation_randomtsei_2_24_50.csv,92.43,9.79,7.57,45.45\\ndirect_arylation_randomtsei_2_50_50.csv,99.38,2.17,0.62,10.83\\ndirect_arylation_randomtsei_3_24_50.csv,96.13,7.04,3.87,33.10\\ndirect_arylation_randomtsei_3_51_50.csv,99.58,1.88,0.42,10.83\\ndirect_arylation_randomtsei_4_24_50.csv,97.05,6.14,2.95,30.74\\ndirect_arylation_randomtsei_4_48_50.csv,99.88,0.48,0.12,3.36\\ndirect_arylation_randomtsei_5_25_50.csv,95.16,7.62,4.84,30.87\\ndirect_arylation_randomtsei_5_50_50.csv,99.59,2.73,0.41,19.35\\ndirect_arylation_randomtsei_10_50_50.csv,99.27,2.54,0.73,13.86\\n'"
      ]
     },
     "execution_count": 5,
     "metadata": {},
     "output_type": "execute_result"
    }
   ],
   "source": [
    "output_file"
   ]
  },
  {
   "cell_type": "code",
   "execution_count": 6,
   "id": "7484a052",
   "metadata": {},
   "outputs": [],
   "source": [
    "with open(output_filename, 'w') as f:\n",
    "    f.write(output_file)"
   ]
  },
  {
   "cell_type": "code",
   "execution_count": null,
   "id": "e05586c8",
   "metadata": {},
   "outputs": [],
   "source": []
  }
 ],
 "metadata": {
  "kernelspec": {
   "display_name": "Python 3",
   "language": "python",
   "name": "python3"
  },
  "language_info": {
   "codemirror_mode": {
    "name": "ipython",
    "version": 3
   },
   "file_extension": ".py",
   "mimetype": "text/x-python",
   "name": "python",
   "nbconvert_exporter": "python",
   "pygments_lexer": "ipython3",
   "version": "3.7.10"
  }
 },
 "nbformat": 4,
 "nbformat_minor": 5
}
