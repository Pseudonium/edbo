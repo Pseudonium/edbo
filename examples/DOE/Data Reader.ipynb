{
 "cells": [
  {
   "cell_type": "markdown",
   "id": "642116c9",
   "metadata": {},
   "source": [
    "File for loading data given a text string"
   ]
  },
  {
   "cell_type": "code",
   "execution_count": 1,
   "id": "46cce6c2",
   "metadata": {},
   "outputs": [],
   "source": [
    "import pandas as pd\n",
    "import itertools"
   ]
  },
  {
   "cell_type": "markdown",
   "id": "107b09c4",
   "metadata": {},
   "source": [
    "The following file will be used to hold summary statistics of running the optimiser various times with different configurations."
   ]
  },
  {
   "cell_type": "code",
   "execution_count": 2,
   "id": "34c338d4",
   "metadata": {},
   "outputs": [],
   "source": [
    "output_file = ''\n",
    "output_file += 'reaction,sampling method,batch size,number of experiments,mean yield,standard deviation,average loss, worst-case loss\\n'\n",
    "output_filename = \"Optimiser Summary Statistics.csv\""
   ]
  },
  {
   "cell_type": "code",
   "execution_count": 3,
   "id": "44c651dc",
   "metadata": {},
   "outputs": [],
   "source": [
    "def get_summary_statistics(filename, max_yield=100.0):\n",
    "    \"\"\"\n",
    "    Return the summary statistics for the data present in filename.\n",
    "    \n",
    "    -------\n",
    "    Parameters:\n",
    "    \n",
    "    filename: string\n",
    "        Path to the file with the data. Format of file should be as follows:\n",
    "        seed,maximum_observed_yield\n",
    "        124142,99.4\n",
    "        092402,96.8\n",
    "        ...\n",
    "    \n",
    "    max_yield: float\n",
    "        The maximum observed yield across all data points for this experiment.\n",
    "        Used in calculating average loss and worst-case loss\n",
    "    \"\"\"\n",
    "    \n",
    "    yields_df = pd.read_csv(filename)\n",
    "    \n",
    "    # Don't care about the seed column, only interested in the yields\n",
    "    yields_df = yields_df[['maximum observed yield']].copy()\n",
    "    \n",
    "    # Mean\n",
    "    average_yield = yields_df['maximum observed yield'].mean()\n",
    "    \n",
    "    # Standard deviation\n",
    "    std_yield = yields_df['maximum observed yield'].std()\n",
    "    \n",
    "    # Average loss\n",
    "    # This will be the average of {max_yield - yield}\n",
    "    # But that's simply max_yield - the average yield!\n",
    "    \n",
    "    average_loss = max_yield - average_yield\n",
    "    \n",
    "    # Worst-case loss\n",
    "    # This is the maximum of max_yield - yield\n",
    "    # But that's simply max_yield - min(yield)\n",
    "    \n",
    "    worst_loss = max_yield - yields_df['maximum observed yield'].min()\n",
    "    \n",
    "    # Now add to the file, and return\n",
    "    \n",
    "    #output_file += f\"{filename},{average_yield:.2f},{std_yield:.2f},{average_loss:.2f},{worst_loss:.2f}\\n\"\n",
    "    return (average_yield, std_yield, average_loss, worst_loss)"
   ]
  },
  {
   "cell_type": "markdown",
   "id": "81b8b078",
   "metadata": {},
   "source": [
    "Now let's run it on all the desired files"
   ]
  },
  {
   "cell_type": "code",
   "execution_count": 4,
   "id": "32e012a2",
   "metadata": {},
   "outputs": [],
   "source": [
    "reaction_yields = {\n",
    "    'suzuki': 100.0,\n",
    "    'aryl_amination': 99.99999,\n",
    "    'direct_arylation': 100.0,\n",
    "}\n",
    "\n",
    "sampling_methods = [\n",
    "    'random',\n",
    "    'randomts',\n",
    "    'randomtsei'\n",
    "]\n",
    "\n",
    "batch_combinations = [\n",
    "    '1_25_50',\n",
    "    '1_50_50',\n",
    "    '2_24_50',\n",
    "    '2_50_50',\n",
    "    '3_24_50',\n",
    "    '3_51_50',\n",
    "    '4_24_50',\n",
    "    '4_48_50',\n",
    "    '5_25_50',\n",
    "    '5_50_50',\n",
    "    '10_50_50'\n",
    "]\n",
    "\n",
    "for reaction, sampling_method, batch_combination in itertools.product(reaction_yields.keys(), sampling_methods, batch_combinations):\n",
    "    try:\n",
    "        avg, std, avg_loss, worst_loss = get_summary_statistics(f\"{reaction}_{sampling_method}_{batch_combination}.csv\", max_yield = reaction_yields[reaction])\n",
    "        output_file += f\"{reaction},{sampling_method},{batch_combination.split('_')[0]},{batch_combination.split('_')[1]},{avg:.2f},{std:.2f},{avg_loss:.2f},{worst_loss:.2f}\\n\"\n",
    "    except FileNotFoundError as e:\n",
    "        print(\"Missing file: \", e)\n",
    "\n"
   ]
  },
  {
   "cell_type": "code",
   "execution_count": 5,
   "id": "7484a052",
   "metadata": {},
   "outputs": [],
   "source": [
    "with open(output_filename, 'w') as f:\n",
    "    f.write(output_file)"
   ]
  },
  {
   "cell_type": "code",
   "execution_count": null,
   "id": "963a8777",
   "metadata": {},
   "outputs": [],
   "source": []
  }
 ],
 "metadata": {
  "kernelspec": {
   "display_name": "Python 3",
   "language": "python",
   "name": "python3"
  },
  "language_info": {
   "codemirror_mode": {
    "name": "ipython",
    "version": 3
   },
   "file_extension": ".py",
   "mimetype": "text/x-python",
   "name": "python",
   "nbconvert_exporter": "python",
   "pygments_lexer": "ipython3",
   "version": "3.7.10"
  }
 },
 "nbformat": 4,
 "nbformat_minor": 5
}
