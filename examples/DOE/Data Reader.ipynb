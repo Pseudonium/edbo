{
 "cells": [
  {
   "cell_type": "markdown",
   "id": "642116c9",
   "metadata": {},
   "source": [
    "File for loading data given a text string"
   ]
  },
  {
   "cell_type": "code",
   "execution_count": 1,
   "id": "46cce6c2",
   "metadata": {},
   "outputs": [],
   "source": [
    "import pandas as pd"
   ]
  },
  {
   "cell_type": "markdown",
   "id": "107b09c4",
   "metadata": {},
   "source": [
    "The following file will be used to hold summary statistics of running the optimiser various times with different configurations."
   ]
  },
  {
   "cell_type": "code",
   "execution_count": 2,
   "id": "34c338d4",
   "metadata": {},
   "outputs": [],
   "source": [
    "output_file = ''\n",
    "output_file += 'filename,mean yield,standard deviation,average loss, worst-case loss\\n'"
   ]
  },
  {
   "cell_type": "code",
   "execution_count": 3,
   "id": "44c651dc",
   "metadata": {},
   "outputs": [],
   "source": [
    "def update_output_file_with_data(filename, output_file, max_yield=100.0):\n",
    "    \"\"\"\n",
    "    Update the output file with the data present in filename.\n",
    "    \n",
    "    \n",
    "    -------\n",
    "    Parameters:\n",
    "    \n",
    "    filename: string\n",
    "        Path to the file with the data. Format of file should be as follows:\n",
    "        seed,maximum_observed_yield\n",
    "        124142,99.4\n",
    "        092402,96.8\n",
    "        ...\n",
    "        \n",
    "    output_file: string\n",
    "        Current state of internal output file. Format described above\n",
    "    \n",
    "    max_yield: float\n",
    "        The maximum observed yield across all data points for this experiment.\n",
    "        Used in calculating average loss and worst-case loss\n",
    "    \"\"\"\n",
    "    \n",
    "    yields_df = pd.read_csv(filename)\n",
    "    \n",
    "    # Don't care about the seed column, only interested in the yields\n",
    "    yields_df = yields_df[['maximum observed yield']].copy()\n",
    "    \n",
    "    # Mean\n",
    "    average_yield = yields_df['maximum observed yield'].mean()\n",
    "    \n",
    "    # Standard deviation\n",
    "    std_yield = yields_df['maximum observed yield'].std()\n",
    "    \n",
    "    # Average loss\n",
    "    # This will be the average of {max_yield - yield}\n",
    "    # But that's simply max_yield - the average yield!\n",
    "    \n",
    "    average_loss = max_yield - average_yield\n",
    "    \n",
    "    # Worst-case loss\n",
    "    # This is the maximum of max_yield - yield\n",
    "    # But that's simply max_yield - min(yield)\n",
    "    \n",
    "    worst_loss = max_yield - yields_df['maximum observed yield'].min()\n",
    "    \n",
    "    # Now add to the file, and return\n",
    "    \n",
    "    output_file += f\"{filename},{average_yield:.2f},{std_yield:.2f},{average_loss:.2f},{worst_loss:.2f}\\n\"\n",
    "    return output_file"
   ]
  },
  {
   "cell_type": "markdown",
   "id": "81b8b078",
   "metadata": {},
   "source": [
    "Now let's run it on all the desired files"
   ]
  },
  {
   "cell_type": "code",
   "execution_count": 4,
   "id": "32e012a2",
   "metadata": {},
   "outputs": [
    {
     "name": "stdout",
     "output_type": "stream",
     "text": [
      "filename,mean yield,standard deviation,average loss, worst-case loss\n",
      "\n",
      "filename,mean yield,standard deviation,average loss, worst-case loss\n",
      "suzuki_random_5_50_100.csv,98.78,1.08,1.22,5.67\n",
      "\n"
     ]
    }
   ],
   "source": [
    "SUZUKI_MAX = 100.0\n",
    "ARYL_AMINATION_MAX = 99.99999\n",
    "DIRECT_ARYLATION_MAX = 100.0\n",
    "\n",
    "suzuki_files = [\n",
    "    'suzuki_random_3_24_50',\n",
    "    'suzuki_random_3_51_50',\n",
    "    'suzuki_random_5_25_50',\n",
    "    'suzuki_random_5_50_100',\n",
    "    'suzuki_random_8_24_50',\n",
    "    'suzuki_random_10_50_50',\n",
    "]\n",
    "\n",
    "aryl_amination_files = [\n",
    "    ''\n",
    "]\n",
    "\n",
    "output_file = update_output_file_with_data(filename, output_file, max_yield=100.0)"
   ]
  },
  {
   "cell_type": "code",
   "execution_count": null,
   "id": "0ea0c821",
   "metadata": {},
   "outputs": [],
   "source": []
  },
  {
   "cell_type": "code",
   "execution_count": null,
   "id": "2f8858ec",
   "metadata": {},
   "outputs": [],
   "source": []
  }
 ],
 "metadata": {
  "kernelspec": {
   "display_name": "Python 3",
   "language": "python",
   "name": "python3"
  },
  "language_info": {
   "codemirror_mode": {
    "name": "ipython",
    "version": 3
   },
   "file_extension": ".py",
   "mimetype": "text/x-python",
   "name": "python",
   "nbconvert_exporter": "python",
   "pygments_lexer": "ipython3",
   "version": "3.7.10"
  }
 },
 "nbformat": 4,
 "nbformat_minor": 5
}
