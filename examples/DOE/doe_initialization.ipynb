{
 "cells": [
  {
   "cell_type": "markdown",
   "metadata": {},
   "source": [
    "# Design of Experiments for Reaction Optimization\n",
    "\n",
    "#### DOE in Reaction Optimization\n",
    "\n",
    "Design of experiments is commonly utilized for the optimization of process parameters in chemistry. In general, an experimental design will be executed, the results used to build a model, and the model used to predict optimal conditions. However, the process of running DOE for a given system relies heavily on operator intuition and experience. What type of design to use? How to treat categorical variables? How to model responses? These questions and more require answers for a given application. In this demo, we will standardize this practice for the purposes of reproducibility and automation.\n",
    "\n",
    "#### Experimental Design\n",
    "\n",
    "In this notebook we benchmark DOE as an optimization methodology. The simulation design is: (1) run $M$ experiments associated with an experimental design, (2) train a quadratic model using the data, and (3) predict the $N = B - M$ best conditions (where $B$ is the number of experiments in the budget). Then the best observed yield distribution in the experimental data can be compared to Bayesian optimization (BO) using the same number of experiments. We will also take this time to go ahead and develop a general DOE framework compatible with edbo, as such methods could be quite useful for initializing BO.\n",
    "\n",
    "Since many optimization reaction spaces are built from categorical variables, we will need to use designs compatible with this data type. For example, since response surface designs (e.g., central composite) require a sense of order and factorial designs require the use of only 2 levels, these designs are not readily adaptable to typical synthetic tasks. Hence DOE is typically only used for optimizations over continuous variables). \n",
    "\n",
    "**Fractional Factorial Design**. One design compatible with multilevel categorical variables is the *Generalized Subset Design* (GSD). GSD is a generalization of traditional fractional factorial designs to problems where factors can have more than two levels. **These designs were actually developed specifically for chemistry!**\n",
    "\n",
    "*Citation:* https://pubs.acs.org/doi/10.1021/acs.analchem.7b00506\n",
    "\n",
    "*Implementation:* https://github.com/clicumu/pyDOE2\n",
    "\n",
    "**D-Optimal Design**. D-optimal designs are computer-aided designs which can be utilized when classical designs fail (e.g., reaction optimization with categorical variables). These designs have been employed effectively towards the optimization of chemical processes. We will employ Federov's exchange algorithm to calculate the approximate design for each reaction.\n",
    "\n",
    "\n",
    "*Citation:* https://www.itl.nist.gov/div898/handbook/pri/section5/pri521.htm\n",
    "\n",
    "*Example:* https://pubs.acs.org/doi/abs/10.1021/acs.oprd.8b00018\n",
    "\n",
    "*Implementation:* https://www.rdocumentation.org/packages/AlgDesign/versions/1.2.0/topics/optFederov\n",
    "\n",
    "\n",
    "**Modeling**. For the modeling we will utilize a polynomial model (up to quadratic terms) since this is typical in DOE as a means to capture interactions. We will OHE the data sets since most applications do not utilize chemical descriptors (Note that this method is fully compatible with any encoding though).\n"
   ]
  },
  {
   "cell_type": "markdown",
   "metadata": {},
   "source": [
    "## Build Search Spaces\n",
    "\n",
    "One point of variability in these types of designs, is that the ordering of the levels is arbitrary. That is, the design you end up with will depend upon the order in which you list the components in each category. This of course is not a desirable feature as different users may list their reagents in a different order for the same reaction space. Thus to gauge the variance in outcome to the ordering of the categorical variables we can simply shuffle the data.\n"
   ]
  },
  {
   "cell_type": "code",
   "execution_count": 1,
   "metadata": {},
   "outputs": [],
   "source": [
    "# Imports\n",
    "\n",
    "import pandas as pd\n",
    "from edbo.utils import Data\n",
    "from edbo.feature_utils import reaction_space\n",
    "from data_loader import aryl_amination, suzuki\n",
    "\n",
    "# Suzuki reaction data\n",
    "\n",
    "class reaction1:\n",
    "    \"\"\"Suzuki data loader and component shuffling\"\"\"\n",
    "\n",
    "    def __init__(self):\n",
    "\n",
    "        # Load OHE data\n",
    "        self.data = suzuki()\n",
    "        \n",
    "        # Components required for DOE\n",
    "        self.components = {'electrophile':0,\n",
    "                           'nucleophile':1,\n",
    "                           'base':2,\n",
    "                           'ligand':4,\n",
    "                           'solvent':5}\n",
    "    \n",
    "    def shuffle(self, seed=0):\n",
    "        \"\"\"Suffle DataFrame using sampling.\"\"\"\n",
    "        \n",
    "        rxn = Data(self.data.copy())\n",
    "        \n",
    "        # Shuffle to change ordering of variables    \n",
    "        rxn.base_data = rxn.base_data.sample(len(rxn.base_data), random_state=seed).copy().reset_index(drop=True)\n",
    "        rxn.data = rxn.base_data.copy()\n",
    "    \n",
    "        # Clean data\n",
    "        rxn.clean()\n",
    "        rxn.drop(['entry'])\n",
    "    \n",
    "        # Required for DOE function\n",
    "        rxn.index_headers = ['electrophile_SMILES', \n",
    "                             'nucleophile_SMILES',\n",
    "                             'base_SMILES',\n",
    "                             'ligand_SMILES',\n",
    "                             'solvent_SMILES']\n",
    "    \n",
    "        return rxn\n",
    "\n",
    "# Aryl amination reaction data\n",
    "\n",
    "class reaction2:\n",
    "    \"\"\"Aryl amination data loader and component shuffling\"\"\"\n",
    "\n",
    "    def __init__(self, subset):\n",
    "\n",
    "        # Load OHE data\n",
    "        self.data = aryl_amination(subset=subset)\n",
    "        \n",
    "        # Components required for DOE\n",
    "        self.components = {'aryl_halide':0,\n",
    "                           'additive':1,\n",
    "                           'base':2,\n",
    "                           'ligand':4}\n",
    "    \n",
    "    def shuffle(self, seed=0):\n",
    "        \"\"\"Suffle DataFrame using sampling.\"\"\"\n",
    "        \n",
    "        rxn = Data(self.data.copy())\n",
    "        \n",
    "        # Shuffle to change ordering of variables    \n",
    "        rxn.base_data = rxn.base_data.sample(len(rxn.base_data), random_state=seed).copy().reset_index(drop=True)\n",
    "        rxn.data = rxn.base_data.copy()\n",
    "    \n",
    "        # Clean data\n",
    "        rxn.clean()\n",
    "        rxn.drop(['entry'])\n",
    "    \n",
    "        # Required for DOE function\n",
    "        rxn.index_headers = ['aryl_halide_SMILES', \n",
    "                             'additive_SMILES',\n",
    "                             'base_SMILES',\n",
    "                             'ligand_SMILES']\n",
    "    \n",
    "        return rxn"
   ]
  },
  {
   "cell_type": "markdown",
   "metadata": {},
   "source": [
    "## Modeling\n",
    "\n",
    "Linear or quadratic models are often used to model reaction response surfaces in order to gauge direct and interaction effects. Due to the large number of features associated with such an expansion we will also use automatic relevance determination to fit the weights of the regression model.\n",
    "\n",
    "**Implementation:** https://scikit-learn.org/stable/modules/generated/sklearn.linear_model.ARDRegression.html\n",
    "\n",
    "As an additional demonstration of the versatility of *edbo*, we will write a model class that is compatible with the framework and then use *edbo* methods to carry out the modeling. We will use pyDOE2 to generate the GSD in python and AlgDesign to generate the D-optimal design in R (we will just read in a CSV). The python and R code for DOE functions in in the accompanying DOE.py and DOE.R files.\n"
   ]
  },
  {
   "cell_type": "code",
   "execution_count": 2,
   "metadata": {},
   "outputs": [],
   "source": [
    "# Imports\n",
    "\n",
    "from sklearn.preprocessing import PolynomialFeatures\n",
    "from sklearn.linear_model import ARDRegression\n",
    "from sklearn.model_selection import GridSearchCV\n",
    "import numpy as np\n",
    "\n",
    "from edbo.bro import BO\n",
    "from edbo.acq_func import top_predicted\n",
    "\n",
    "try:\n",
    "    from DOE import generalized_subset_design, external_design\n",
    "except Exception as e:\n",
    "    print(e)\n",
    "    !conda install -y -c conda-forge pydoe2\n",
    "    from DOE import generalized_subset_design, external_design\n",
    "\n",
    "# Polynomial regression model using ARD and grid search CV for training\n",
    "\n",
    "class Polynomial_ARD_Model:\n",
    "    \"\"\"Bayesian linear polynomial regression object compatible with the BO framework.\"\"\"\n",
    "    \n",
    "    def __init__(self, X, y, **kwargs):\n",
    "        \n",
    "        # CV set gamma prior parameters - no GS for now\n",
    "        self.alphas = np.logspace(-6, 0.5, 7)\n",
    "        \n",
    "        # Initialize model\n",
    "        self.model = ARDRegression(n_iter=50)\n",
    "        \n",
    "        # Make sure X and y are numpy arrays\n",
    "        self.X = np.array(X)\n",
    "        self.y = np.array(y)\n",
    "        \n",
    "        # Polynomial expansion\n",
    "        self.expander = PolynomialFeatures(2)\n",
    "        self.X = self.expander.fit_transform(self.X)\n",
    "        \n",
    "    # Fit    \n",
    "    def fit(self):\n",
    "        \"\"\"Train the model using grid search CV.\"\"\" \n",
    "        \n",
    "        parameters = [{'alpha_1': self.alphas, 'alpha_2': self.alphas}]\n",
    "        \n",
    "        # Set the number of folds\n",
    "        if len(self.X) < 5:\n",
    "            n_folds = len(self.X)\n",
    "        else:\n",
    "            n_folds = 5\n",
    "        \n",
    "        # Run grid search\n",
    "        if n_folds > 1:\n",
    "        \n",
    "            # Select l1 term via grid search\n",
    "            self.grid_search = GridSearchCV(self.model, \n",
    "                                       parameters, \n",
    "                                       cv=n_folds, \n",
    "                                       refit=True,\n",
    "                                       n_jobs=-1)\n",
    "        \n",
    "            self.grid_search.fit(self.X, self.y)\n",
    "        \n",
    "            # Set model to trained model\n",
    "            self.model = self.grid_search.best_estimator_\n",
    "        \n",
    "        # Just fit model\n",
    "        else:\n",
    "            self.model.fit(self.X, self.y)\n",
    "            \n",
    "    def get_scores(self):\n",
    "        \"\"\"Get grid search cross validation results.\"\"\" \n",
    "        \n",
    "        # Plot results\n",
    "        scores = self.grid_search.cv_results_['mean_test_score']\n",
    "        scores_std = self.grid_search.cv_results_['std_test_score']\n",
    "        \n",
    "        return scores, scores_std\n",
    "        \n",
    "    # Predict   \n",
    "    def predict(self, points):\n",
    "        \"\"\"Model predictions.\"\"\" \n",
    "        \n",
    "        # Make sure points in a numpy array\n",
    "        points = np.array(points)\n",
    "        \n",
    "        # Expand\n",
    "        points = self.expander.fit_transform(points)\n",
    "        \n",
    "        # Make predicitons\n",
    "        pred = self.model.predict(points)\n",
    "        \n",
    "        return pred\n",
    "        \n",
    "    # Regression   \n",
    "    def regression(self, return_data=False, export_path=None, return_scores=False):\n",
    "        \"\"\"Helper method for visualizing the models regression performance.\"\"\"\n",
    "\n",
    "        pred = self.predict(self.X)\n",
    "        obs = self.y        \n",
    "        return pred_obs(pred, \n",
    "                        obs, \n",
    "                        return_data=return_data, \n",
    "                        export_path=export_path,\n",
    "                        return_scores=return_scores) \n",
    "    \n",
    "    # Estimate variance\n",
    "    def variance(self, points):\n",
    "        \"\"\"Estimated variance of Bayesian linear model.\"\"\"\n",
    "        \n",
    "        # Make sure points in a numpy array\n",
    "        points = np.array(points)\n",
    "        \n",
    "        # Expand\n",
    "        points = self.expander.fit_transform(points)\n",
    "        \n",
    "        # Make predicitons\n",
    "        pred, std = self.model.predict(points, return_std=True)\n",
    "        \n",
    "        return std**2\n",
    "\n",
    "# DOE testing function utilizing edbo framework\n",
    "\n",
    "def doe_optimization(reaction, seed, reduction=21, budget=50, design='gsd', external=None):\n",
    "    \"\"\"\n",
    "    Run a design, fit a quadratic model and use the remainder of the \n",
    "    experimental budget to evaluate the top predicted experiments.\n",
    "    \"\"\"\n",
    "\n",
    "    # Data\n",
    "    space = reaction.shuffle(seed)\n",
    "\n",
    "    # DOE\n",
    "    if design == 'gsd':\n",
    "        # Choose a reduction which gets closest to but is <= a budget of 50 experiments\n",
    "        designer = generalized_subset_design(space, reaction.components)\n",
    "        designer.build(reduction=reduction)\n",
    "    elif design == 'external':\n",
    "        designer = external_design(space, reaction.components, external)\n",
    "    \n",
    "    designer.get_experiments()              # Fetch corresponding experiments\n",
    "    designer.encoded()                      # Fetch encoded experiments\n",
    "    \n",
    "    # Use BO to model\n",
    "    bo = BO(domain=space.data.drop('yield', axis=1),       # Domain\n",
    "            exindex=space.data,                            # Result index\n",
    "            results=designer.encoded_design,               # DOE results\n",
    "            acquisition_function='rand',                   # Random acquisition just to train the model\n",
    "            batch_size=50 - len(designer.encoded_design),  # Number of points to choose using model                            \n",
    "            fast_comp=True,                                # Use fast computation features\n",
    "            init_method='external',                        # Initialization from results\n",
    "            model=Polynomial_ARD_Model)                    # Polynomial model\n",
    "    \n",
    "    # Train model\n",
    "    bo.run()\n",
    "    \n",
    "    # Get top predicted points\n",
    "    top = top_predicted(bo.batch_size, False)\n",
    "    best = top.run(bo.model, bo.obj)\n",
    "    bo.obj.get_results(best, append=True)\n",
    "    \n",
    "    # Get max observed yield\n",
    "    maximum = bo.obj.results_input()['yield'].max()\n",
    "    \n",
    "    # Model fit\n",
    "    r2 = bo.model.model.score(bo.model.X, bo.model.y)\n",
    "    \n",
    "    # Reporting\n",
    "    print('Seed:', seed, '|',\n",
    "          'Design size:', len(designer.design), '|',\n",
    "          'Fit R^2:', r2, '|',\n",
    "          'DOE max:', bo.obj.results_input().iloc[:-bo.batch_size]['yield'].max(), '|',\n",
    "          'Max:', bo.obj.results_input()['yield'].max(), '|',\n",
    "          'Ground truth:', bo.obj.exindex['yield'].max(),\n",
    "          )\n",
    "    \n",
    "    return designer, bo, maximum"
   ]
  },
  {
   "cell_type": "markdown",
   "metadata": {},
   "source": [
    "### Generalized Subset Design Test \n",
    "\n",
    "Generate a Generalized Subset Design from encoded reaction data, fit a model, select best points, report results."
   ]
  },
  {
   "cell_type": "code",
   "execution_count": 3,
   "metadata": {},
   "outputs": [
    {
     "name": "stdout",
     "output_type": "stream",
     "text": [
      "Seed: 1 | Design size: 44 | Fit R^2: 0.9983808243158707 | DOE max: 54.24578847 | Max: 54.24578847 | Ground truth: 55.56585889\n"
     ]
    }
   ],
   "source": [
    "# Data\n",
    "reaction = reaction2(1)\n",
    "\n",
    "# DOE + optimization\n",
    "designer, bo, maximum = doe_optimization(reaction, 1, reduction=21, budget=50)"
   ]
  },
  {
   "cell_type": "markdown",
   "metadata": {},
   "source": [
    "Check out the designs."
   ]
  },
  {
   "cell_type": "code",
   "execution_count": 4,
   "metadata": {},
   "outputs": [
    {
     "data": {
      "text/html": [
       "<div>\n",
       "<style scoped>\n",
       "    .dataframe tbody tr th:only-of-type {\n",
       "        vertical-align: middle;\n",
       "    }\n",
       "\n",
       "    .dataframe tbody tr th {\n",
       "        vertical-align: top;\n",
       "    }\n",
       "\n",
       "    .dataframe thead th {\n",
       "        text-align: right;\n",
       "    }\n",
       "</style>\n",
       "<table border=\"1\" class=\"dataframe\">\n",
       "  <thead>\n",
       "    <tr style=\"text-align: right;\">\n",
       "      <th></th>\n",
       "      <th>aryl_halide</th>\n",
       "      <th>additive</th>\n",
       "      <th>base</th>\n",
       "      <th>ligand</th>\n",
       "    </tr>\n",
       "  </thead>\n",
       "  <tbody>\n",
       "    <tr>\n",
       "      <th>0</th>\n",
       "      <td>0</td>\n",
       "      <td>0</td>\n",
       "      <td>0</td>\n",
       "      <td>0</td>\n",
       "    </tr>\n",
       "    <tr>\n",
       "      <th>1</th>\n",
       "      <td>0</td>\n",
       "      <td>21</td>\n",
       "      <td>0</td>\n",
       "      <td>0</td>\n",
       "    </tr>\n",
       "    <tr>\n",
       "      <th>2</th>\n",
       "      <td>0</td>\n",
       "      <td>0</td>\n",
       "      <td>1</td>\n",
       "      <td>1</td>\n",
       "    </tr>\n",
       "    <tr>\n",
       "      <th>3</th>\n",
       "      <td>0</td>\n",
       "      <td>21</td>\n",
       "      <td>1</td>\n",
       "      <td>1</td>\n",
       "    </tr>\n",
       "    <tr>\n",
       "      <th>4</th>\n",
       "      <td>0</td>\n",
       "      <td>0</td>\n",
       "      <td>2</td>\n",
       "      <td>2</td>\n",
       "    </tr>\n",
       "  </tbody>\n",
       "</table>\n",
       "</div>"
      ],
      "text/plain": [
       "   aryl_halide  additive  base  ligand\n",
       "0            0         0     0       0\n",
       "1            0        21     0       0\n",
       "2            0         0     1       1\n",
       "3            0        21     1       1\n",
       "4            0         0     2       2"
      ]
     },
     "execution_count": 4,
     "metadata": {},
     "output_type": "execute_result"
    }
   ],
   "source": [
    "designer.design.head()"
   ]
  },
  {
   "cell_type": "code",
   "execution_count": 5,
   "metadata": {},
   "outputs": [
    {
     "data": {
      "text/html": [
       "<div>\n",
       "<style scoped>\n",
       "    .dataframe tbody tr th:only-of-type {\n",
       "        vertical-align: middle;\n",
       "    }\n",
       "\n",
       "    .dataframe tbody tr th {\n",
       "        vertical-align: top;\n",
       "    }\n",
       "\n",
       "    .dataframe thead th {\n",
       "        text-align: right;\n",
       "    }\n",
       "</style>\n",
       "<table border=\"1\" class=\"dataframe\">\n",
       "  <thead>\n",
       "    <tr style=\"text-align: right;\">\n",
       "      <th></th>\n",
       "      <th>aryl_halide</th>\n",
       "      <th>additive</th>\n",
       "      <th>base</th>\n",
       "      <th>ligand</th>\n",
       "    </tr>\n",
       "  </thead>\n",
       "  <tbody>\n",
       "    <tr>\n",
       "      <th>0</th>\n",
       "      <td>FC(F)(F)c1ccc(I)cc1</td>\n",
       "      <td>Cc1ccon1</td>\n",
       "      <td>CN(C)/C(N(C)C)=N\\C(C)(C)C</td>\n",
       "      <td>CC(C)C(C=C(C(C)C)C=C1C(C)C)=C1C2=CC=CC=C2P(C(C...</td>\n",
       "    </tr>\n",
       "    <tr>\n",
       "      <th>1</th>\n",
       "      <td>FC(F)(F)c1ccc(I)cc1</td>\n",
       "      <td>COC(=O)c1cc(on1)c2sccc2</td>\n",
       "      <td>CN(C)/C(N(C)C)=N\\C(C)(C)C</td>\n",
       "      <td>CC(C)C(C=C(C(C)C)C=C1C(C)C)=C1C2=CC=CC=C2P(C(C...</td>\n",
       "    </tr>\n",
       "    <tr>\n",
       "      <th>2</th>\n",
       "      <td>FC(F)(F)c1ccc(I)cc1</td>\n",
       "      <td>Cc1ccon1</td>\n",
       "      <td>CN(C)P(N(C)C)(N(C)C)=NP(N(C)C)(N(C)C)=NCC</td>\n",
       "      <td>CC(C)C1=CC(C(C)C)=CC(C(C)C)=C1C2=C(P(C(C)(C)C)...</td>\n",
       "    </tr>\n",
       "    <tr>\n",
       "      <th>3</th>\n",
       "      <td>FC(F)(F)c1ccc(I)cc1</td>\n",
       "      <td>COC(=O)c1cc(on1)c2sccc2</td>\n",
       "      <td>CN(C)P(N(C)C)(N(C)C)=NP(N(C)C)(N(C)C)=NCC</td>\n",
       "      <td>CC(C)C1=CC(C(C)C)=CC(C(C)C)=C1C2=C(P(C(C)(C)C)...</td>\n",
       "    </tr>\n",
       "    <tr>\n",
       "      <th>4</th>\n",
       "      <td>FC(F)(F)c1ccc(I)cc1</td>\n",
       "      <td>Cc1ccon1</td>\n",
       "      <td>CN1CCCN2CCCN=C12</td>\n",
       "      <td>CC(C)C1=CC(C(C)C)=CC(C(C)C)=C1C2=C(P(C3CCCCC3)...</td>\n",
       "    </tr>\n",
       "  </tbody>\n",
       "</table>\n",
       "</div>"
      ],
      "text/plain": [
       "           aryl_halide                 additive  \\\n",
       "0  FC(F)(F)c1ccc(I)cc1                 Cc1ccon1   \n",
       "1  FC(F)(F)c1ccc(I)cc1  COC(=O)c1cc(on1)c2sccc2   \n",
       "2  FC(F)(F)c1ccc(I)cc1                 Cc1ccon1   \n",
       "3  FC(F)(F)c1ccc(I)cc1  COC(=O)c1cc(on1)c2sccc2   \n",
       "4  FC(F)(F)c1ccc(I)cc1                 Cc1ccon1   \n",
       "\n",
       "                                        base  \\\n",
       "0                  CN(C)/C(N(C)C)=N\\C(C)(C)C   \n",
       "1                  CN(C)/C(N(C)C)=N\\C(C)(C)C   \n",
       "2  CN(C)P(N(C)C)(N(C)C)=NP(N(C)C)(N(C)C)=NCC   \n",
       "3  CN(C)P(N(C)C)(N(C)C)=NP(N(C)C)(N(C)C)=NCC   \n",
       "4                           CN1CCCN2CCCN=C12   \n",
       "\n",
       "                                              ligand  \n",
       "0  CC(C)C(C=C(C(C)C)C=C1C(C)C)=C1C2=CC=CC=C2P(C(C...  \n",
       "1  CC(C)C(C=C(C(C)C)C=C1C(C)C)=C1C2=CC=CC=C2P(C(C...  \n",
       "2  CC(C)C1=CC(C(C)C)=CC(C(C)C)=C1C2=C(P(C(C)(C)C)...  \n",
       "3  CC(C)C1=CC(C(C)C)=CC(C(C)C)=C1C2=C(P(C(C)(C)C)...  \n",
       "4  CC(C)C1=CC(C(C)C)=CC(C(C)C)=C1C2=C(P(C3CCCCC3)...  "
      ]
     },
     "execution_count": 5,
     "metadata": {},
     "output_type": "execute_result"
    }
   ],
   "source": [
    "designer.experiment_design.head()"
   ]
  },
  {
   "cell_type": "code",
   "execution_count": 6,
   "metadata": {},
   "outputs": [
    {
     "data": {
      "text/html": [
       "<div>\n",
       "<style scoped>\n",
       "    .dataframe tbody tr th:only-of-type {\n",
       "        vertical-align: middle;\n",
       "    }\n",
       "\n",
       "    .dataframe tbody tr th {\n",
       "        vertical-align: top;\n",
       "    }\n",
       "\n",
       "    .dataframe thead th {\n",
       "        text-align: right;\n",
       "    }\n",
       "</style>\n",
       "<table border=\"1\" class=\"dataframe\">\n",
       "  <thead>\n",
       "    <tr style=\"text-align: right;\">\n",
       "      <th></th>\n",
       "      <th>aryl_halide=FC(F)(F)c1ccc(Cl)cc1</th>\n",
       "      <th>aryl_halide=FC(F)(F)c1ccc(Br)cc1</th>\n",
       "      <th>aryl_halide=FC(F)(F)c1ccc(I)cc1</th>\n",
       "      <th>additive=o1cc(cn1)c2ccccc2</th>\n",
       "      <th>additive=o1nccc1c2ccccc2</th>\n",
       "      <th>additive=o1ccc(n1)c2ccccc2</th>\n",
       "      <th>additive=CCOC(=O)c1onc(C)c1</th>\n",
       "      <th>additive=Cc1ccon1</th>\n",
       "      <th>additive=CCOC(=O)c1cc(C)on1</th>\n",
       "      <th>additive=Cc1oncc1</th>\n",
       "      <th>...</th>\n",
       "      <th>additive=COC(=O)c1cc(on1)c2sccc2</th>\n",
       "      <th>additive=CCOC(=O)c1onc(OC)c1</th>\n",
       "      <th>base=CN(C)P(N(C)C)(N(C)C)=NP(N(C)C)(N(C)C)=NCC</th>\n",
       "      <th>base=CN(C)/C(N(C)C)=N\\C(C)(C)C</th>\n",
       "      <th>base=CN1CCCN2CCCN=C12</th>\n",
       "      <th>ligand=CC(C)C1=CC(C(C)C)=CC(C(C)C)=C1C2=C(P(C3CCCCC3)C4CCCCC4)C=CC=C2</th>\n",
       "      <th>ligand=CC(C)C(C=C(C(C)C)C=C1C(C)C)=C1C2=CC=CC=C2P(C(C)(C)C)C(C)(C)C</th>\n",
       "      <th>ligand=CC(C)C1=CC(C(C)C)=CC(C(C)C)=C1C2=C(P(C(C)(C)C)C(C)(C)C)C(OC)=CC=C2OC</th>\n",
       "      <th>ligand=CC(C1=C(C2=C(OC)C=CC(OC)=C2P(C34CC5CC(C4)CC(C5)C3)C67CC8CC(C7)CC(C8)C6)C(C(C)C)=CC(C(C)C)=C1)C</th>\n",
       "      <th>yield</th>\n",
       "    </tr>\n",
       "  </thead>\n",
       "  <tbody>\n",
       "    <tr>\n",
       "      <th>0</th>\n",
       "      <td>0</td>\n",
       "      <td>0</td>\n",
       "      <td>1</td>\n",
       "      <td>0</td>\n",
       "      <td>0</td>\n",
       "      <td>0</td>\n",
       "      <td>0</td>\n",
       "      <td>1</td>\n",
       "      <td>0</td>\n",
       "      <td>0</td>\n",
       "      <td>...</td>\n",
       "      <td>0</td>\n",
       "      <td>0</td>\n",
       "      <td>0</td>\n",
       "      <td>1</td>\n",
       "      <td>0</td>\n",
       "      <td>0</td>\n",
       "      <td>1</td>\n",
       "      <td>0</td>\n",
       "      <td>0</td>\n",
       "      <td>52.378114</td>\n",
       "    </tr>\n",
       "    <tr>\n",
       "      <th>189</th>\n",
       "      <td>0</td>\n",
       "      <td>0</td>\n",
       "      <td>1</td>\n",
       "      <td>0</td>\n",
       "      <td>0</td>\n",
       "      <td>0</td>\n",
       "      <td>0</td>\n",
       "      <td>0</td>\n",
       "      <td>0</td>\n",
       "      <td>0</td>\n",
       "      <td>...</td>\n",
       "      <td>1</td>\n",
       "      <td>0</td>\n",
       "      <td>0</td>\n",
       "      <td>1</td>\n",
       "      <td>0</td>\n",
       "      <td>0</td>\n",
       "      <td>1</td>\n",
       "      <td>0</td>\n",
       "      <td>0</td>\n",
       "      <td>37.377944</td>\n",
       "    </tr>\n",
       "    <tr>\n",
       "      <th>702</th>\n",
       "      <td>0</td>\n",
       "      <td>0</td>\n",
       "      <td>1</td>\n",
       "      <td>0</td>\n",
       "      <td>0</td>\n",
       "      <td>0</td>\n",
       "      <td>0</td>\n",
       "      <td>1</td>\n",
       "      <td>0</td>\n",
       "      <td>0</td>\n",
       "      <td>...</td>\n",
       "      <td>0</td>\n",
       "      <td>0</td>\n",
       "      <td>1</td>\n",
       "      <td>0</td>\n",
       "      <td>0</td>\n",
       "      <td>0</td>\n",
       "      <td>0</td>\n",
       "      <td>1</td>\n",
       "      <td>0</td>\n",
       "      <td>28.581966</td>\n",
       "    </tr>\n",
       "    <tr>\n",
       "      <th>242</th>\n",
       "      <td>0</td>\n",
       "      <td>0</td>\n",
       "      <td>1</td>\n",
       "      <td>0</td>\n",
       "      <td>0</td>\n",
       "      <td>0</td>\n",
       "      <td>0</td>\n",
       "      <td>0</td>\n",
       "      <td>0</td>\n",
       "      <td>0</td>\n",
       "      <td>...</td>\n",
       "      <td>1</td>\n",
       "      <td>0</td>\n",
       "      <td>1</td>\n",
       "      <td>0</td>\n",
       "      <td>0</td>\n",
       "      <td>0</td>\n",
       "      <td>0</td>\n",
       "      <td>1</td>\n",
       "      <td>0</td>\n",
       "      <td>32.359588</td>\n",
       "    </tr>\n",
       "    <tr>\n",
       "      <th>123</th>\n",
       "      <td>0</td>\n",
       "      <td>0</td>\n",
       "      <td>1</td>\n",
       "      <td>0</td>\n",
       "      <td>0</td>\n",
       "      <td>0</td>\n",
       "      <td>0</td>\n",
       "      <td>1</td>\n",
       "      <td>0</td>\n",
       "      <td>0</td>\n",
       "      <td>...</td>\n",
       "      <td>0</td>\n",
       "      <td>0</td>\n",
       "      <td>0</td>\n",
       "      <td>0</td>\n",
       "      <td>1</td>\n",
       "      <td>1</td>\n",
       "      <td>0</td>\n",
       "      <td>0</td>\n",
       "      <td>0</td>\n",
       "      <td>47.428704</td>\n",
       "    </tr>\n",
       "  </tbody>\n",
       "</table>\n",
       "<p>5 rows × 33 columns</p>\n",
       "</div>"
      ],
      "text/plain": [
       "     aryl_halide=FC(F)(F)c1ccc(Cl)cc1  aryl_halide=FC(F)(F)c1ccc(Br)cc1  \\\n",
       "0                                   0                                 0   \n",
       "189                                 0                                 0   \n",
       "702                                 0                                 0   \n",
       "242                                 0                                 0   \n",
       "123                                 0                                 0   \n",
       "\n",
       "     aryl_halide=FC(F)(F)c1ccc(I)cc1  additive=o1cc(cn1)c2ccccc2  \\\n",
       "0                                  1                           0   \n",
       "189                                1                           0   \n",
       "702                                1                           0   \n",
       "242                                1                           0   \n",
       "123                                1                           0   \n",
       "\n",
       "     additive=o1nccc1c2ccccc2  additive=o1ccc(n1)c2ccccc2  \\\n",
       "0                           0                           0   \n",
       "189                         0                           0   \n",
       "702                         0                           0   \n",
       "242                         0                           0   \n",
       "123                         0                           0   \n",
       "\n",
       "     additive=CCOC(=O)c1onc(C)c1  additive=Cc1ccon1  \\\n",
       "0                              0                  1   \n",
       "189                            0                  0   \n",
       "702                            0                  1   \n",
       "242                            0                  0   \n",
       "123                            0                  1   \n",
       "\n",
       "     additive=CCOC(=O)c1cc(C)on1  additive=Cc1oncc1  ...  \\\n",
       "0                              0                  0  ...   \n",
       "189                            0                  0  ...   \n",
       "702                            0                  0  ...   \n",
       "242                            0                  0  ...   \n",
       "123                            0                  0  ...   \n",
       "\n",
       "     additive=COC(=O)c1cc(on1)c2sccc2  additive=CCOC(=O)c1onc(OC)c1  \\\n",
       "0                                   0                             0   \n",
       "189                                 1                             0   \n",
       "702                                 0                             0   \n",
       "242                                 1                             0   \n",
       "123                                 0                             0   \n",
       "\n",
       "     base=CN(C)P(N(C)C)(N(C)C)=NP(N(C)C)(N(C)C)=NCC  \\\n",
       "0                                                 0   \n",
       "189                                               0   \n",
       "702                                               1   \n",
       "242                                               1   \n",
       "123                                               0   \n",
       "\n",
       "     base=CN(C)/C(N(C)C)=N\\C(C)(C)C  base=CN1CCCN2CCCN=C12  \\\n",
       "0                                 1                      0   \n",
       "189                               1                      0   \n",
       "702                               0                      0   \n",
       "242                               0                      0   \n",
       "123                               0                      1   \n",
       "\n",
       "     ligand=CC(C)C1=CC(C(C)C)=CC(C(C)C)=C1C2=C(P(C3CCCCC3)C4CCCCC4)C=CC=C2  \\\n",
       "0                                                    0                       \n",
       "189                                                  0                       \n",
       "702                                                  0                       \n",
       "242                                                  0                       \n",
       "123                                                  1                       \n",
       "\n",
       "     ligand=CC(C)C(C=C(C(C)C)C=C1C(C)C)=C1C2=CC=CC=C2P(C(C)(C)C)C(C)(C)C  \\\n",
       "0                                                    1                     \n",
       "189                                                  1                     \n",
       "702                                                  0                     \n",
       "242                                                  0                     \n",
       "123                                                  0                     \n",
       "\n",
       "     ligand=CC(C)C1=CC(C(C)C)=CC(C(C)C)=C1C2=C(P(C(C)(C)C)C(C)(C)C)C(OC)=CC=C2OC  \\\n",
       "0                                                    0                             \n",
       "189                                                  0                             \n",
       "702                                                  1                             \n",
       "242                                                  1                             \n",
       "123                                                  0                             \n",
       "\n",
       "     ligand=CC(C1=C(C2=C(OC)C=CC(OC)=C2P(C34CC5CC(C4)CC(C5)C3)C67CC8CC(C7)CC(C8)C6)C(C(C)C)=CC(C(C)C)=C1)C  \\\n",
       "0                                                    0                                                       \n",
       "189                                                  0                                                       \n",
       "702                                                  0                                                       \n",
       "242                                                  0                                                       \n",
       "123                                                  0                                                       \n",
       "\n",
       "         yield  \n",
       "0    52.378114  \n",
       "189  37.377944  \n",
       "702  28.581966  \n",
       "242  32.359588  \n",
       "123  47.428704  \n",
       "\n",
       "[5 rows x 33 columns]"
      ]
     },
     "execution_count": 6,
     "metadata": {},
     "output_type": "execute_result"
    }
   ],
   "source": [
    "designer.encoded_design.head()"
   ]
  },
  {
   "cell_type": "markdown",
   "metadata": {},
   "source": [
    "Plot the model's fit to the training data and the full reaction space."
   ]
  },
  {
   "cell_type": "code",
   "execution_count": 7,
   "metadata": {},
   "outputs": [
    {
     "data": {
      "image/png": "[encoded data removed]",
      "text/plain": [
       "<Figure size 432x432 with 1 Axes>"
      ]
     },
     "metadata": {
      "needs_background": "light"
     },
     "output_type": "display_data"
    },
    {
     "data": {
      "image/png": "[encoded data removed]",
      "text/plain": [
       "<Figure size 432x432 with 1 Axes>"
      ]
     },
     "metadata": {
      "needs_background": "light"
     },
     "output_type": "display_data"
    }
   ],
   "source": [
    "from edbo.plot_utils import pred_obs\n",
    "\n",
    "pred = bo.obj.scaler.unstandardize(bo.model.predict(bo.obj.results.drop('yield', axis=1).values))\n",
    "obs = bo.obj.results_input()['yield'].values\n",
    "pred_obs(pred, obs, title='Training')\n",
    "\n",
    "pred = bo.obj.scaler.unstandardize(bo.model.predict(bo.obj.domain.values))\n",
    "obs = bo.obj.exindex['yield'].values\n",
    "pred_obs(pred, obs, title='Full Space Fit')"
   ]
  },
  {
   "cell_type": "markdown",
   "metadata": {},
   "source": [
    "### D-Optimal Design Test \n",
    "\n",
    "Generate a D-optimal design using R, fit a model, select best points, report results."
   ]
  },
  {
   "cell_type": "code",
   "execution_count": 9,
   "metadata": {},
   "outputs": [
    {
     "ename": "KeyError",
     "evalue": "'Electrophile_SMILES'",
     "output_type": "error",
     "traceback": [
      "\u001b[1;31m---------------------------------------------------------------------------\u001b[0m",
      "\u001b[1;31mKeyError\u001b[0m                                  Traceback (most recent call last)",
      "\u001b[1;32m~\\anaconda3\\envs\\edbo\\lib\\site-packages\\pandas\\core\\indexes\\base.py\u001b[0m in \u001b[0;36mget_loc\u001b[1;34m(self, key, method, tolerance)\u001b[0m\n\u001b[0;32m   3080\u001b[0m             \u001b[1;32mtry\u001b[0m\u001b[1;33m:\u001b[0m\u001b[1;33m\u001b[0m\u001b[1;33m\u001b[0m\u001b[0m\n\u001b[1;32m-> 3081\u001b[1;33m                 \u001b[1;32mreturn\u001b[0m \u001b[0mself\u001b[0m\u001b[1;33m.\u001b[0m\u001b[0m_engine\u001b[0m\u001b[1;33m.\u001b[0m\u001b[0mget_loc\u001b[0m\u001b[1;33m(\u001b[0m\u001b[0mcasted_key\u001b[0m\u001b[1;33m)\u001b[0m\u001b[1;33m\u001b[0m\u001b[1;33m\u001b[0m\u001b[0m\n\u001b[0m\u001b[0;32m   3082\u001b[0m             \u001b[1;32mexcept\u001b[0m \u001b[0mKeyError\u001b[0m \u001b[1;32mas\u001b[0m \u001b[0merr\u001b[0m\u001b[1;33m:\u001b[0m\u001b[1;33m\u001b[0m\u001b[1;33m\u001b[0m\u001b[0m\n",
      "\u001b[1;32mpandas\\_libs\\index.pyx\u001b[0m in \u001b[0;36mpandas._libs.index.IndexEngine.get_loc\u001b[1;34m()\u001b[0m\n",
      "\u001b[1;32mpandas\\_libs\\index.pyx\u001b[0m in \u001b[0;36mpandas._libs.index.IndexEngine.get_loc\u001b[1;34m()\u001b[0m\n",
      "\u001b[1;32mpandas\\_libs\\hashtable_class_helper.pxi\u001b[0m in \u001b[0;36mpandas._libs.hashtable.PyObjectHashTable.get_item\u001b[1;34m()\u001b[0m\n",
      "\u001b[1;32mpandas\\_libs\\hashtable_class_helper.pxi\u001b[0m in \u001b[0;36mpandas._libs.hashtable.PyObjectHashTable.get_item\u001b[1;34m()\u001b[0m\n",
      "\u001b[1;31mKeyError\u001b[0m: 'Electrophile_SMILES'",
      "\nThe above exception was the direct cause of the following exception:\n",
      "\u001b[1;31mKeyError\u001b[0m                                  Traceback (most recent call last)",
      "\u001b[1;32m<ipython-input-9-8dc5f4e824c5>\u001b[0m in \u001b[0;36m<module>\u001b[1;34m\u001b[0m\n\u001b[0;32m      1\u001b[0m \u001b[1;31m# Data\u001b[0m\u001b[1;33m\u001b[0m\u001b[1;33m\u001b[0m\u001b[1;33m\u001b[0m\u001b[0m\n\u001b[1;32m----> 2\u001b[1;33m \u001b[0mreaction\u001b[0m \u001b[1;33m=\u001b[0m \u001b[0mreaction1\u001b[0m\u001b[1;33m(\u001b[0m\u001b[1;33m)\u001b[0m\u001b[1;33m\u001b[0m\u001b[1;33m\u001b[0m\u001b[0m\n\u001b[0m\u001b[0;32m      3\u001b[0m \u001b[1;33m\u001b[0m\u001b[0m\n\u001b[0;32m      4\u001b[0m \u001b[1;31m# D-optimal design from R\u001b[0m\u001b[1;33m\u001b[0m\u001b[1;33m\u001b[0m\u001b[1;33m\u001b[0m\u001b[0m\n\u001b[0;32m      5\u001b[0m \u001b[0mexternal\u001b[0m \u001b[1;33m=\u001b[0m \u001b[0mpd\u001b[0m\u001b[1;33m.\u001b[0m\u001b[0mread_csv\u001b[0m\u001b[1;33m(\u001b[0m\u001b[1;34m'R_doptimal/suzuki_d-optimal.csv'\u001b[0m\u001b[1;33m)\u001b[0m\u001b[1;33m.\u001b[0m\u001b[0miloc\u001b[0m\u001b[1;33m[\u001b[0m\u001b[1;33m:\u001b[0m\u001b[1;33m,\u001b[0m\u001b[1;36m1\u001b[0m\u001b[1;33m:\u001b[0m\u001b[1;33m]\u001b[0m \u001b[1;33m-\u001b[0m \u001b[1;36m1\u001b[0m \u001b[1;31m# Adjust for python indices\u001b[0m\u001b[1;33m\u001b[0m\u001b[1;33m\u001b[0m\u001b[0m\n",
      "\u001b[1;32m<ipython-input-1-9d9d6cd72feb>\u001b[0m in \u001b[0;36m__init__\u001b[1;34m(self)\u001b[0m\n\u001b[0;32m     14\u001b[0m \u001b[1;33m\u001b[0m\u001b[0m\n\u001b[0;32m     15\u001b[0m         \u001b[1;31m# Load OHE data\u001b[0m\u001b[1;33m\u001b[0m\u001b[1;33m\u001b[0m\u001b[1;33m\u001b[0m\u001b[0m\n\u001b[1;32m---> 16\u001b[1;33m         \u001b[0mself\u001b[0m\u001b[1;33m.\u001b[0m\u001b[0mdata\u001b[0m \u001b[1;33m=\u001b[0m \u001b[0msuzuki\u001b[0m\u001b[1;33m(\u001b[0m\u001b[1;33m)\u001b[0m\u001b[1;33m\u001b[0m\u001b[1;33m\u001b[0m\u001b[0m\n\u001b[0m\u001b[0;32m     17\u001b[0m \u001b[1;33m\u001b[0m\u001b[0m\n\u001b[0;32m     18\u001b[0m         \u001b[1;31m# Components required for DOE\u001b[0m\u001b[1;33m\u001b[0m\u001b[1;33m\u001b[0m\u001b[1;33m\u001b[0m\u001b[0m\n",
      "\u001b[1;32m~\\Documents\\Programming\\AI3SD\\edbo\\examples\\DOE\\data_loader.py\u001b[0m in \u001b[0;36msuzuki\u001b[1;34m(electrophile, nucleophile, base, ligand, solvent)\u001b[0m\n\u001b[0;32m    165\u001b[0m     \u001b[1;31m# Build the descriptor set\u001b[0m\u001b[1;33m\u001b[0m\u001b[1;33m\u001b[0m\u001b[1;33m\u001b[0m\u001b[0m\n\u001b[0;32m    166\u001b[0m \u001b[1;33m\u001b[0m\u001b[0m\n\u001b[1;32m--> 167\u001b[1;33m     index_list = [index['Electrophile_SMILES'],\n\u001b[0m\u001b[0;32m    168\u001b[0m                   \u001b[0mindex\u001b[0m\u001b[1;33m[\u001b[0m\u001b[1;34m'Nucleophile_SMILES'\u001b[0m\u001b[1;33m]\u001b[0m\u001b[1;33m,\u001b[0m\u001b[1;33m\u001b[0m\u001b[1;33m\u001b[0m\u001b[0m\n\u001b[0;32m    169\u001b[0m                   \u001b[0mindex\u001b[0m\u001b[1;33m[\u001b[0m\u001b[1;34m'Base_SMILES'\u001b[0m\u001b[1;33m]\u001b[0m\u001b[1;33m,\u001b[0m\u001b[1;33m\u001b[0m\u001b[1;33m\u001b[0m\u001b[0m\n",
      "\u001b[1;32m~\\anaconda3\\envs\\edbo\\lib\\site-packages\\pandas\\core\\frame.py\u001b[0m in \u001b[0;36m__getitem__\u001b[1;34m(self, key)\u001b[0m\n\u001b[0;32m   3022\u001b[0m             \u001b[1;32mif\u001b[0m \u001b[0mself\u001b[0m\u001b[1;33m.\u001b[0m\u001b[0mcolumns\u001b[0m\u001b[1;33m.\u001b[0m\u001b[0mnlevels\u001b[0m \u001b[1;33m>\u001b[0m \u001b[1;36m1\u001b[0m\u001b[1;33m:\u001b[0m\u001b[1;33m\u001b[0m\u001b[1;33m\u001b[0m\u001b[0m\n\u001b[0;32m   3023\u001b[0m                 \u001b[1;32mreturn\u001b[0m \u001b[0mself\u001b[0m\u001b[1;33m.\u001b[0m\u001b[0m_getitem_multilevel\u001b[0m\u001b[1;33m(\u001b[0m\u001b[0mkey\u001b[0m\u001b[1;33m)\u001b[0m\u001b[1;33m\u001b[0m\u001b[1;33m\u001b[0m\u001b[0m\n\u001b[1;32m-> 3024\u001b[1;33m             \u001b[0mindexer\u001b[0m \u001b[1;33m=\u001b[0m \u001b[0mself\u001b[0m\u001b[1;33m.\u001b[0m\u001b[0mcolumns\u001b[0m\u001b[1;33m.\u001b[0m\u001b[0mget_loc\u001b[0m\u001b[1;33m(\u001b[0m\u001b[0mkey\u001b[0m\u001b[1;33m)\u001b[0m\u001b[1;33m\u001b[0m\u001b[1;33m\u001b[0m\u001b[0m\n\u001b[0m\u001b[0;32m   3025\u001b[0m             \u001b[1;32mif\u001b[0m \u001b[0mis_integer\u001b[0m\u001b[1;33m(\u001b[0m\u001b[0mindexer\u001b[0m\u001b[1;33m)\u001b[0m\u001b[1;33m:\u001b[0m\u001b[1;33m\u001b[0m\u001b[1;33m\u001b[0m\u001b[0m\n\u001b[0;32m   3026\u001b[0m                 \u001b[0mindexer\u001b[0m \u001b[1;33m=\u001b[0m \u001b[1;33m[\u001b[0m\u001b[0mindexer\u001b[0m\u001b[1;33m]\u001b[0m\u001b[1;33m\u001b[0m\u001b[1;33m\u001b[0m\u001b[0m\n",
      "\u001b[1;32m~\\anaconda3\\envs\\edbo\\lib\\site-packages\\pandas\\core\\indexes\\base.py\u001b[0m in \u001b[0;36mget_loc\u001b[1;34m(self, key, method, tolerance)\u001b[0m\n\u001b[0;32m   3081\u001b[0m                 \u001b[1;32mreturn\u001b[0m \u001b[0mself\u001b[0m\u001b[1;33m.\u001b[0m\u001b[0m_engine\u001b[0m\u001b[1;33m.\u001b[0m\u001b[0mget_loc\u001b[0m\u001b[1;33m(\u001b[0m\u001b[0mcasted_key\u001b[0m\u001b[1;33m)\u001b[0m\u001b[1;33m\u001b[0m\u001b[1;33m\u001b[0m\u001b[0m\n\u001b[0;32m   3082\u001b[0m             \u001b[1;32mexcept\u001b[0m \u001b[0mKeyError\u001b[0m \u001b[1;32mas\u001b[0m \u001b[0merr\u001b[0m\u001b[1;33m:\u001b[0m\u001b[1;33m\u001b[0m\u001b[1;33m\u001b[0m\u001b[0m\n\u001b[1;32m-> 3083\u001b[1;33m                 \u001b[1;32mraise\u001b[0m \u001b[0mKeyError\u001b[0m\u001b[1;33m(\u001b[0m\u001b[0mkey\u001b[0m\u001b[1;33m)\u001b[0m \u001b[1;32mfrom\u001b[0m \u001b[0merr\u001b[0m\u001b[1;33m\u001b[0m\u001b[1;33m\u001b[0m\u001b[0m\n\u001b[0m\u001b[0;32m   3084\u001b[0m \u001b[1;33m\u001b[0m\u001b[0m\n\u001b[0;32m   3085\u001b[0m         \u001b[1;32mif\u001b[0m \u001b[0mtolerance\u001b[0m \u001b[1;32mis\u001b[0m \u001b[1;32mnot\u001b[0m \u001b[1;32mNone\u001b[0m\u001b[1;33m:\u001b[0m\u001b[1;33m\u001b[0m\u001b[1;33m\u001b[0m\u001b[0m\n",
      "\u001b[1;31mKeyError\u001b[0m: 'Electrophile_SMILES'"
     ]
    }
   ],
   "source": [
    "# Data\n",
    "reaction = reaction1()\n",
    "\n",
    "# D-optimal design from R\n",
    "external = pd.read_csv('R_doptimal/suzuki_d-optimal.csv').iloc[:,1:] - 1 # Adjust for python indices\n",
    "\n",
    "# DOE + optimization\n",
    "designer, bo, maximum = doe_optimization(reaction, 3, budget=50, design='external', external=external)"
   ]
  },
  {
   "cell_type": "markdown",
   "metadata": {},
   "source": [
    "Check out the designs."
   ]
  },
  {
   "cell_type": "code",
   "execution_count": null,
   "metadata": {},
   "outputs": [],
   "source": [
    "designer.design.head()"
   ]
  },
  {
   "cell_type": "code",
   "execution_count": null,
   "metadata": {},
   "outputs": [],
   "source": [
    "designer.experiment_design.head()"
   ]
  },
  {
   "cell_type": "code",
   "execution_count": null,
   "metadata": {},
   "outputs": [],
   "source": [
    "designer.encoded_design.head()"
   ]
  },
  {
   "cell_type": "markdown",
   "metadata": {},
   "source": [
    "Plot the model's fit to the training data and the full reaction space."
   ]
  },
  {
   "cell_type": "code",
   "execution_count": null,
   "metadata": {},
   "outputs": [],
   "source": [
    "from edbo.plot_utils import pred_obs\n",
    "\n",
    "pred = bo.obj.scaler.unstandardize(bo.model.predict(bo.obj.results.drop('yield', axis=1).values))\n",
    "obs = bo.obj.results_input()['yield'].values\n",
    "pred_obs(pred, obs, title='Training')\n",
    "\n",
    "pred = bo.obj.scaler.unstandardize(bo.model.predict(bo.obj.domain.values))\n",
    "obs = bo.obj.exindex['yield'].values\n",
    "pred_obs(pred, obs, title='Full Space Fit')"
   ]
  },
  {
   "cell_type": "markdown",
   "metadata": {},
   "source": [
    "## Simulations & Statistics\n",
    "\n",
    "Now to gauge the variance in outcome to the ordering of the categorical variables we will run DOE based optimizations on each of the six development sets with 20 different random shuffling. To do this we can write a simulation function based on the modeling functions.\n"
   ]
  },
  {
   "cell_type": "code",
   "execution_count": 10,
   "metadata": {},
   "outputs": [],
   "source": [
    "# Simulation function\n",
    "\n",
    "def simulation(reaction, rounds, reduction=21, budget=50, design='gsd', external=None):\n",
    "\n",
    "    i = 0\n",
    "    count = 0\n",
    "    maxs = []\n",
    "    results = []\n",
    "    \n",
    "    while count < rounds:\n",
    "        # Some data sets are missing a few values which leads to an exception when fetching results\n",
    "        try:\n",
    "            designer, bo, maximum = doe_optimization(reaction, i, reduction=reduction, budget=budget, design=design, external=external)\n",
    "            result = list(bo.obj.results_input()['yield'].values)\n",
    "            \n",
    "            # Try not to end up with the same experimental design twice\n",
    "            if result not in results:\n",
    "                results.append(result)\n",
    "                maxs.append(maximum)\n",
    "                count += 1\n",
    "                i += 1\n",
    "            else:\n",
    "                i += 1\n",
    "        except:\n",
    "            i += 1\n",
    "            pass\n",
    "        \n",
    "    return results, maxs"
   ]
  },
  {
   "cell_type": "markdown",
   "metadata": {},
   "source": [
    "Then with the optimization outcome distributions in hand we can compute some test statistics to evaluate the performance of BO versus DOE in the optimization of the 6 development reactions with the same experimental budget. To do this, we will conduct a hypothesis test under the null hypothesis that the central tendency of BO and DOE performance is identical. Here, we remove the assumption of equal variance between the two population samples and utilize an unpaired Welch’s t-test with Satterthwait degrees of freedom."
   ]
  },
  {
   "cell_type": "code",
   "execution_count": 11,
   "metadata": {},
   "outputs": [],
   "source": [
    "import matplotlib.pyplot as plt\n",
    "\n",
    "# Statistics functions\n",
    "\n",
    "try: \n",
    "    import statsmodels.stats.api as sms\n",
    "except:\n",
    "    !conda install -y statsmodels\n",
    "    import statsmodels.stats.api as sms\n",
    "\n",
    "# Welsh's t-test    \n",
    "\n",
    "def t_test(X1, X2, sample_vars='equal', print_out=True):\n",
    "    \"\"\"\n",
    "    t-test for the null hypothesis of identical means. The unpaired \n",
    "    t-test should not be used if there is a significant difference \n",
    "    between the variances of the two samples. Here, if the variance\n",
    "    of the samples is not assumed to be the same, then Welsh t-test \n",
    "    with Satterthwait degrees of freedom is used.\n",
    "    \"\"\"\n",
    "    \n",
    "    if sample_vars == 'equal':\n",
    "        usevar = 'pooled'\n",
    "    else:\n",
    "        usevar = 'unequal'\n",
    "        \n",
    "    cm = sms.CompareMeans(sms.DescrStatsW(X1), sms.DescrStatsW(X2))\n",
    "    ci = cm.tconfint_diff(usevar=usevar)\n",
    "    t_value = cm.ttest_ind(usevar=usevar)\n",
    "    \n",
    "    if print_out == True:\n",
    "        print('95% CI:', ci)\n",
    "        print('DOF:', t_value[2])\n",
    "        print('t-stat:', t_value[0])\n",
    "        print('p-value:', t_value[1])\n",
    "        \n",
    "    return [t_value[2], t_value[0], t_value[1], ci[0], ci[1]]\n",
    "\n",
    "# Report summary statistics    \n",
    "\n",
    "def statistic_summary(bo_maxs, doe_maxs, export_path=None):\n",
    "    \"\"\"Distributional and statistical summary.\"\"\"\n",
    "    \n",
    "    # Disributions\n",
    "    plt.figure(figsize=(5,5))\n",
    "    \n",
    "    plt.hist(bo_maxs, alpha=0.5, label='Bayesian Optimization')\n",
    "    plt.hist(doe_maxs, alpha=0.5, label='DOE Optimization')\n",
    "    plt.legend(loc='upper left')\n",
    "    plt.xlabel('Max Observed Yield')\n",
    "    plt.ylabel('Count')\n",
    "    \n",
    "    if export_path is not None:\n",
    "        plt.savefig(export_path + '.svg', format='svg', dpi=1200, bbox_inches='tight')\n",
    "        plt.show()\n",
    "    else:\n",
    "        plt.show()\n",
    "    \n",
    "    # Statistics\n",
    "    print('\\n') \n",
    "    print('---------------------------------------')\n",
    "    print('-------------Distributions-------------')\n",
    "    print('---------------------------------------')\n",
    "    print('BO Mean:', sum(bo_maxs)/len(bo_maxs), '|', 'DOE Mean:', sum(doe_maxs)/len(doe_maxs))\n",
    "    print('BO STD:',  np.array(bo_maxs).std(),   '|', 'DOE STD:',  np.array(doe_maxs).std())\n",
    "    print('BO Min:',  min(bo_maxs), '|', 'DOE Min:',  min(doe_maxs))\n",
    "    print('\\n') \n",
    "    print('---------------------------------------')\n",
    "    print('---Hypothesis Test: MeanBO = MeanDOE---')\n",
    "    print('---------------------------------------')\n",
    "    print('BO Mean - DOE Mean:', sum(bo_maxs)/len(bo_maxs) - sum(doe_maxs)/len(doe_maxs))\n",
    "    t = t_test(bo_maxs, doe_maxs, sample_vars='unequal')\n",
    "    \n",
    "    dist = [sum(bo_maxs)/len(bo_maxs) - sum(doe_maxs)/len(doe_maxs),\n",
    "            np.array(bo_maxs).std() - np.array(doe_maxs).std(),\n",
    "            min(bo_maxs) - min(doe_maxs)]\n",
    "    \n",
    "    columns = ['BO Mean - DOE Mean', 'BO STD - DOE STD', 'BO Min - DOE Min', 'DOF', 't-stat', 'p-value', 'CI95 Lower', 'CI95 Upper']\n",
    "    \n",
    "    return pd.DataFrame([dist + t], columns=columns)"
   ]
  },
  {
   "cell_type": "markdown",
   "metadata": {},
   "source": [
    "Load BO simulation results."
   ]
  },
  {
   "cell_type": "code",
   "execution_count": 12,
   "metadata": {},
   "outputs": [
    {
     "ename": "FileNotFoundError",
     "evalue": "[Errno 2] No such file or directory: 'simulation_results/Suz_bs=5_rand_GP-EI.csv'",
     "output_type": "error",
     "traceback": [
      "\u001b[1;31m---------------------------------------------------------------------------\u001b[0m",
      "\u001b[1;31mFileNotFoundError\u001b[0m                         Traceback (most recent call last)",
      "\u001b[1;32m<ipython-input-12-f11ad6bbd5a1>\u001b[0m in \u001b[0;36m<module>\u001b[1;34m\u001b[0m\n\u001b[0;32m     11\u001b[0m \u001b[0mbo_maxs\u001b[0m \u001b[1;33m=\u001b[0m \u001b[1;33m{\u001b[0m\u001b[1;33m}\u001b[0m\u001b[1;33m\u001b[0m\u001b[1;33m\u001b[0m\u001b[0m\n\u001b[0;32m     12\u001b[0m \u001b[1;32mfor\u001b[0m \u001b[0mpath\u001b[0m\u001b[1;33m,\u001b[0m \u001b[0mkey\u001b[0m \u001b[1;32min\u001b[0m \u001b[0mzip\u001b[0m\u001b[1;33m(\u001b[0m\u001b[0mpaths\u001b[0m\u001b[1;33m,\u001b[0m\u001b[1;33m[\u001b[0m\u001b[1;34m'reaction1'\u001b[0m\u001b[1;33m,\u001b[0m \u001b[1;34m'reaction2a'\u001b[0m\u001b[1;33m,\u001b[0m \u001b[1;34m'reaction2b'\u001b[0m\u001b[1;33m,\u001b[0m \u001b[1;34m'reaction2c'\u001b[0m\u001b[1;33m,\u001b[0m \u001b[1;34m'reaction2d'\u001b[0m\u001b[1;33m,\u001b[0m \u001b[1;34m'reaction2e'\u001b[0m\u001b[1;33m]\u001b[0m\u001b[1;33m)\u001b[0m\u001b[1;33m:\u001b[0m\u001b[1;33m\u001b[0m\u001b[1;33m\u001b[0m\u001b[0m\n\u001b[1;32m---> 13\u001b[1;33m     \u001b[0mresult\u001b[0m \u001b[1;33m=\u001b[0m \u001b[0mpd\u001b[0m\u001b[1;33m.\u001b[0m\u001b[0mread_csv\u001b[0m\u001b[1;33m(\u001b[0m\u001b[0mpath\u001b[0m\u001b[1;33m,\u001b[0m \u001b[0mindex_col\u001b[0m\u001b[1;33m=\u001b[0m\u001b[1;36m0\u001b[0m\u001b[1;33m)\u001b[0m\u001b[1;33m\u001b[0m\u001b[1;33m\u001b[0m\u001b[0m\n\u001b[0m\u001b[0;32m     14\u001b[0m     \u001b[0mbo_results\u001b[0m\u001b[1;33m[\u001b[0m\u001b[0mkey\u001b[0m\u001b[1;33m]\u001b[0m \u001b[1;33m=\u001b[0m \u001b[0mresult\u001b[0m\u001b[1;33m\u001b[0m\u001b[1;33m\u001b[0m\u001b[0m\n\u001b[0;32m     15\u001b[0m     \u001b[0mbo_maxs\u001b[0m\u001b[1;33m[\u001b[0m\u001b[0mkey\u001b[0m\u001b[1;33m]\u001b[0m \u001b[1;33m=\u001b[0m \u001b[0mresult\u001b[0m\u001b[1;33m.\u001b[0m\u001b[0mmax\u001b[0m\u001b[1;33m(\u001b[0m\u001b[0maxis\u001b[0m\u001b[1;33m=\u001b[0m\u001b[1;36m1\u001b[0m\u001b[1;33m)\u001b[0m\u001b[1;33m.\u001b[0m\u001b[0mvalues\u001b[0m\u001b[1;33m\u001b[0m\u001b[1;33m\u001b[0m\u001b[0m\n",
      "\u001b[1;32m~\\anaconda3\\envs\\edbo\\lib\\site-packages\\pandas\\io\\parsers.py\u001b[0m in \u001b[0;36mread_csv\u001b[1;34m(filepath_or_buffer, sep, delimiter, header, names, index_col, usecols, squeeze, prefix, mangle_dupe_cols, dtype, engine, converters, true_values, false_values, skipinitialspace, skiprows, skipfooter, nrows, na_values, keep_default_na, na_filter, verbose, skip_blank_lines, parse_dates, infer_datetime_format, keep_date_col, date_parser, dayfirst, cache_dates, iterator, chunksize, compression, thousands, decimal, lineterminator, quotechar, quoting, doublequote, escapechar, comment, encoding, dialect, error_bad_lines, warn_bad_lines, delim_whitespace, low_memory, memory_map, float_precision, storage_options)\u001b[0m\n\u001b[0;32m    608\u001b[0m     \u001b[0mkwds\u001b[0m\u001b[1;33m.\u001b[0m\u001b[0mupdate\u001b[0m\u001b[1;33m(\u001b[0m\u001b[0mkwds_defaults\u001b[0m\u001b[1;33m)\u001b[0m\u001b[1;33m\u001b[0m\u001b[1;33m\u001b[0m\u001b[0m\n\u001b[0;32m    609\u001b[0m \u001b[1;33m\u001b[0m\u001b[0m\n\u001b[1;32m--> 610\u001b[1;33m     \u001b[1;32mreturn\u001b[0m \u001b[0m_read\u001b[0m\u001b[1;33m(\u001b[0m\u001b[0mfilepath_or_buffer\u001b[0m\u001b[1;33m,\u001b[0m \u001b[0mkwds\u001b[0m\u001b[1;33m)\u001b[0m\u001b[1;33m\u001b[0m\u001b[1;33m\u001b[0m\u001b[0m\n\u001b[0m\u001b[0;32m    611\u001b[0m \u001b[1;33m\u001b[0m\u001b[0m\n\u001b[0;32m    612\u001b[0m \u001b[1;33m\u001b[0m\u001b[0m\n",
      "\u001b[1;32m~\\anaconda3\\envs\\edbo\\lib\\site-packages\\pandas\\io\\parsers.py\u001b[0m in \u001b[0;36m_read\u001b[1;34m(filepath_or_buffer, kwds)\u001b[0m\n\u001b[0;32m    460\u001b[0m \u001b[1;33m\u001b[0m\u001b[0m\n\u001b[0;32m    461\u001b[0m     \u001b[1;31m# Create the parser.\u001b[0m\u001b[1;33m\u001b[0m\u001b[1;33m\u001b[0m\u001b[1;33m\u001b[0m\u001b[0m\n\u001b[1;32m--> 462\u001b[1;33m     \u001b[0mparser\u001b[0m \u001b[1;33m=\u001b[0m \u001b[0mTextFileReader\u001b[0m\u001b[1;33m(\u001b[0m\u001b[0mfilepath_or_buffer\u001b[0m\u001b[1;33m,\u001b[0m \u001b[1;33m**\u001b[0m\u001b[0mkwds\u001b[0m\u001b[1;33m)\u001b[0m\u001b[1;33m\u001b[0m\u001b[1;33m\u001b[0m\u001b[0m\n\u001b[0m\u001b[0;32m    463\u001b[0m \u001b[1;33m\u001b[0m\u001b[0m\n\u001b[0;32m    464\u001b[0m     \u001b[1;32mif\u001b[0m \u001b[0mchunksize\u001b[0m \u001b[1;32mor\u001b[0m \u001b[0miterator\u001b[0m\u001b[1;33m:\u001b[0m\u001b[1;33m\u001b[0m\u001b[1;33m\u001b[0m\u001b[0m\n",
      "\u001b[1;32m~\\anaconda3\\envs\\edbo\\lib\\site-packages\\pandas\\io\\parsers.py\u001b[0m in \u001b[0;36m__init__\u001b[1;34m(self, f, engine, **kwds)\u001b[0m\n\u001b[0;32m    817\u001b[0m             \u001b[0mself\u001b[0m\u001b[1;33m.\u001b[0m\u001b[0moptions\u001b[0m\u001b[1;33m[\u001b[0m\u001b[1;34m\"has_index_names\"\u001b[0m\u001b[1;33m]\u001b[0m \u001b[1;33m=\u001b[0m \u001b[0mkwds\u001b[0m\u001b[1;33m[\u001b[0m\u001b[1;34m\"has_index_names\"\u001b[0m\u001b[1;33m]\u001b[0m\u001b[1;33m\u001b[0m\u001b[1;33m\u001b[0m\u001b[0m\n\u001b[0;32m    818\u001b[0m \u001b[1;33m\u001b[0m\u001b[0m\n\u001b[1;32m--> 819\u001b[1;33m         \u001b[0mself\u001b[0m\u001b[1;33m.\u001b[0m\u001b[0m_engine\u001b[0m \u001b[1;33m=\u001b[0m \u001b[0mself\u001b[0m\u001b[1;33m.\u001b[0m\u001b[0m_make_engine\u001b[0m\u001b[1;33m(\u001b[0m\u001b[0mself\u001b[0m\u001b[1;33m.\u001b[0m\u001b[0mengine\u001b[0m\u001b[1;33m)\u001b[0m\u001b[1;33m\u001b[0m\u001b[1;33m\u001b[0m\u001b[0m\n\u001b[0m\u001b[0;32m    820\u001b[0m \u001b[1;33m\u001b[0m\u001b[0m\n\u001b[0;32m    821\u001b[0m     \u001b[1;32mdef\u001b[0m \u001b[0mclose\u001b[0m\u001b[1;33m(\u001b[0m\u001b[0mself\u001b[0m\u001b[1;33m)\u001b[0m\u001b[1;33m:\u001b[0m\u001b[1;33m\u001b[0m\u001b[1;33m\u001b[0m\u001b[0m\n",
      "\u001b[1;32m~\\anaconda3\\envs\\edbo\\lib\\site-packages\\pandas\\io\\parsers.py\u001b[0m in \u001b[0;36m_make_engine\u001b[1;34m(self, engine)\u001b[0m\n\u001b[0;32m   1048\u001b[0m             )\n\u001b[0;32m   1049\u001b[0m         \u001b[1;31m# error: Too many arguments for \"ParserBase\"\u001b[0m\u001b[1;33m\u001b[0m\u001b[1;33m\u001b[0m\u001b[1;33m\u001b[0m\u001b[0m\n\u001b[1;32m-> 1050\u001b[1;33m         \u001b[1;32mreturn\u001b[0m \u001b[0mmapping\u001b[0m\u001b[1;33m[\u001b[0m\u001b[0mengine\u001b[0m\u001b[1;33m]\u001b[0m\u001b[1;33m(\u001b[0m\u001b[0mself\u001b[0m\u001b[1;33m.\u001b[0m\u001b[0mf\u001b[0m\u001b[1;33m,\u001b[0m \u001b[1;33m**\u001b[0m\u001b[0mself\u001b[0m\u001b[1;33m.\u001b[0m\u001b[0moptions\u001b[0m\u001b[1;33m)\u001b[0m  \u001b[1;31m# type: ignore[call-arg]\u001b[0m\u001b[1;33m\u001b[0m\u001b[1;33m\u001b[0m\u001b[0m\n\u001b[0m\u001b[0;32m   1051\u001b[0m \u001b[1;33m\u001b[0m\u001b[0m\n\u001b[0;32m   1052\u001b[0m     \u001b[1;32mdef\u001b[0m \u001b[0m_failover_to_python\u001b[0m\u001b[1;33m(\u001b[0m\u001b[0mself\u001b[0m\u001b[1;33m)\u001b[0m\u001b[1;33m:\u001b[0m\u001b[1;33m\u001b[0m\u001b[1;33m\u001b[0m\u001b[0m\n",
      "\u001b[1;32m~\\anaconda3\\envs\\edbo\\lib\\site-packages\\pandas\\io\\parsers.py\u001b[0m in \u001b[0;36m__init__\u001b[1;34m(self, src, **kwds)\u001b[0m\n\u001b[0;32m   1865\u001b[0m \u001b[1;33m\u001b[0m\u001b[0m\n\u001b[0;32m   1866\u001b[0m         \u001b[1;31m# open handles\u001b[0m\u001b[1;33m\u001b[0m\u001b[1;33m\u001b[0m\u001b[1;33m\u001b[0m\u001b[0m\n\u001b[1;32m-> 1867\u001b[1;33m         \u001b[0mself\u001b[0m\u001b[1;33m.\u001b[0m\u001b[0m_open_handles\u001b[0m\u001b[1;33m(\u001b[0m\u001b[0msrc\u001b[0m\u001b[1;33m,\u001b[0m \u001b[0mkwds\u001b[0m\u001b[1;33m)\u001b[0m\u001b[1;33m\u001b[0m\u001b[1;33m\u001b[0m\u001b[0m\n\u001b[0m\u001b[0;32m   1868\u001b[0m         \u001b[1;32massert\u001b[0m \u001b[0mself\u001b[0m\u001b[1;33m.\u001b[0m\u001b[0mhandles\u001b[0m \u001b[1;32mis\u001b[0m \u001b[1;32mnot\u001b[0m \u001b[1;32mNone\u001b[0m\u001b[1;33m\u001b[0m\u001b[1;33m\u001b[0m\u001b[0m\n\u001b[0;32m   1869\u001b[0m         \u001b[1;32mfor\u001b[0m \u001b[0mkey\u001b[0m \u001b[1;32min\u001b[0m \u001b[1;33m(\u001b[0m\u001b[1;34m\"storage_options\"\u001b[0m\u001b[1;33m,\u001b[0m \u001b[1;34m\"encoding\"\u001b[0m\u001b[1;33m,\u001b[0m \u001b[1;34m\"memory_map\"\u001b[0m\u001b[1;33m,\u001b[0m \u001b[1;34m\"compression\"\u001b[0m\u001b[1;33m)\u001b[0m\u001b[1;33m:\u001b[0m\u001b[1;33m\u001b[0m\u001b[1;33m\u001b[0m\u001b[0m\n",
      "\u001b[1;32m~\\anaconda3\\envs\\edbo\\lib\\site-packages\\pandas\\io\\parsers.py\u001b[0m in \u001b[0;36m_open_handles\u001b[1;34m(self, src, kwds)\u001b[0m\n\u001b[0;32m   1366\u001b[0m             \u001b[0mcompression\u001b[0m\u001b[1;33m=\u001b[0m\u001b[0mkwds\u001b[0m\u001b[1;33m.\u001b[0m\u001b[0mget\u001b[0m\u001b[1;33m(\u001b[0m\u001b[1;34m\"compression\"\u001b[0m\u001b[1;33m,\u001b[0m \u001b[1;32mNone\u001b[0m\u001b[1;33m)\u001b[0m\u001b[1;33m,\u001b[0m\u001b[1;33m\u001b[0m\u001b[1;33m\u001b[0m\u001b[0m\n\u001b[0;32m   1367\u001b[0m             \u001b[0mmemory_map\u001b[0m\u001b[1;33m=\u001b[0m\u001b[0mkwds\u001b[0m\u001b[1;33m.\u001b[0m\u001b[0mget\u001b[0m\u001b[1;33m(\u001b[0m\u001b[1;34m\"memory_map\"\u001b[0m\u001b[1;33m,\u001b[0m \u001b[1;32mFalse\u001b[0m\u001b[1;33m)\u001b[0m\u001b[1;33m,\u001b[0m\u001b[1;33m\u001b[0m\u001b[1;33m\u001b[0m\u001b[0m\n\u001b[1;32m-> 1368\u001b[1;33m             \u001b[0mstorage_options\u001b[0m\u001b[1;33m=\u001b[0m\u001b[0mkwds\u001b[0m\u001b[1;33m.\u001b[0m\u001b[0mget\u001b[0m\u001b[1;33m(\u001b[0m\u001b[1;34m\"storage_options\"\u001b[0m\u001b[1;33m,\u001b[0m \u001b[1;32mNone\u001b[0m\u001b[1;33m)\u001b[0m\u001b[1;33m,\u001b[0m\u001b[1;33m\u001b[0m\u001b[1;33m\u001b[0m\u001b[0m\n\u001b[0m\u001b[0;32m   1369\u001b[0m         )\n\u001b[0;32m   1370\u001b[0m \u001b[1;33m\u001b[0m\u001b[0m\n",
      "\u001b[1;32m~\\anaconda3\\envs\\edbo\\lib\\site-packages\\pandas\\io\\common.py\u001b[0m in \u001b[0;36mget_handle\u001b[1;34m(path_or_buf, mode, encoding, compression, memory_map, is_text, errors, storage_options)\u001b[0m\n\u001b[0;32m    650\u001b[0m                 \u001b[0mencoding\u001b[0m\u001b[1;33m=\u001b[0m\u001b[0mioargs\u001b[0m\u001b[1;33m.\u001b[0m\u001b[0mencoding\u001b[0m\u001b[1;33m,\u001b[0m\u001b[1;33m\u001b[0m\u001b[1;33m\u001b[0m\u001b[0m\n\u001b[0;32m    651\u001b[0m                 \u001b[0merrors\u001b[0m\u001b[1;33m=\u001b[0m\u001b[0merrors\u001b[0m\u001b[1;33m,\u001b[0m\u001b[1;33m\u001b[0m\u001b[1;33m\u001b[0m\u001b[0m\n\u001b[1;32m--> 652\u001b[1;33m                 \u001b[0mnewline\u001b[0m\u001b[1;33m=\u001b[0m\u001b[1;34m\"\"\u001b[0m\u001b[1;33m,\u001b[0m\u001b[1;33m\u001b[0m\u001b[1;33m\u001b[0m\u001b[0m\n\u001b[0m\u001b[0;32m    653\u001b[0m             )\n\u001b[0;32m    654\u001b[0m         \u001b[1;32melse\u001b[0m\u001b[1;33m:\u001b[0m\u001b[1;33m\u001b[0m\u001b[1;33m\u001b[0m\u001b[0m\n",
      "\u001b[1;31mFileNotFoundError\u001b[0m: [Errno 2] No such file or directory: 'simulation_results/Suz_bs=5_rand_GP-EI.csv'"
     ]
    }
   ],
   "source": [
    "# BO results\n",
    "\n",
    "paths = ['simulation_results/Suz_bs=5_rand_GP-EI.csv',\n",
    "         'simulation_results/CNar1_bs=5_rand_GP-EI.csv',\n",
    "         'simulation_results/CNar2_bs=5_rand_GP-EI.csv',\n",
    "         'simulation_results/CNar3_bs=5_rand_GP-EI.csv',\n",
    "         'simulation_results/CNar4_bs=5_rand_GP-EI.csv',\n",
    "         'simulation_results/CNar5_bs=5_rand_GP-EI.csv']\n",
    "\n",
    "bo_results = {}\n",
    "bo_maxs = {}\n",
    "for path, key in zip(paths,['reaction1', 'reaction2a', 'reaction2b', 'reaction2c', 'reaction2d', 'reaction2e']):\n",
    "    result = pd.read_csv(path, index_col=0)\n",
    "    bo_results[key] = result\n",
    "    bo_maxs[key] = result.max(axis=1).values"
   ]
  },
  {
   "cell_type": "markdown",
   "metadata": {},
   "source": [
    "### Generalized Subset Design Simulations "
   ]
  },
  {
   "cell_type": "markdown",
   "metadata": {},
   "source": [
    "**Reaction 1**"
   ]
  },
  {
   "cell_type": "code",
   "execution_count": 13,
   "metadata": {},
   "outputs": [
    {
     "ename": "KeyError",
     "evalue": "'Electrophile_SMILES'",
     "output_type": "error",
     "traceback": [
      "\u001b[1;31m---------------------------------------------------------------------------\u001b[0m",
      "\u001b[1;31mKeyError\u001b[0m                                  Traceback (most recent call last)",
      "\u001b[1;32m~\\anaconda3\\envs\\edbo\\lib\\site-packages\\pandas\\core\\indexes\\base.py\u001b[0m in \u001b[0;36mget_loc\u001b[1;34m(self, key, method, tolerance)\u001b[0m\n\u001b[0;32m   3080\u001b[0m             \u001b[1;32mtry\u001b[0m\u001b[1;33m:\u001b[0m\u001b[1;33m\u001b[0m\u001b[1;33m\u001b[0m\u001b[0m\n\u001b[1;32m-> 3081\u001b[1;33m                 \u001b[1;32mreturn\u001b[0m \u001b[0mself\u001b[0m\u001b[1;33m.\u001b[0m\u001b[0m_engine\u001b[0m\u001b[1;33m.\u001b[0m\u001b[0mget_loc\u001b[0m\u001b[1;33m(\u001b[0m\u001b[0mcasted_key\u001b[0m\u001b[1;33m)\u001b[0m\u001b[1;33m\u001b[0m\u001b[1;33m\u001b[0m\u001b[0m\n\u001b[0m\u001b[0;32m   3082\u001b[0m             \u001b[1;32mexcept\u001b[0m \u001b[0mKeyError\u001b[0m \u001b[1;32mas\u001b[0m \u001b[0merr\u001b[0m\u001b[1;33m:\u001b[0m\u001b[1;33m\u001b[0m\u001b[1;33m\u001b[0m\u001b[0m\n",
      "\u001b[1;32mpandas\\_libs\\index.pyx\u001b[0m in \u001b[0;36mpandas._libs.index.IndexEngine.get_loc\u001b[1;34m()\u001b[0m\n",
      "\u001b[1;32mpandas\\_libs\\index.pyx\u001b[0m in \u001b[0;36mpandas._libs.index.IndexEngine.get_loc\u001b[1;34m()\u001b[0m\n",
      "\u001b[1;32mpandas\\_libs\\hashtable_class_helper.pxi\u001b[0m in \u001b[0;36mpandas._libs.hashtable.PyObjectHashTable.get_item\u001b[1;34m()\u001b[0m\n",
      "\u001b[1;32mpandas\\_libs\\hashtable_class_helper.pxi\u001b[0m in \u001b[0;36mpandas._libs.hashtable.PyObjectHashTable.get_item\u001b[1;34m()\u001b[0m\n",
      "\u001b[1;31mKeyError\u001b[0m: 'Electrophile_SMILES'",
      "\nThe above exception was the direct cause of the following exception:\n",
      "\u001b[1;31mKeyError\u001b[0m                                  Traceback (most recent call last)",
      "\u001b[1;32m<ipython-input-13-e0740d67ce2c>\u001b[0m in \u001b[0;36m<module>\u001b[1;34m\u001b[0m\n\u001b[0;32m      2\u001b[0m \u001b[1;33m\u001b[0m\u001b[0m\n\u001b[0;32m      3\u001b[0m \u001b[1;31m# Data\u001b[0m\u001b[1;33m\u001b[0m\u001b[1;33m\u001b[0m\u001b[1;33m\u001b[0m\u001b[0m\n\u001b[1;32m----> 4\u001b[1;33m \u001b[0mreaction\u001b[0m \u001b[1;33m=\u001b[0m \u001b[0mreaction1\u001b[0m\u001b[1;33m(\u001b[0m\u001b[1;33m)\u001b[0m\u001b[1;33m\u001b[0m\u001b[1;33m\u001b[0m\u001b[0m\n\u001b[0m\u001b[0;32m      5\u001b[0m \u001b[0mname\u001b[0m \u001b[1;33m=\u001b[0m \u001b[0mPATH\u001b[0m \u001b[1;33m+\u001b[0m \u001b[1;34m'Suzuki_GSD_Poly_ARD_Model'\u001b[0m\u001b[1;33m\u001b[0m\u001b[1;33m\u001b[0m\u001b[0m\n\u001b[0;32m      6\u001b[0m \u001b[1;33m\u001b[0m\u001b[0m\n",
      "\u001b[1;32m<ipython-input-1-9d9d6cd72feb>\u001b[0m in \u001b[0;36m__init__\u001b[1;34m(self)\u001b[0m\n\u001b[0;32m     14\u001b[0m \u001b[1;33m\u001b[0m\u001b[0m\n\u001b[0;32m     15\u001b[0m         \u001b[1;31m# Load OHE data\u001b[0m\u001b[1;33m\u001b[0m\u001b[1;33m\u001b[0m\u001b[1;33m\u001b[0m\u001b[0m\n\u001b[1;32m---> 16\u001b[1;33m         \u001b[0mself\u001b[0m\u001b[1;33m.\u001b[0m\u001b[0mdata\u001b[0m \u001b[1;33m=\u001b[0m \u001b[0msuzuki\u001b[0m\u001b[1;33m(\u001b[0m\u001b[1;33m)\u001b[0m\u001b[1;33m\u001b[0m\u001b[1;33m\u001b[0m\u001b[0m\n\u001b[0m\u001b[0;32m     17\u001b[0m \u001b[1;33m\u001b[0m\u001b[0m\n\u001b[0;32m     18\u001b[0m         \u001b[1;31m# Components required for DOE\u001b[0m\u001b[1;33m\u001b[0m\u001b[1;33m\u001b[0m\u001b[1;33m\u001b[0m\u001b[0m\n",
      "\u001b[1;32m~\\Documents\\Programming\\AI3SD\\edbo\\examples\\DOE\\data_loader.py\u001b[0m in \u001b[0;36msuzuki\u001b[1;34m(electrophile, nucleophile, base, ligand, solvent)\u001b[0m\n\u001b[0;32m    165\u001b[0m     \u001b[1;31m# Build the descriptor set\u001b[0m\u001b[1;33m\u001b[0m\u001b[1;33m\u001b[0m\u001b[1;33m\u001b[0m\u001b[0m\n\u001b[0;32m    166\u001b[0m \u001b[1;33m\u001b[0m\u001b[0m\n\u001b[1;32m--> 167\u001b[1;33m     index_list = [index['Electrophile_SMILES'],\n\u001b[0m\u001b[0;32m    168\u001b[0m                   \u001b[0mindex\u001b[0m\u001b[1;33m[\u001b[0m\u001b[1;34m'Nucleophile_SMILES'\u001b[0m\u001b[1;33m]\u001b[0m\u001b[1;33m,\u001b[0m\u001b[1;33m\u001b[0m\u001b[1;33m\u001b[0m\u001b[0m\n\u001b[0;32m    169\u001b[0m                   \u001b[0mindex\u001b[0m\u001b[1;33m[\u001b[0m\u001b[1;34m'Base_SMILES'\u001b[0m\u001b[1;33m]\u001b[0m\u001b[1;33m,\u001b[0m\u001b[1;33m\u001b[0m\u001b[1;33m\u001b[0m\u001b[0m\n",
      "\u001b[1;32m~\\anaconda3\\envs\\edbo\\lib\\site-packages\\pandas\\core\\frame.py\u001b[0m in \u001b[0;36m__getitem__\u001b[1;34m(self, key)\u001b[0m\n\u001b[0;32m   3022\u001b[0m             \u001b[1;32mif\u001b[0m \u001b[0mself\u001b[0m\u001b[1;33m.\u001b[0m\u001b[0mcolumns\u001b[0m\u001b[1;33m.\u001b[0m\u001b[0mnlevels\u001b[0m \u001b[1;33m>\u001b[0m \u001b[1;36m1\u001b[0m\u001b[1;33m:\u001b[0m\u001b[1;33m\u001b[0m\u001b[1;33m\u001b[0m\u001b[0m\n\u001b[0;32m   3023\u001b[0m                 \u001b[1;32mreturn\u001b[0m \u001b[0mself\u001b[0m\u001b[1;33m.\u001b[0m\u001b[0m_getitem_multilevel\u001b[0m\u001b[1;33m(\u001b[0m\u001b[0mkey\u001b[0m\u001b[1;33m)\u001b[0m\u001b[1;33m\u001b[0m\u001b[1;33m\u001b[0m\u001b[0m\n\u001b[1;32m-> 3024\u001b[1;33m             \u001b[0mindexer\u001b[0m \u001b[1;33m=\u001b[0m \u001b[0mself\u001b[0m\u001b[1;33m.\u001b[0m\u001b[0mcolumns\u001b[0m\u001b[1;33m.\u001b[0m\u001b[0mget_loc\u001b[0m\u001b[1;33m(\u001b[0m\u001b[0mkey\u001b[0m\u001b[1;33m)\u001b[0m\u001b[1;33m\u001b[0m\u001b[1;33m\u001b[0m\u001b[0m\n\u001b[0m\u001b[0;32m   3025\u001b[0m             \u001b[1;32mif\u001b[0m \u001b[0mis_integer\u001b[0m\u001b[1;33m(\u001b[0m\u001b[0mindexer\u001b[0m\u001b[1;33m)\u001b[0m\u001b[1;33m:\u001b[0m\u001b[1;33m\u001b[0m\u001b[1;33m\u001b[0m\u001b[0m\n\u001b[0;32m   3026\u001b[0m                 \u001b[0mindexer\u001b[0m \u001b[1;33m=\u001b[0m \u001b[1;33m[\u001b[0m\u001b[0mindexer\u001b[0m\u001b[1;33m]\u001b[0m\u001b[1;33m\u001b[0m\u001b[1;33m\u001b[0m\u001b[0m\n",
      "\u001b[1;32m~\\anaconda3\\envs\\edbo\\lib\\site-packages\\pandas\\core\\indexes\\base.py\u001b[0m in \u001b[0;36mget_loc\u001b[1;34m(self, key, method, tolerance)\u001b[0m\n\u001b[0;32m   3081\u001b[0m                 \u001b[1;32mreturn\u001b[0m \u001b[0mself\u001b[0m\u001b[1;33m.\u001b[0m\u001b[0m_engine\u001b[0m\u001b[1;33m.\u001b[0m\u001b[0mget_loc\u001b[0m\u001b[1;33m(\u001b[0m\u001b[0mcasted_key\u001b[0m\u001b[1;33m)\u001b[0m\u001b[1;33m\u001b[0m\u001b[1;33m\u001b[0m\u001b[0m\n\u001b[0;32m   3082\u001b[0m             \u001b[1;32mexcept\u001b[0m \u001b[0mKeyError\u001b[0m \u001b[1;32mas\u001b[0m \u001b[0merr\u001b[0m\u001b[1;33m:\u001b[0m\u001b[1;33m\u001b[0m\u001b[1;33m\u001b[0m\u001b[0m\n\u001b[1;32m-> 3083\u001b[1;33m                 \u001b[1;32mraise\u001b[0m \u001b[0mKeyError\u001b[0m\u001b[1;33m(\u001b[0m\u001b[0mkey\u001b[0m\u001b[1;33m)\u001b[0m \u001b[1;32mfrom\u001b[0m \u001b[0merr\u001b[0m\u001b[1;33m\u001b[0m\u001b[1;33m\u001b[0m\u001b[0m\n\u001b[0m\u001b[0;32m   3084\u001b[0m \u001b[1;33m\u001b[0m\u001b[0m\n\u001b[0;32m   3085\u001b[0m         \u001b[1;32mif\u001b[0m \u001b[0mtolerance\u001b[0m \u001b[1;32mis\u001b[0m \u001b[1;32mnot\u001b[0m \u001b[1;32mNone\u001b[0m\u001b[1;33m:\u001b[0m\u001b[1;33m\u001b[0m\u001b[1;33m\u001b[0m\u001b[0m\n",
      "\u001b[1;31mKeyError\u001b[0m: 'Electrophile_SMILES'"
     ]
    }
   ],
   "source": [
    "PATH = 'simulation_results/'\n",
    "\n",
    "# Data\n",
    "reaction = reaction1()\n",
    "name = PATH + 'Suzuki_GSD_Poly_ARD_Model'\n",
    "\n",
    "# Simulation\n",
    "results1, maxs1 = simulation(reaction, 20, reduction=19, budget=50)\n",
    "pd.DataFrame(results1).to_csv(name + '.csv')\n",
    "\n",
    "r1 = statistic_summary(bo_maxs['reaction1'], maxs1, export_path='simulation_results/Suzuki_hist_GSD')"
   ]
  },
  {
   "cell_type": "markdown",
   "metadata": {},
   "source": [
    "**Reaction 2a**"
   ]
  },
  {
   "cell_type": "code",
   "execution_count": 14,
   "metadata": {},
   "outputs": [
    {
     "name": "stdout",
     "output_type": "stream",
     "text": [
      "Seed: 1 | Design size: 44 | Fit R^2: 0.9983808243158707 | DOE max: 54.24578847 | Max: 54.24578847 | Ground truth: 55.56585889\n",
      "Seed: 2 | Design size: 44 | Fit R^2: 0.9999272380918603 | DOE max: 53.83922891 | Max: 53.83922891 | Ground truth: 55.56585889\n",
      "Seed: 3 | Design size: 44 | Fit R^2: 0.9969218276596375 | DOE max: 47.09445645 | Max: 49.46796695 | Ground truth: 55.56585889\n",
      "Seed: 4 | Design size: 44 | Fit R^2: 0.9996679614154397 | DOE max: 55.56585889 | Max: 55.56585889 | Ground truth: 55.56585889\n",
      "Seed: 6 | Design size: 44 | Fit R^2: 0.9952104411952084 | DOE max: 52.49415636 | Max: 55.16379105 | Ground truth: 55.56585889\n",
      "Seed: 7 | Design size: 44 | Fit R^2: 0.9579829183599162 | DOE max: 52.67302388 | Max: 52.67302388 | Ground truth: 55.56585889\n",
      "Seed: 8 | Design size: 44 | Fit R^2: 0.939910650283005 | DOE max: 52.49415636 | Max: 52.49415636 | Ground truth: 55.56585889\n",
      "Seed: 9 | Design size: 44 | Fit R^2: 0.9426334754091218 | DOE max: 54.22375463 | Max: 54.22375463 | Ground truth: 55.56585889\n",
      "Seed: 10 | Design size: 44 | Fit R^2: 0.9782508005019779 | DOE max: 47.555818 | Max: 52.13571621 | Ground truth: 55.56585889\n",
      "Seed: 11 | Design size: 44 | Fit R^2: 0.992782371567228 | DOE max: 55.56585889 | Max: 55.56585889 | Ground truth: 55.56585889\n",
      "Seed: 12 | Design size: 44 | Fit R^2: 0.998584699239718 | DOE max: 53.85457225 | Max: 55.16379105 | Ground truth: 55.56585889\n",
      "Seed: 13 | Design size: 44 | Fit R^2: 0.9382958375471626 | DOE max: 53.59986981 | Max: 53.59986981 | Ground truth: 55.56585889\n",
      "Seed: 14 | Design size: 44 | Fit R^2: 0.999843363943379 | DOE max: 54.22375463 | Max: 54.22375463 | Ground truth: 55.56585889\n",
      "Seed: 15 | Design size: 44 | Fit R^2: 0.9988770894148429 | DOE max: 52.37811419 | Max: 54.22375463 | Ground truth: 55.56585889\n",
      "Seed: 16 | Design size: 44 | Fit R^2: 0.9997650787227159 | DOE max: 52.55061961 | Max: 52.58811564 | Ground truth: 55.56585889\n",
      "Seed: 17 | Design size: 44 | Fit R^2: 0.9988378621201516 | DOE max: 46.24961136 | Max: 46.24961136 | Ground truth: 55.56585889\n",
      "Seed: 18 | Design size: 44 | Fit R^2: 0.9844198225975488 | DOE max: 50.86308576 | Max: 55.56585889 | Ground truth: 55.56585889\n",
      "Seed: 19 | Design size: 44 | Fit R^2: 0.9402776950145658 | DOE max: 54.22375463 | Max: 55.16379105 | Ground truth: 55.56585889\n",
      "Seed: 20 | Design size: 44 | Fit R^2: 0.9995861647820902 | DOE max: 52.13571621 | Max: 52.13571621 | Ground truth: 55.56585889\n",
      "Seed: 21 | Design size: 44 | Fit R^2: 0.9965763119100862 | DOE max: 51.75674767 | Max: 54.22375463 | Ground truth: 55.56585889\n"
     ]
    },
    {
     "ename": "FileNotFoundError",
     "evalue": "[Errno 2] No such file or directory: 'simulation_results/CNar1_GSD_Poly_ARD_Model.csv'",
     "output_type": "error",
     "traceback": [
      "\u001b[1;31m---------------------------------------------------------------------------\u001b[0m",
      "\u001b[1;31mFileNotFoundError\u001b[0m                         Traceback (most recent call last)",
      "\u001b[1;32m<ipython-input-14-81b01c89fd73>\u001b[0m in \u001b[0;36m<module>\u001b[1;34m\u001b[0m\n\u001b[0;32m      5\u001b[0m \u001b[1;31m# Simulation\u001b[0m\u001b[1;33m\u001b[0m\u001b[1;33m\u001b[0m\u001b[1;33m\u001b[0m\u001b[0m\n\u001b[0;32m      6\u001b[0m \u001b[0mresults2a\u001b[0m\u001b[1;33m,\u001b[0m \u001b[0mmaxs2a\u001b[0m \u001b[1;33m=\u001b[0m \u001b[0msimulation\u001b[0m\u001b[1;33m(\u001b[0m\u001b[0mreaction\u001b[0m\u001b[1;33m,\u001b[0m \u001b[1;36m20\u001b[0m\u001b[1;33m,\u001b[0m \u001b[0mreduction\u001b[0m\u001b[1;33m=\u001b[0m\u001b[1;36m21\u001b[0m\u001b[1;33m,\u001b[0m \u001b[0mbudget\u001b[0m\u001b[1;33m=\u001b[0m\u001b[1;36m50\u001b[0m\u001b[1;33m)\u001b[0m\u001b[1;33m\u001b[0m\u001b[1;33m\u001b[0m\u001b[0m\n\u001b[1;32m----> 7\u001b[1;33m \u001b[0mpd\u001b[0m\u001b[1;33m.\u001b[0m\u001b[0mDataFrame\u001b[0m\u001b[1;33m(\u001b[0m\u001b[0mresults2a\u001b[0m\u001b[1;33m)\u001b[0m\u001b[1;33m.\u001b[0m\u001b[0mto_csv\u001b[0m\u001b[1;33m(\u001b[0m\u001b[0mname\u001b[0m \u001b[1;33m+\u001b[0m \u001b[1;34m'.csv'\u001b[0m\u001b[1;33m)\u001b[0m\u001b[1;33m\u001b[0m\u001b[1;33m\u001b[0m\u001b[0m\n\u001b[0m\u001b[0;32m      8\u001b[0m \u001b[1;33m\u001b[0m\u001b[0m\n\u001b[0;32m      9\u001b[0m \u001b[0mr2a\u001b[0m \u001b[1;33m=\u001b[0m \u001b[0mstatistic_summary\u001b[0m\u001b[1;33m(\u001b[0m\u001b[0mbo_maxs\u001b[0m\u001b[1;33m[\u001b[0m\u001b[1;34m'reaction2a'\u001b[0m\u001b[1;33m]\u001b[0m\u001b[1;33m,\u001b[0m \u001b[0mmaxs2a\u001b[0m\u001b[1;33m,\u001b[0m \u001b[0mexport_path\u001b[0m\u001b[1;33m=\u001b[0m\u001b[1;34m'simulation_results/CNar1_hist_GSD'\u001b[0m\u001b[1;33m)\u001b[0m\u001b[1;33m\u001b[0m\u001b[1;33m\u001b[0m\u001b[0m\n",
      "\u001b[1;32m~\\anaconda3\\envs\\edbo\\lib\\site-packages\\pandas\\core\\generic.py\u001b[0m in \u001b[0;36mto_csv\u001b[1;34m(self, path_or_buf, sep, na_rep, float_format, columns, header, index, index_label, mode, encoding, compression, quoting, quotechar, line_terminator, chunksize, date_format, doublequote, escapechar, decimal, errors, storage_options)\u001b[0m\n\u001b[0;32m   3401\u001b[0m             \u001b[0mdoublequote\u001b[0m\u001b[1;33m=\u001b[0m\u001b[0mdoublequote\u001b[0m\u001b[1;33m,\u001b[0m\u001b[1;33m\u001b[0m\u001b[1;33m\u001b[0m\u001b[0m\n\u001b[0;32m   3402\u001b[0m             \u001b[0mescapechar\u001b[0m\u001b[1;33m=\u001b[0m\u001b[0mescapechar\u001b[0m\u001b[1;33m,\u001b[0m\u001b[1;33m\u001b[0m\u001b[1;33m\u001b[0m\u001b[0m\n\u001b[1;32m-> 3403\u001b[1;33m             \u001b[0mstorage_options\u001b[0m\u001b[1;33m=\u001b[0m\u001b[0mstorage_options\u001b[0m\u001b[1;33m,\u001b[0m\u001b[1;33m\u001b[0m\u001b[1;33m\u001b[0m\u001b[0m\n\u001b[0m\u001b[0;32m   3404\u001b[0m         )\n\u001b[0;32m   3405\u001b[0m \u001b[1;33m\u001b[0m\u001b[0m\n",
      "\u001b[1;32m~\\anaconda3\\envs\\edbo\\lib\\site-packages\\pandas\\io\\formats\\format.py\u001b[0m in \u001b[0;36mto_csv\u001b[1;34m(self, path_or_buf, encoding, sep, columns, index_label, mode, compression, quoting, quotechar, line_terminator, chunksize, date_format, doublequote, escapechar, errors, storage_options)\u001b[0m\n\u001b[0;32m   1081\u001b[0m             \u001b[0mformatter\u001b[0m\u001b[1;33m=\u001b[0m\u001b[0mself\u001b[0m\u001b[1;33m.\u001b[0m\u001b[0mfmt\u001b[0m\u001b[1;33m,\u001b[0m\u001b[1;33m\u001b[0m\u001b[1;33m\u001b[0m\u001b[0m\n\u001b[0;32m   1082\u001b[0m         )\n\u001b[1;32m-> 1083\u001b[1;33m         \u001b[0mcsv_formatter\u001b[0m\u001b[1;33m.\u001b[0m\u001b[0msave\u001b[0m\u001b[1;33m(\u001b[0m\u001b[1;33m)\u001b[0m\u001b[1;33m\u001b[0m\u001b[1;33m\u001b[0m\u001b[0m\n\u001b[0m\u001b[0;32m   1084\u001b[0m \u001b[1;33m\u001b[0m\u001b[0m\n\u001b[0;32m   1085\u001b[0m         \u001b[1;32mif\u001b[0m \u001b[0mcreated_buffer\u001b[0m\u001b[1;33m:\u001b[0m\u001b[1;33m\u001b[0m\u001b[1;33m\u001b[0m\u001b[0m\n",
      "\u001b[1;32m~\\anaconda3\\envs\\edbo\\lib\\site-packages\\pandas\\io\\formats\\csvs.py\u001b[0m in \u001b[0;36msave\u001b[1;34m(self)\u001b[0m\n\u001b[0;32m    232\u001b[0m             \u001b[0merrors\u001b[0m\u001b[1;33m=\u001b[0m\u001b[0mself\u001b[0m\u001b[1;33m.\u001b[0m\u001b[0merrors\u001b[0m\u001b[1;33m,\u001b[0m\u001b[1;33m\u001b[0m\u001b[1;33m\u001b[0m\u001b[0m\n\u001b[0;32m    233\u001b[0m             \u001b[0mcompression\u001b[0m\u001b[1;33m=\u001b[0m\u001b[0mself\u001b[0m\u001b[1;33m.\u001b[0m\u001b[0mcompression\u001b[0m\u001b[1;33m,\u001b[0m\u001b[1;33m\u001b[0m\u001b[1;33m\u001b[0m\u001b[0m\n\u001b[1;32m--> 234\u001b[1;33m             \u001b[0mstorage_options\u001b[0m\u001b[1;33m=\u001b[0m\u001b[0mself\u001b[0m\u001b[1;33m.\u001b[0m\u001b[0mstorage_options\u001b[0m\u001b[1;33m,\u001b[0m\u001b[1;33m\u001b[0m\u001b[1;33m\u001b[0m\u001b[0m\n\u001b[0m\u001b[0;32m    235\u001b[0m         ) as handles:\n\u001b[0;32m    236\u001b[0m \u001b[1;33m\u001b[0m\u001b[0m\n",
      "\u001b[1;32m~\\anaconda3\\envs\\edbo\\lib\\site-packages\\pandas\\io\\common.py\u001b[0m in \u001b[0;36mget_handle\u001b[1;34m(path_or_buf, mode, encoding, compression, memory_map, is_text, errors, storage_options)\u001b[0m\n\u001b[0;32m    650\u001b[0m                 \u001b[0mencoding\u001b[0m\u001b[1;33m=\u001b[0m\u001b[0mioargs\u001b[0m\u001b[1;33m.\u001b[0m\u001b[0mencoding\u001b[0m\u001b[1;33m,\u001b[0m\u001b[1;33m\u001b[0m\u001b[1;33m\u001b[0m\u001b[0m\n\u001b[0;32m    651\u001b[0m                 \u001b[0merrors\u001b[0m\u001b[1;33m=\u001b[0m\u001b[0merrors\u001b[0m\u001b[1;33m,\u001b[0m\u001b[1;33m\u001b[0m\u001b[1;33m\u001b[0m\u001b[0m\n\u001b[1;32m--> 652\u001b[1;33m                 \u001b[0mnewline\u001b[0m\u001b[1;33m=\u001b[0m\u001b[1;34m\"\"\u001b[0m\u001b[1;33m,\u001b[0m\u001b[1;33m\u001b[0m\u001b[1;33m\u001b[0m\u001b[0m\n\u001b[0m\u001b[0;32m    653\u001b[0m             )\n\u001b[0;32m    654\u001b[0m         \u001b[1;32melse\u001b[0m\u001b[1;33m:\u001b[0m\u001b[1;33m\u001b[0m\u001b[1;33m\u001b[0m\u001b[0m\n",
      "\u001b[1;31mFileNotFoundError\u001b[0m: [Errno 2] No such file or directory: 'simulation_results/CNar1_GSD_Poly_ARD_Model.csv'"
     ]
    }
   ],
   "source": [
    "# Data\n",
    "reaction = reaction2(1)\n",
    "name = PATH + 'CNar1_GSD_Poly_ARD_Model'\n",
    "\n",
    "# Simulation\n",
    "results2a, maxs2a = simulation(reaction, 20, reduction=21, budget=50)\n",
    "pd.DataFrame(results2a).to_csv(name + '.csv')\n",
    "\n",
    "r2a = statistic_summary(bo_maxs['reaction2a'], maxs2a, export_path='simulation_results/CNar1_hist_GSD')"
   ]
  },
  {
   "cell_type": "markdown",
   "metadata": {},
   "source": [
    "**Reaction 2b**"
   ]
  },
  {
   "cell_type": "code",
   "execution_count": 15,
   "metadata": {},
   "outputs": [
    {
     "name": "stdout",
     "output_type": "stream",
     "text": [
      "Seed: 0 | Design size: 44 | Fit R^2: 0.9995584902264257 | DOE max: 57.87284649 | Max: 66.26538653 | Ground truth: 68.2481271\n",
      "Seed: 1 | Design size: 44 | Fit R^2: 0.9490178359264462 | DOE max: 57.53990104 | Max: 68.2481271 | Ground truth: 68.2481271\n",
      "Seed: 2 | Design size: 44 | Fit R^2: 0.9724845882497991 | DOE max: 54.23706048 | Max: 54.23706048 | Ground truth: 68.2481271\n",
      "Seed: 3 | Design size: 44 | Fit R^2: 0.9978137304119512 | DOE max: 52.0133379 | Max: 52.0133379 | Ground truth: 68.2481271\n",
      "Seed: 4 | Design size: 44 | Fit R^2: 0.9977964675244544 | DOE max: 52.0133379 | Max: 52.0133379 | Ground truth: 68.2481271\n",
      "Seed: 5 | Design size: 44 | Fit R^2: 0.9925706042793946 | DOE max: 57.7087314 | Max: 68.2481271 | Ground truth: 68.2481271\n",
      "Seed: 6 | Design size: 44 | Fit R^2: 0.9489244224811645 | DOE max: 66.26538653 | Max: 68.2481271 | Ground truth: 68.2481271\n",
      "Seed: 7 | Design size: 44 | Fit R^2: 0.9979982285335662 | DOE max: 66.26538653 | Max: 68.2481271 | Ground truth: 68.2481271\n",
      "Seed: 8 | Design size: 44 | Fit R^2: 0.9913301062590602 | DOE max: 55.01223205 | Max: 55.01223205 | Ground truth: 68.2481271\n",
      "Seed: 9 | Design size: 44 | Fit R^2: 0.9999222884710762 | DOE max: 66.81498604 | Max: 68.2481271 | Ground truth: 68.2481271\n",
      "Seed: 10 | Design size: 44 | Fit R^2: 0.9626031442872872 | DOE max: 68.2481271 | Max: 68.2481271 | Ground truth: 68.2481271\n",
      "Seed: 11 | Design size: 44 | Fit R^2: 0.931280657683349 | DOE max: 56.62080434 | Max: 56.62080434 | Ground truth: 68.2481271\n",
      "Seed: 12 | Design size: 44 | Fit R^2: 0.9833475945319338 | DOE max: 55.01223205 | Max: 55.18037009 | Ground truth: 68.2481271\n",
      "Seed: 13 | Design size: 44 | Fit R^2: 0.9389453883120242 | DOE max: 49.97942971 | Max: 53.675534 | Ground truth: 68.2481271\n",
      "Seed: 14 | Design size: 44 | Fit R^2: 0.99875226941823 | DOE max: 55.18037009 | Max: 55.18037009 | Ground truth: 68.2481271\n",
      "Seed: 15 | Design size: 44 | Fit R^2: 0.9803145969659631 | DOE max: 52.14134094 | Max: 52.14134094 | Ground truth: 68.2481271\n",
      "Seed: 16 | Design size: 44 | Fit R^2: 0.9999282315711744 | DOE max: 59.60099255 | Max: 68.2481271 | Ground truth: 68.2481271\n",
      "Seed: 17 | Design size: 44 | Fit R^2: 0.9675341519512265 | DOE max: 56.13504943 | Max: 56.13504943 | Ground truth: 68.2481271\n",
      "Seed: 18 | Design size: 44 | Fit R^2: 0.9660991592178967 | DOE max: 68.2481271 | Max: 68.2481271 | Ground truth: 68.2481271\n",
      "Seed: 19 | Design size: 44 | Fit R^2: 0.9599408406397245 | DOE max: 58.0174464 | Max: 58.0174464 | Ground truth: 68.2481271\n"
     ]
    },
    {
     "ename": "FileNotFoundError",
     "evalue": "[Errno 2] No such file or directory: 'simulation_results/CNar2_GSD_Poly_ARD_Model.csv'",
     "output_type": "error",
     "traceback": [
      "\u001b[1;31m---------------------------------------------------------------------------\u001b[0m",
      "\u001b[1;31mFileNotFoundError\u001b[0m                         Traceback (most recent call last)",
      "\u001b[1;32m<ipython-input-15-89baf9fcb4c4>\u001b[0m in \u001b[0;36m<module>\u001b[1;34m\u001b[0m\n\u001b[0;32m      5\u001b[0m \u001b[1;31m# Simulation\u001b[0m\u001b[1;33m\u001b[0m\u001b[1;33m\u001b[0m\u001b[1;33m\u001b[0m\u001b[0m\n\u001b[0;32m      6\u001b[0m \u001b[0mresults2b\u001b[0m\u001b[1;33m,\u001b[0m \u001b[0mmaxs2b\u001b[0m \u001b[1;33m=\u001b[0m \u001b[0msimulation\u001b[0m\u001b[1;33m(\u001b[0m\u001b[0mreaction\u001b[0m\u001b[1;33m,\u001b[0m \u001b[1;36m20\u001b[0m\u001b[1;33m,\u001b[0m \u001b[0mreduction\u001b[0m\u001b[1;33m=\u001b[0m\u001b[1;36m21\u001b[0m\u001b[1;33m,\u001b[0m \u001b[0mbudget\u001b[0m\u001b[1;33m=\u001b[0m\u001b[1;36m50\u001b[0m\u001b[1;33m)\u001b[0m\u001b[1;33m\u001b[0m\u001b[1;33m\u001b[0m\u001b[0m\n\u001b[1;32m----> 7\u001b[1;33m \u001b[0mpd\u001b[0m\u001b[1;33m.\u001b[0m\u001b[0mDataFrame\u001b[0m\u001b[1;33m(\u001b[0m\u001b[0mresults2b\u001b[0m\u001b[1;33m)\u001b[0m\u001b[1;33m.\u001b[0m\u001b[0mto_csv\u001b[0m\u001b[1;33m(\u001b[0m\u001b[0mname\u001b[0m \u001b[1;33m+\u001b[0m \u001b[1;34m'.csv'\u001b[0m\u001b[1;33m)\u001b[0m\u001b[1;33m\u001b[0m\u001b[1;33m\u001b[0m\u001b[0m\n\u001b[0m\u001b[0;32m      8\u001b[0m \u001b[1;33m\u001b[0m\u001b[0m\n\u001b[0;32m      9\u001b[0m \u001b[0mr2b\u001b[0m \u001b[1;33m=\u001b[0m \u001b[0mstatistic_summary\u001b[0m\u001b[1;33m(\u001b[0m\u001b[0mbo_maxs\u001b[0m\u001b[1;33m[\u001b[0m\u001b[1;34m'reaction2b'\u001b[0m\u001b[1;33m]\u001b[0m\u001b[1;33m,\u001b[0m \u001b[0mmaxs2b\u001b[0m\u001b[1;33m,\u001b[0m \u001b[0mexport_path\u001b[0m\u001b[1;33m=\u001b[0m\u001b[1;34m'simulation_results/CNar2_hist_GSD'\u001b[0m\u001b[1;33m)\u001b[0m\u001b[1;33m\u001b[0m\u001b[1;33m\u001b[0m\u001b[0m\n",
      "\u001b[1;32m~\\anaconda3\\envs\\edbo\\lib\\site-packages\\pandas\\core\\generic.py\u001b[0m in \u001b[0;36mto_csv\u001b[1;34m(self, path_or_buf, sep, na_rep, float_format, columns, header, index, index_label, mode, encoding, compression, quoting, quotechar, line_terminator, chunksize, date_format, doublequote, escapechar, decimal, errors, storage_options)\u001b[0m\n\u001b[0;32m   3401\u001b[0m             \u001b[0mdoublequote\u001b[0m\u001b[1;33m=\u001b[0m\u001b[0mdoublequote\u001b[0m\u001b[1;33m,\u001b[0m\u001b[1;33m\u001b[0m\u001b[1;33m\u001b[0m\u001b[0m\n\u001b[0;32m   3402\u001b[0m             \u001b[0mescapechar\u001b[0m\u001b[1;33m=\u001b[0m\u001b[0mescapechar\u001b[0m\u001b[1;33m,\u001b[0m\u001b[1;33m\u001b[0m\u001b[1;33m\u001b[0m\u001b[0m\n\u001b[1;32m-> 3403\u001b[1;33m             \u001b[0mstorage_options\u001b[0m\u001b[1;33m=\u001b[0m\u001b[0mstorage_options\u001b[0m\u001b[1;33m,\u001b[0m\u001b[1;33m\u001b[0m\u001b[1;33m\u001b[0m\u001b[0m\n\u001b[0m\u001b[0;32m   3404\u001b[0m         )\n\u001b[0;32m   3405\u001b[0m \u001b[1;33m\u001b[0m\u001b[0m\n",
      "\u001b[1;32m~\\anaconda3\\envs\\edbo\\lib\\site-packages\\pandas\\io\\formats\\format.py\u001b[0m in \u001b[0;36mto_csv\u001b[1;34m(self, path_or_buf, encoding, sep, columns, index_label, mode, compression, quoting, quotechar, line_terminator, chunksize, date_format, doublequote, escapechar, errors, storage_options)\u001b[0m\n\u001b[0;32m   1081\u001b[0m             \u001b[0mformatter\u001b[0m\u001b[1;33m=\u001b[0m\u001b[0mself\u001b[0m\u001b[1;33m.\u001b[0m\u001b[0mfmt\u001b[0m\u001b[1;33m,\u001b[0m\u001b[1;33m\u001b[0m\u001b[1;33m\u001b[0m\u001b[0m\n\u001b[0;32m   1082\u001b[0m         )\n\u001b[1;32m-> 1083\u001b[1;33m         \u001b[0mcsv_formatter\u001b[0m\u001b[1;33m.\u001b[0m\u001b[0msave\u001b[0m\u001b[1;33m(\u001b[0m\u001b[1;33m)\u001b[0m\u001b[1;33m\u001b[0m\u001b[1;33m\u001b[0m\u001b[0m\n\u001b[0m\u001b[0;32m   1084\u001b[0m \u001b[1;33m\u001b[0m\u001b[0m\n\u001b[0;32m   1085\u001b[0m         \u001b[1;32mif\u001b[0m \u001b[0mcreated_buffer\u001b[0m\u001b[1;33m:\u001b[0m\u001b[1;33m\u001b[0m\u001b[1;33m\u001b[0m\u001b[0m\n",
      "\u001b[1;32m~\\anaconda3\\envs\\edbo\\lib\\site-packages\\pandas\\io\\formats\\csvs.py\u001b[0m in \u001b[0;36msave\u001b[1;34m(self)\u001b[0m\n\u001b[0;32m    232\u001b[0m             \u001b[0merrors\u001b[0m\u001b[1;33m=\u001b[0m\u001b[0mself\u001b[0m\u001b[1;33m.\u001b[0m\u001b[0merrors\u001b[0m\u001b[1;33m,\u001b[0m\u001b[1;33m\u001b[0m\u001b[1;33m\u001b[0m\u001b[0m\n\u001b[0;32m    233\u001b[0m             \u001b[0mcompression\u001b[0m\u001b[1;33m=\u001b[0m\u001b[0mself\u001b[0m\u001b[1;33m.\u001b[0m\u001b[0mcompression\u001b[0m\u001b[1;33m,\u001b[0m\u001b[1;33m\u001b[0m\u001b[1;33m\u001b[0m\u001b[0m\n\u001b[1;32m--> 234\u001b[1;33m             \u001b[0mstorage_options\u001b[0m\u001b[1;33m=\u001b[0m\u001b[0mself\u001b[0m\u001b[1;33m.\u001b[0m\u001b[0mstorage_options\u001b[0m\u001b[1;33m,\u001b[0m\u001b[1;33m\u001b[0m\u001b[1;33m\u001b[0m\u001b[0m\n\u001b[0m\u001b[0;32m    235\u001b[0m         ) as handles:\n\u001b[0;32m    236\u001b[0m \u001b[1;33m\u001b[0m\u001b[0m\n",
      "\u001b[1;32m~\\anaconda3\\envs\\edbo\\lib\\site-packages\\pandas\\io\\common.py\u001b[0m in \u001b[0;36mget_handle\u001b[1;34m(path_or_buf, mode, encoding, compression, memory_map, is_text, errors, storage_options)\u001b[0m\n\u001b[0;32m    650\u001b[0m                 \u001b[0mencoding\u001b[0m\u001b[1;33m=\u001b[0m\u001b[0mioargs\u001b[0m\u001b[1;33m.\u001b[0m\u001b[0mencoding\u001b[0m\u001b[1;33m,\u001b[0m\u001b[1;33m\u001b[0m\u001b[1;33m\u001b[0m\u001b[0m\n\u001b[0;32m    651\u001b[0m                 \u001b[0merrors\u001b[0m\u001b[1;33m=\u001b[0m\u001b[0merrors\u001b[0m\u001b[1;33m,\u001b[0m\u001b[1;33m\u001b[0m\u001b[1;33m\u001b[0m\u001b[0m\n\u001b[1;32m--> 652\u001b[1;33m                 \u001b[0mnewline\u001b[0m\u001b[1;33m=\u001b[0m\u001b[1;34m\"\"\u001b[0m\u001b[1;33m,\u001b[0m\u001b[1;33m\u001b[0m\u001b[1;33m\u001b[0m\u001b[0m\n\u001b[0m\u001b[0;32m    653\u001b[0m             )\n\u001b[0;32m    654\u001b[0m         \u001b[1;32melse\u001b[0m\u001b[1;33m:\u001b[0m\u001b[1;33m\u001b[0m\u001b[1;33m\u001b[0m\u001b[0m\n",
      "\u001b[1;31mFileNotFoundError\u001b[0m: [Errno 2] No such file or directory: 'simulation_results/CNar2_GSD_Poly_ARD_Model.csv'"
     ]
    }
   ],
   "source": [
    "# Data\n",
    "reaction = reaction2(2)\n",
    "name = PATH + 'CNar2_GSD_Poly_ARD_Model'\n",
    "\n",
    "# Simulation\n",
    "results2b, maxs2b = simulation(reaction, 20, reduction=21, budget=50)\n",
    "pd.DataFrame(results2b).to_csv(name + '.csv')\n",
    "\n",
    "r2b = statistic_summary(bo_maxs['reaction2b'], maxs2b, export_path='simulation_results/CNar2_hist_GSD')"
   ]
  },
  {
   "cell_type": "markdown",
   "metadata": {},
   "source": [
    "**Reaction 2c**"
   ]
  },
  {
   "cell_type": "code",
   "execution_count": 16,
   "metadata": {},
   "outputs": [
    {
     "name": "stdout",
     "output_type": "stream",
     "text": [
      "Seed: 0 | Design size: 44 | Fit R^2: 0.9536535337040833 | DOE max: 75.71719698 | Max: 85.89473594 | Ground truth: 86.59757822\n",
      "Seed: 3 | Design size: 44 | Fit R^2: 0.9652410091812248 | DOE max: 86.59757822 | Max: 86.59757822 | Ground truth: 86.59757822\n",
      "Seed: 5 | Design size: 44 | Fit R^2: 0.9993560229726094 | DOE max: 81.47790375 | Max: 83.05466982 | Ground truth: 86.59757822\n",
      "Seed: 6 | Design size: 44 | Fit R^2: 0.9346415959941263 | DOE max: 83.09647392 | Max: 83.09647392 | Ground truth: 86.59757822\n",
      "Seed: 7 | Design size: 44 | Fit R^2: 0.9252523439586622 | DOE max: 85.89473594 | Max: 85.89473594 | Ground truth: 86.59757822\n",
      "Seed: 8 | Design size: 44 | Fit R^2: 0.9522703242453486 | DOE max: 79.73976585 | Max: 80.78664078 | Ground truth: 86.59757822\n",
      "Seed: 10 | Design size: 44 | Fit R^2: 0.9695640529474148 | DOE max: 75.06056887 | Max: 75.06056887 | Ground truth: 86.59757822\n",
      "Seed: 11 | Design size: 44 | Fit R^2: 0.961684164764786 | DOE max: 83.29437838 | Max: 83.93941968 | Ground truth: 86.59757822\n",
      "Seed: 12 | Design size: 44 | Fit R^2: 0.9967618775520607 | DOE max: 81.22830675 | Max: 81.22830675 | Ground truth: 86.59757822\n",
      "Seed: 13 | Design size: 44 | Fit R^2: 0.9955821336228108 | DOE max: 84.89551287 | Max: 85.89473594 | Ground truth: 86.59757822\n",
      "Seed: 14 | Design size: 44 | Fit R^2: 0.9563535430190041 | DOE max: 83.14947865 | Max: 83.14947865 | Ground truth: 86.59757822\n",
      "Seed: 15 | Design size: 44 | Fit R^2: 0.9479063707192815 | DOE max: 80.58281911 | Max: 83.05466982 | Ground truth: 86.59757822\n",
      "Seed: 16 | Design size: 44 | Fit R^2: 0.9622645937154104 | DOE max: 82.71053034 | Max: 83.05466982 | Ground truth: 86.59757822\n",
      "Seed: 17 | Design size: 44 | Fit R^2: 0.9955560308422555 | DOE max: 73.57415684 | Max: 75.97219172 | Ground truth: 86.59757822\n",
      "Seed: 18 | Design size: 44 | Fit R^2: 0.9998874196443762 | DOE max: 82.71053034 | Max: 82.71053034 | Ground truth: 86.59757822\n",
      "Seed: 19 | Design size: 44 | Fit R^2: 0.9531558544988898 | DOE max: 84.89551287 | Max: 85.89473594 | Ground truth: 86.59757822\n",
      "Seed: 20 | Design size: 44 | Fit R^2: 0.9648803634234471 | DOE max: 83.05466982 | Max: 83.05466982 | Ground truth: 86.59757822\n",
      "Seed: 21 | Design size: 44 | Fit R^2: 0.9999437373733678 | DOE max: 83.09647392 | Max: 83.3036144 | Ground truth: 86.59757822\n",
      "Seed: 22 | Design size: 44 | Fit R^2: 0.9612198252101286 | DOE max: 80.13587028 | Max: 82.63071562 | Ground truth: 86.59757822\n",
      "Seed: 23 | Design size: 44 | Fit R^2: 0.995802890100791 | DOE max: 84.89551287 | Max: 86.59757822 | Ground truth: 86.59757822\n"
     ]
    },
    {
     "ename": "FileNotFoundError",
     "evalue": "[Errno 2] No such file or directory: 'simulation_results/CNar3_GSD_Poly_ARD_Model.csv'",
     "output_type": "error",
     "traceback": [
      "\u001b[1;31m---------------------------------------------------------------------------\u001b[0m",
      "\u001b[1;31mFileNotFoundError\u001b[0m                         Traceback (most recent call last)",
      "\u001b[1;32m<ipython-input-16-7b9a5b575740>\u001b[0m in \u001b[0;36m<module>\u001b[1;34m\u001b[0m\n\u001b[0;32m      5\u001b[0m \u001b[1;31m# Simulation\u001b[0m\u001b[1;33m\u001b[0m\u001b[1;33m\u001b[0m\u001b[1;33m\u001b[0m\u001b[0m\n\u001b[0;32m      6\u001b[0m \u001b[0mresults2c\u001b[0m\u001b[1;33m,\u001b[0m \u001b[0mmaxs2c\u001b[0m \u001b[1;33m=\u001b[0m \u001b[0msimulation\u001b[0m\u001b[1;33m(\u001b[0m\u001b[0mreaction\u001b[0m\u001b[1;33m,\u001b[0m \u001b[1;36m20\u001b[0m\u001b[1;33m,\u001b[0m \u001b[0mreduction\u001b[0m\u001b[1;33m=\u001b[0m\u001b[1;36m21\u001b[0m\u001b[1;33m,\u001b[0m \u001b[0mbudget\u001b[0m\u001b[1;33m=\u001b[0m\u001b[1;36m50\u001b[0m\u001b[1;33m)\u001b[0m\u001b[1;33m\u001b[0m\u001b[1;33m\u001b[0m\u001b[0m\n\u001b[1;32m----> 7\u001b[1;33m \u001b[0mpd\u001b[0m\u001b[1;33m.\u001b[0m\u001b[0mDataFrame\u001b[0m\u001b[1;33m(\u001b[0m\u001b[0mresults2c\u001b[0m\u001b[1;33m)\u001b[0m\u001b[1;33m.\u001b[0m\u001b[0mto_csv\u001b[0m\u001b[1;33m(\u001b[0m\u001b[0mname\u001b[0m \u001b[1;33m+\u001b[0m \u001b[1;34m'.csv'\u001b[0m\u001b[1;33m)\u001b[0m\u001b[1;33m\u001b[0m\u001b[1;33m\u001b[0m\u001b[0m\n\u001b[0m\u001b[0;32m      8\u001b[0m \u001b[1;33m\u001b[0m\u001b[0m\n\u001b[0;32m      9\u001b[0m \u001b[0mr2c\u001b[0m \u001b[1;33m=\u001b[0m \u001b[0mstatistic_summary\u001b[0m\u001b[1;33m(\u001b[0m\u001b[0mbo_maxs\u001b[0m\u001b[1;33m[\u001b[0m\u001b[1;34m'reaction2c'\u001b[0m\u001b[1;33m]\u001b[0m\u001b[1;33m,\u001b[0m \u001b[0mmaxs2c\u001b[0m\u001b[1;33m,\u001b[0m \u001b[0mexport_path\u001b[0m\u001b[1;33m=\u001b[0m\u001b[1;34m'simulation_results/CNar3_hist_GSD'\u001b[0m\u001b[1;33m)\u001b[0m\u001b[1;33m\u001b[0m\u001b[1;33m\u001b[0m\u001b[0m\n",
      "\u001b[1;32m~\\anaconda3\\envs\\edbo\\lib\\site-packages\\pandas\\core\\generic.py\u001b[0m in \u001b[0;36mto_csv\u001b[1;34m(self, path_or_buf, sep, na_rep, float_format, columns, header, index, index_label, mode, encoding, compression, quoting, quotechar, line_terminator, chunksize, date_format, doublequote, escapechar, decimal, errors, storage_options)\u001b[0m\n\u001b[0;32m   3401\u001b[0m             \u001b[0mdoublequote\u001b[0m\u001b[1;33m=\u001b[0m\u001b[0mdoublequote\u001b[0m\u001b[1;33m,\u001b[0m\u001b[1;33m\u001b[0m\u001b[1;33m\u001b[0m\u001b[0m\n\u001b[0;32m   3402\u001b[0m             \u001b[0mescapechar\u001b[0m\u001b[1;33m=\u001b[0m\u001b[0mescapechar\u001b[0m\u001b[1;33m,\u001b[0m\u001b[1;33m\u001b[0m\u001b[1;33m\u001b[0m\u001b[0m\n\u001b[1;32m-> 3403\u001b[1;33m             \u001b[0mstorage_options\u001b[0m\u001b[1;33m=\u001b[0m\u001b[0mstorage_options\u001b[0m\u001b[1;33m,\u001b[0m\u001b[1;33m\u001b[0m\u001b[1;33m\u001b[0m\u001b[0m\n\u001b[0m\u001b[0;32m   3404\u001b[0m         )\n\u001b[0;32m   3405\u001b[0m \u001b[1;33m\u001b[0m\u001b[0m\n",
      "\u001b[1;32m~\\anaconda3\\envs\\edbo\\lib\\site-packages\\pandas\\io\\formats\\format.py\u001b[0m in \u001b[0;36mto_csv\u001b[1;34m(self, path_or_buf, encoding, sep, columns, index_label, mode, compression, quoting, quotechar, line_terminator, chunksize, date_format, doublequote, escapechar, errors, storage_options)\u001b[0m\n\u001b[0;32m   1081\u001b[0m             \u001b[0mformatter\u001b[0m\u001b[1;33m=\u001b[0m\u001b[0mself\u001b[0m\u001b[1;33m.\u001b[0m\u001b[0mfmt\u001b[0m\u001b[1;33m,\u001b[0m\u001b[1;33m\u001b[0m\u001b[1;33m\u001b[0m\u001b[0m\n\u001b[0;32m   1082\u001b[0m         )\n\u001b[1;32m-> 1083\u001b[1;33m         \u001b[0mcsv_formatter\u001b[0m\u001b[1;33m.\u001b[0m\u001b[0msave\u001b[0m\u001b[1;33m(\u001b[0m\u001b[1;33m)\u001b[0m\u001b[1;33m\u001b[0m\u001b[1;33m\u001b[0m\u001b[0m\n\u001b[0m\u001b[0;32m   1084\u001b[0m \u001b[1;33m\u001b[0m\u001b[0m\n\u001b[0;32m   1085\u001b[0m         \u001b[1;32mif\u001b[0m \u001b[0mcreated_buffer\u001b[0m\u001b[1;33m:\u001b[0m\u001b[1;33m\u001b[0m\u001b[1;33m\u001b[0m\u001b[0m\n",
      "\u001b[1;32m~\\anaconda3\\envs\\edbo\\lib\\site-packages\\pandas\\io\\formats\\csvs.py\u001b[0m in \u001b[0;36msave\u001b[1;34m(self)\u001b[0m\n\u001b[0;32m    232\u001b[0m             \u001b[0merrors\u001b[0m\u001b[1;33m=\u001b[0m\u001b[0mself\u001b[0m\u001b[1;33m.\u001b[0m\u001b[0merrors\u001b[0m\u001b[1;33m,\u001b[0m\u001b[1;33m\u001b[0m\u001b[1;33m\u001b[0m\u001b[0m\n\u001b[0;32m    233\u001b[0m             \u001b[0mcompression\u001b[0m\u001b[1;33m=\u001b[0m\u001b[0mself\u001b[0m\u001b[1;33m.\u001b[0m\u001b[0mcompression\u001b[0m\u001b[1;33m,\u001b[0m\u001b[1;33m\u001b[0m\u001b[1;33m\u001b[0m\u001b[0m\n\u001b[1;32m--> 234\u001b[1;33m             \u001b[0mstorage_options\u001b[0m\u001b[1;33m=\u001b[0m\u001b[0mself\u001b[0m\u001b[1;33m.\u001b[0m\u001b[0mstorage_options\u001b[0m\u001b[1;33m,\u001b[0m\u001b[1;33m\u001b[0m\u001b[1;33m\u001b[0m\u001b[0m\n\u001b[0m\u001b[0;32m    235\u001b[0m         ) as handles:\n\u001b[0;32m    236\u001b[0m \u001b[1;33m\u001b[0m\u001b[0m\n",
      "\u001b[1;32m~\\anaconda3\\envs\\edbo\\lib\\site-packages\\pandas\\io\\common.py\u001b[0m in \u001b[0;36mget_handle\u001b[1;34m(path_or_buf, mode, encoding, compression, memory_map, is_text, errors, storage_options)\u001b[0m\n\u001b[0;32m    650\u001b[0m                 \u001b[0mencoding\u001b[0m\u001b[1;33m=\u001b[0m\u001b[0mioargs\u001b[0m\u001b[1;33m.\u001b[0m\u001b[0mencoding\u001b[0m\u001b[1;33m,\u001b[0m\u001b[1;33m\u001b[0m\u001b[1;33m\u001b[0m\u001b[0m\n\u001b[0;32m    651\u001b[0m                 \u001b[0merrors\u001b[0m\u001b[1;33m=\u001b[0m\u001b[0merrors\u001b[0m\u001b[1;33m,\u001b[0m\u001b[1;33m\u001b[0m\u001b[1;33m\u001b[0m\u001b[0m\n\u001b[1;32m--> 652\u001b[1;33m                 \u001b[0mnewline\u001b[0m\u001b[1;33m=\u001b[0m\u001b[1;34m\"\"\u001b[0m\u001b[1;33m,\u001b[0m\u001b[1;33m\u001b[0m\u001b[1;33m\u001b[0m\u001b[0m\n\u001b[0m\u001b[0;32m    653\u001b[0m             )\n\u001b[0;32m    654\u001b[0m         \u001b[1;32melse\u001b[0m\u001b[1;33m:\u001b[0m\u001b[1;33m\u001b[0m\u001b[1;33m\u001b[0m\u001b[0m\n",
      "\u001b[1;31mFileNotFoundError\u001b[0m: [Errno 2] No such file or directory: 'simulation_results/CNar3_GSD_Poly_ARD_Model.csv'"
     ]
    }
   ],
   "source": [
    "# Data\n",
    "reaction = reaction2(3)\n",
    "name = PATH + 'CNar3_GSD_Poly_ARD_Model'\n",
    "\n",
    "# Simulation\n",
    "results2c, maxs2c = simulation(reaction, 20, reduction=21, budget=50)\n",
    "pd.DataFrame(results2c).to_csv(name + '.csv')\n",
    "\n",
    "r2c = statistic_summary(bo_maxs['reaction2c'], maxs2c, export_path='simulation_results/CNar3_hist_GSD')"
   ]
  },
  {
   "cell_type": "markdown",
   "metadata": {},
   "source": [
    "**Reaction 2d**"
   ]
  },
  {
   "cell_type": "code",
   "execution_count": 17,
   "metadata": {},
   "outputs": [
    {
     "name": "stdout",
     "output_type": "stream",
     "text": [
      "Seed: 0 | Design size: 44 | Fit R^2: 0.9356171399376965 | DOE max: 93.31083413 | Max: 98.17713445 | Ground truth: 99.99999\n",
      "Seed: 1 | Design size: 44 | Fit R^2: 0.9548222040816422 | DOE max: 99.03446213 | Max: 99.61910732 | Ground truth: 99.99999\n",
      "Seed: 2 | Design size: 44 | Fit R^2: 0.9490213906673842 | DOE max: 90.22793001 | Max: 98.84920594 | Ground truth: 99.99999\n",
      "Seed: 3 | Design size: 44 | Fit R^2: 0.9963537611667832 | DOE max: 87.75322874 | Max: 92.35381549 | Ground truth: 99.99999\n",
      "Seed: 4 | Design size: 44 | Fit R^2: 0.9507125649944296 | DOE max: 92.91423383 | Max: 97.56849953 | Ground truth: 99.99999\n",
      "Seed: 5 | Design size: 44 | Fit R^2: 0.9601560386077823 | DOE max: 91.13914928 | Max: 95.38648822 | Ground truth: 99.99999\n",
      "Seed: 6 | Design size: 44 | Fit R^2: 0.9533610213779034 | DOE max: 89.47412112 | Max: 96.13228316 | Ground truth: 99.99999\n",
      "Seed: 7 | Design size: 44 | Fit R^2: 0.9516010630795971 | DOE max: 92.35381549 | Max: 95.38648822 | Ground truth: 99.99999\n",
      "Seed: 8 | Design size: 44 | Fit R^2: 0.9400228279627184 | DOE max: 95.67591323 | Max: 98.17713445 | Ground truth: 99.99999\n",
      "Seed: 9 | Design size: 44 | Fit R^2: 0.9948321473515036 | DOE max: 96.13228316 | Max: 96.13228316 | Ground truth: 99.99999\n",
      "Seed: 10 | Design size: 44 | Fit R^2: 0.9943655662648337 | DOE max: 98.17713445 | Max: 98.17713445 | Ground truth: 99.99999\n",
      "Seed: 11 | Design size: 44 | Fit R^2: 0.9556834866798711 | DOE max: 94.14846732 | Max: 95.38648822 | Ground truth: 99.99999\n",
      "Seed: 12 | Design size: 44 | Fit R^2: 0.999998958553234 | DOE max: 99.61910732 | Max: 99.61910732 | Ground truth: 99.99999\n",
      "Seed: 13 | Design size: 44 | Fit R^2: 0.9947600385942141 | DOE max: 97.29293259 | Max: 99.61910732 | Ground truth: 99.99999\n",
      "Seed: 14 | Design size: 44 | Fit R^2: 0.9449620162629209 | DOE max: 93.87454124 | Max: 99.61910732 | Ground truth: 99.99999\n",
      "Seed: 15 | Design size: 44 | Fit R^2: 0.9994746859168578 | DOE max: 92.35381549 | Max: 99.03446213 | Ground truth: 99.99999\n",
      "Seed: 16 | Design size: 44 | Fit R^2: 0.9437092352951697 | DOE max: 97.94800557 | Max: 99.61910732 | Ground truth: 99.99999\n",
      "Seed: 17 | Design size: 44 | Fit R^2: 0.9556501818301771 | DOE max: 99.99999 | Max: 99.99999 | Ground truth: 99.99999\n",
      "Seed: 18 | Design size: 44 | Fit R^2: 0.9999294060236783 | DOE max: 98.84920594 | Max: 98.84920594 | Ground truth: 99.99999\n",
      "Seed: 19 | Design size: 44 | Fit R^2: 0.9981676760930044 | DOE max: 95.38648822 | Max: 98.17713445 | Ground truth: 99.99999\n"
     ]
    },
    {
     "ename": "FileNotFoundError",
     "evalue": "[Errno 2] No such file or directory: 'simulation_results/CNar4_GSD_Poly_ARD_Model.csv'",
     "output_type": "error",
     "traceback": [
      "\u001b[1;31m---------------------------------------------------------------------------\u001b[0m",
      "\u001b[1;31mFileNotFoundError\u001b[0m                         Traceback (most recent call last)",
      "\u001b[1;32m<ipython-input-17-8cfbd1742868>\u001b[0m in \u001b[0;36m<module>\u001b[1;34m\u001b[0m\n\u001b[0;32m      5\u001b[0m \u001b[1;31m# Simulation\u001b[0m\u001b[1;33m\u001b[0m\u001b[1;33m\u001b[0m\u001b[1;33m\u001b[0m\u001b[0m\n\u001b[0;32m      6\u001b[0m \u001b[0mresults2d\u001b[0m\u001b[1;33m,\u001b[0m \u001b[0mmaxs2d\u001b[0m \u001b[1;33m=\u001b[0m \u001b[0msimulation\u001b[0m\u001b[1;33m(\u001b[0m\u001b[0mreaction\u001b[0m\u001b[1;33m,\u001b[0m \u001b[1;36m20\u001b[0m\u001b[1;33m,\u001b[0m \u001b[0mreduction\u001b[0m\u001b[1;33m=\u001b[0m\u001b[1;36m21\u001b[0m\u001b[1;33m,\u001b[0m \u001b[0mbudget\u001b[0m\u001b[1;33m=\u001b[0m\u001b[1;36m50\u001b[0m\u001b[1;33m)\u001b[0m\u001b[1;33m\u001b[0m\u001b[1;33m\u001b[0m\u001b[0m\n\u001b[1;32m----> 7\u001b[1;33m \u001b[0mpd\u001b[0m\u001b[1;33m.\u001b[0m\u001b[0mDataFrame\u001b[0m\u001b[1;33m(\u001b[0m\u001b[0mresults2d\u001b[0m\u001b[1;33m)\u001b[0m\u001b[1;33m.\u001b[0m\u001b[0mto_csv\u001b[0m\u001b[1;33m(\u001b[0m\u001b[0mname\u001b[0m \u001b[1;33m+\u001b[0m \u001b[1;34m'.csv'\u001b[0m\u001b[1;33m)\u001b[0m\u001b[1;33m\u001b[0m\u001b[1;33m\u001b[0m\u001b[0m\n\u001b[0m\u001b[0;32m      8\u001b[0m \u001b[1;33m\u001b[0m\u001b[0m\n\u001b[0;32m      9\u001b[0m \u001b[0mr2d\u001b[0m \u001b[1;33m=\u001b[0m \u001b[0mstatistic_summary\u001b[0m\u001b[1;33m(\u001b[0m\u001b[0mbo_maxs\u001b[0m\u001b[1;33m[\u001b[0m\u001b[1;34m'reaction2d'\u001b[0m\u001b[1;33m]\u001b[0m\u001b[1;33m,\u001b[0m \u001b[0mmaxs2d\u001b[0m\u001b[1;33m,\u001b[0m \u001b[0mexport_path\u001b[0m\u001b[1;33m=\u001b[0m\u001b[1;34m'simulation_results/CNar4_hist_GSD'\u001b[0m\u001b[1;33m)\u001b[0m\u001b[1;33m\u001b[0m\u001b[1;33m\u001b[0m\u001b[0m\n",
      "\u001b[1;32m~\\anaconda3\\envs\\edbo\\lib\\site-packages\\pandas\\core\\generic.py\u001b[0m in \u001b[0;36mto_csv\u001b[1;34m(self, path_or_buf, sep, na_rep, float_format, columns, header, index, index_label, mode, encoding, compression, quoting, quotechar, line_terminator, chunksize, date_format, doublequote, escapechar, decimal, errors, storage_options)\u001b[0m\n\u001b[0;32m   3401\u001b[0m             \u001b[0mdoublequote\u001b[0m\u001b[1;33m=\u001b[0m\u001b[0mdoublequote\u001b[0m\u001b[1;33m,\u001b[0m\u001b[1;33m\u001b[0m\u001b[1;33m\u001b[0m\u001b[0m\n\u001b[0;32m   3402\u001b[0m             \u001b[0mescapechar\u001b[0m\u001b[1;33m=\u001b[0m\u001b[0mescapechar\u001b[0m\u001b[1;33m,\u001b[0m\u001b[1;33m\u001b[0m\u001b[1;33m\u001b[0m\u001b[0m\n\u001b[1;32m-> 3403\u001b[1;33m             \u001b[0mstorage_options\u001b[0m\u001b[1;33m=\u001b[0m\u001b[0mstorage_options\u001b[0m\u001b[1;33m,\u001b[0m\u001b[1;33m\u001b[0m\u001b[1;33m\u001b[0m\u001b[0m\n\u001b[0m\u001b[0;32m   3404\u001b[0m         )\n\u001b[0;32m   3405\u001b[0m \u001b[1;33m\u001b[0m\u001b[0m\n",
      "\u001b[1;32m~\\anaconda3\\envs\\edbo\\lib\\site-packages\\pandas\\io\\formats\\format.py\u001b[0m in \u001b[0;36mto_csv\u001b[1;34m(self, path_or_buf, encoding, sep, columns, index_label, mode, compression, quoting, quotechar, line_terminator, chunksize, date_format, doublequote, escapechar, errors, storage_options)\u001b[0m\n\u001b[0;32m   1081\u001b[0m             \u001b[0mformatter\u001b[0m\u001b[1;33m=\u001b[0m\u001b[0mself\u001b[0m\u001b[1;33m.\u001b[0m\u001b[0mfmt\u001b[0m\u001b[1;33m,\u001b[0m\u001b[1;33m\u001b[0m\u001b[1;33m\u001b[0m\u001b[0m\n\u001b[0;32m   1082\u001b[0m         )\n\u001b[1;32m-> 1083\u001b[1;33m         \u001b[0mcsv_formatter\u001b[0m\u001b[1;33m.\u001b[0m\u001b[0msave\u001b[0m\u001b[1;33m(\u001b[0m\u001b[1;33m)\u001b[0m\u001b[1;33m\u001b[0m\u001b[1;33m\u001b[0m\u001b[0m\n\u001b[0m\u001b[0;32m   1084\u001b[0m \u001b[1;33m\u001b[0m\u001b[0m\n\u001b[0;32m   1085\u001b[0m         \u001b[1;32mif\u001b[0m \u001b[0mcreated_buffer\u001b[0m\u001b[1;33m:\u001b[0m\u001b[1;33m\u001b[0m\u001b[1;33m\u001b[0m\u001b[0m\n",
      "\u001b[1;32m~\\anaconda3\\envs\\edbo\\lib\\site-packages\\pandas\\io\\formats\\csvs.py\u001b[0m in \u001b[0;36msave\u001b[1;34m(self)\u001b[0m\n\u001b[0;32m    232\u001b[0m             \u001b[0merrors\u001b[0m\u001b[1;33m=\u001b[0m\u001b[0mself\u001b[0m\u001b[1;33m.\u001b[0m\u001b[0merrors\u001b[0m\u001b[1;33m,\u001b[0m\u001b[1;33m\u001b[0m\u001b[1;33m\u001b[0m\u001b[0m\n\u001b[0;32m    233\u001b[0m             \u001b[0mcompression\u001b[0m\u001b[1;33m=\u001b[0m\u001b[0mself\u001b[0m\u001b[1;33m.\u001b[0m\u001b[0mcompression\u001b[0m\u001b[1;33m,\u001b[0m\u001b[1;33m\u001b[0m\u001b[1;33m\u001b[0m\u001b[0m\n\u001b[1;32m--> 234\u001b[1;33m             \u001b[0mstorage_options\u001b[0m\u001b[1;33m=\u001b[0m\u001b[0mself\u001b[0m\u001b[1;33m.\u001b[0m\u001b[0mstorage_options\u001b[0m\u001b[1;33m,\u001b[0m\u001b[1;33m\u001b[0m\u001b[1;33m\u001b[0m\u001b[0m\n\u001b[0m\u001b[0;32m    235\u001b[0m         ) as handles:\n\u001b[0;32m    236\u001b[0m \u001b[1;33m\u001b[0m\u001b[0m\n",
      "\u001b[1;32m~\\anaconda3\\envs\\edbo\\lib\\site-packages\\pandas\\io\\common.py\u001b[0m in \u001b[0;36mget_handle\u001b[1;34m(path_or_buf, mode, encoding, compression, memory_map, is_text, errors, storage_options)\u001b[0m\n\u001b[0;32m    650\u001b[0m                 \u001b[0mencoding\u001b[0m\u001b[1;33m=\u001b[0m\u001b[0mioargs\u001b[0m\u001b[1;33m.\u001b[0m\u001b[0mencoding\u001b[0m\u001b[1;33m,\u001b[0m\u001b[1;33m\u001b[0m\u001b[1;33m\u001b[0m\u001b[0m\n\u001b[0;32m    651\u001b[0m                 \u001b[0merrors\u001b[0m\u001b[1;33m=\u001b[0m\u001b[0merrors\u001b[0m\u001b[1;33m,\u001b[0m\u001b[1;33m\u001b[0m\u001b[1;33m\u001b[0m\u001b[0m\n\u001b[1;32m--> 652\u001b[1;33m                 \u001b[0mnewline\u001b[0m\u001b[1;33m=\u001b[0m\u001b[1;34m\"\"\u001b[0m\u001b[1;33m,\u001b[0m\u001b[1;33m\u001b[0m\u001b[1;33m\u001b[0m\u001b[0m\n\u001b[0m\u001b[0;32m    653\u001b[0m             )\n\u001b[0;32m    654\u001b[0m         \u001b[1;32melse\u001b[0m\u001b[1;33m:\u001b[0m\u001b[1;33m\u001b[0m\u001b[1;33m\u001b[0m\u001b[0m\n",
      "\u001b[1;31mFileNotFoundError\u001b[0m: [Errno 2] No such file or directory: 'simulation_results/CNar4_GSD_Poly_ARD_Model.csv'"
     ]
    }
   ],
   "source": [
    "# Data\n",
    "reaction = reaction2(4)\n",
    "name = PATH + 'CNar4_GSD_Poly_ARD_Model'\n",
    "\n",
    "# Simulation\n",
    "results2d, maxs2d = simulation(reaction, 20, reduction=21, budget=50)\n",
    "pd.DataFrame(results2d).to_csv(name + '.csv')\n",
    "\n",
    "r2d = statistic_summary(bo_maxs['reaction2d'], maxs2d, export_path='simulation_results/CNar4_hist_GSD')"
   ]
  },
  {
   "cell_type": "markdown",
   "metadata": {},
   "source": [
    "**Reaction 2e**"
   ]
  },
  {
   "cell_type": "code",
   "execution_count": 18,
   "metadata": {},
   "outputs": [
    {
     "name": "stdout",
     "output_type": "stream",
     "text": [
      "Seed: 0 | Design size: 44 | Fit R^2: 0.9987097164084155 | DOE max: 86.89971677 | Max: 86.89971677 | Ground truth: 98.73132029\n",
      "Seed: 2 | Design size: 44 | Fit R^2: 0.9974506069990406 | DOE max: 88.35188783 | Max: 93.74857618 | Ground truth: 98.73132029\n",
      "Seed: 3 | Design size: 44 | Fit R^2: 0.9501372077700911 | DOE max: 92.12702212 | Max: 93.58777419 | Ground truth: 98.73132029\n",
      "Seed: 4 | Design size: 44 | Fit R^2: 0.9419862173784432 | DOE max: 93.58777419 | Max: 93.58777419 | Ground truth: 98.73132029\n",
      "Seed: 6 | Design size: 44 | Fit R^2: 0.99891349063642 | DOE max: 86.08980917 | Max: 94.54981251 | Ground truth: 98.73132029\n",
      "Seed: 7 | Design size: 44 | Fit R^2: 0.9752903826570345 | DOE max: 98.28722602 | Max: 98.28722602 | Ground truth: 98.73132029\n",
      "Seed: 8 | Design size: 44 | Fit R^2: 0.9971205586830167 | DOE max: 81.55614964 | Max: 82.40046293 | Ground truth: 98.73132029\n",
      "Seed: 9 | Design size: 44 | Fit R^2: 0.9276665271674573 | DOE max: 94.34623373 | Max: 94.34623373 | Ground truth: 98.73132029\n",
      "Seed: 10 | Design size: 44 | Fit R^2: 0.9994741572940098 | DOE max: 86.41285544 | Max: 92.65898323 | Ground truth: 98.73132029\n",
      "Seed: 11 | Design size: 44 | Fit R^2: 0.9371149778589066 | DOE max: 86.10507439 | Max: 94.87994774 | Ground truth: 98.73132029\n",
      "Seed: 12 | Design size: 44 | Fit R^2: 0.9833231964973136 | DOE max: 94.87994774 | Max: 94.87994774 | Ground truth: 98.73132029\n",
      "Seed: 13 | Design size: 44 | Fit R^2: 0.93909736802979 | DOE max: 92.57247896 | Max: 92.57247896 | Ground truth: 98.73132029\n",
      "Seed: 14 | Design size: 44 | Fit R^2: 0.9269198709373039 | DOE max: 91.69839995 | Max: 91.69839995 | Ground truth: 98.73132029\n",
      "Seed: 15 | Design size: 44 | Fit R^2: 0.9860638247803547 | DOE max: 95.12897845 | Max: 95.12897845 | Ground truth: 98.73132029\n",
      "Seed: 16 | Design size: 44 | Fit R^2: 0.9992828032621748 | DOE max: 91.69839995 | Max: 91.69839995 | Ground truth: 98.73132029\n",
      "Seed: 17 | Design size: 44 | Fit R^2: 0.9977894904676995 | DOE max: 92.95670274 | Max: 92.95670274 | Ground truth: 98.73132029\n",
      "Seed: 18 | Design size: 44 | Fit R^2: 0.9581689816086462 | DOE max: 92.95670274 | Max: 98.73132029 | Ground truth: 98.73132029\n",
      "Seed: 19 | Design size: 44 | Fit R^2: 0.9395649650894099 | DOE max: 94.50096737 | Max: 94.69105416 | Ground truth: 98.73132029\n",
      "Seed: 20 | Design size: 44 | Fit R^2: 0.938107527640866 | DOE max: 92.57247896 | Max: 94.69105416 | Ground truth: 98.73132029\n",
      "Seed: 21 | Design size: 44 | Fit R^2: 0.9995442579868019 | DOE max: 94.69105416 | Max: 94.69105416 | Ground truth: 98.73132029\n"
     ]
    },
    {
     "ename": "FileNotFoundError",
     "evalue": "[Errno 2] No such file or directory: 'simulation_results/CNar5_GSD_Poly_ARD_Model.csv'",
     "output_type": "error",
     "traceback": [
      "\u001b[1;31m---------------------------------------------------------------------------\u001b[0m",
      "\u001b[1;31mFileNotFoundError\u001b[0m                         Traceback (most recent call last)",
      "\u001b[1;32m<ipython-input-18-4ebc43a533de>\u001b[0m in \u001b[0;36m<module>\u001b[1;34m\u001b[0m\n\u001b[0;32m      5\u001b[0m \u001b[1;31m# Simulation\u001b[0m\u001b[1;33m\u001b[0m\u001b[1;33m\u001b[0m\u001b[1;33m\u001b[0m\u001b[0m\n\u001b[0;32m      6\u001b[0m \u001b[0mresults2e\u001b[0m\u001b[1;33m,\u001b[0m \u001b[0mmaxs2e\u001b[0m \u001b[1;33m=\u001b[0m \u001b[0msimulation\u001b[0m\u001b[1;33m(\u001b[0m\u001b[0mreaction\u001b[0m\u001b[1;33m,\u001b[0m \u001b[1;36m20\u001b[0m\u001b[1;33m,\u001b[0m \u001b[0mreduction\u001b[0m\u001b[1;33m=\u001b[0m\u001b[1;36m21\u001b[0m\u001b[1;33m,\u001b[0m \u001b[0mbudget\u001b[0m\u001b[1;33m=\u001b[0m\u001b[1;36m50\u001b[0m\u001b[1;33m)\u001b[0m\u001b[1;33m\u001b[0m\u001b[1;33m\u001b[0m\u001b[0m\n\u001b[1;32m----> 7\u001b[1;33m \u001b[0mpd\u001b[0m\u001b[1;33m.\u001b[0m\u001b[0mDataFrame\u001b[0m\u001b[1;33m(\u001b[0m\u001b[0mresults2e\u001b[0m\u001b[1;33m)\u001b[0m\u001b[1;33m.\u001b[0m\u001b[0mto_csv\u001b[0m\u001b[1;33m(\u001b[0m\u001b[0mname\u001b[0m \u001b[1;33m+\u001b[0m \u001b[1;34m'.csv'\u001b[0m\u001b[1;33m)\u001b[0m\u001b[1;33m\u001b[0m\u001b[1;33m\u001b[0m\u001b[0m\n\u001b[0m\u001b[0;32m      8\u001b[0m \u001b[1;33m\u001b[0m\u001b[0m\n\u001b[0;32m      9\u001b[0m \u001b[0mr2e\u001b[0m \u001b[1;33m=\u001b[0m \u001b[0mstatistic_summary\u001b[0m\u001b[1;33m(\u001b[0m\u001b[0mbo_maxs\u001b[0m\u001b[1;33m[\u001b[0m\u001b[1;34m'reaction2e'\u001b[0m\u001b[1;33m]\u001b[0m\u001b[1;33m,\u001b[0m \u001b[0mmaxs2e\u001b[0m\u001b[1;33m,\u001b[0m \u001b[0mexport_path\u001b[0m\u001b[1;33m=\u001b[0m\u001b[1;34m'simulation_results/CNar5_hist_GSD'\u001b[0m\u001b[1;33m)\u001b[0m\u001b[1;33m\u001b[0m\u001b[1;33m\u001b[0m\u001b[0m\n",
      "\u001b[1;32m~\\anaconda3\\envs\\edbo\\lib\\site-packages\\pandas\\core\\generic.py\u001b[0m in \u001b[0;36mto_csv\u001b[1;34m(self, path_or_buf, sep, na_rep, float_format, columns, header, index, index_label, mode, encoding, compression, quoting, quotechar, line_terminator, chunksize, date_format, doublequote, escapechar, decimal, errors, storage_options)\u001b[0m\n\u001b[0;32m   3401\u001b[0m             \u001b[0mdoublequote\u001b[0m\u001b[1;33m=\u001b[0m\u001b[0mdoublequote\u001b[0m\u001b[1;33m,\u001b[0m\u001b[1;33m\u001b[0m\u001b[1;33m\u001b[0m\u001b[0m\n\u001b[0;32m   3402\u001b[0m             \u001b[0mescapechar\u001b[0m\u001b[1;33m=\u001b[0m\u001b[0mescapechar\u001b[0m\u001b[1;33m,\u001b[0m\u001b[1;33m\u001b[0m\u001b[1;33m\u001b[0m\u001b[0m\n\u001b[1;32m-> 3403\u001b[1;33m             \u001b[0mstorage_options\u001b[0m\u001b[1;33m=\u001b[0m\u001b[0mstorage_options\u001b[0m\u001b[1;33m,\u001b[0m\u001b[1;33m\u001b[0m\u001b[1;33m\u001b[0m\u001b[0m\n\u001b[0m\u001b[0;32m   3404\u001b[0m         )\n\u001b[0;32m   3405\u001b[0m \u001b[1;33m\u001b[0m\u001b[0m\n",
      "\u001b[1;32m~\\anaconda3\\envs\\edbo\\lib\\site-packages\\pandas\\io\\formats\\format.py\u001b[0m in \u001b[0;36mto_csv\u001b[1;34m(self, path_or_buf, encoding, sep, columns, index_label, mode, compression, quoting, quotechar, line_terminator, chunksize, date_format, doublequote, escapechar, errors, storage_options)\u001b[0m\n\u001b[0;32m   1081\u001b[0m             \u001b[0mformatter\u001b[0m\u001b[1;33m=\u001b[0m\u001b[0mself\u001b[0m\u001b[1;33m.\u001b[0m\u001b[0mfmt\u001b[0m\u001b[1;33m,\u001b[0m\u001b[1;33m\u001b[0m\u001b[1;33m\u001b[0m\u001b[0m\n\u001b[0;32m   1082\u001b[0m         )\n\u001b[1;32m-> 1083\u001b[1;33m         \u001b[0mcsv_formatter\u001b[0m\u001b[1;33m.\u001b[0m\u001b[0msave\u001b[0m\u001b[1;33m(\u001b[0m\u001b[1;33m)\u001b[0m\u001b[1;33m\u001b[0m\u001b[1;33m\u001b[0m\u001b[0m\n\u001b[0m\u001b[0;32m   1084\u001b[0m \u001b[1;33m\u001b[0m\u001b[0m\n\u001b[0;32m   1085\u001b[0m         \u001b[1;32mif\u001b[0m \u001b[0mcreated_buffer\u001b[0m\u001b[1;33m:\u001b[0m\u001b[1;33m\u001b[0m\u001b[1;33m\u001b[0m\u001b[0m\n",
      "\u001b[1;32m~\\anaconda3\\envs\\edbo\\lib\\site-packages\\pandas\\io\\formats\\csvs.py\u001b[0m in \u001b[0;36msave\u001b[1;34m(self)\u001b[0m\n\u001b[0;32m    232\u001b[0m             \u001b[0merrors\u001b[0m\u001b[1;33m=\u001b[0m\u001b[0mself\u001b[0m\u001b[1;33m.\u001b[0m\u001b[0merrors\u001b[0m\u001b[1;33m,\u001b[0m\u001b[1;33m\u001b[0m\u001b[1;33m\u001b[0m\u001b[0m\n\u001b[0;32m    233\u001b[0m             \u001b[0mcompression\u001b[0m\u001b[1;33m=\u001b[0m\u001b[0mself\u001b[0m\u001b[1;33m.\u001b[0m\u001b[0mcompression\u001b[0m\u001b[1;33m,\u001b[0m\u001b[1;33m\u001b[0m\u001b[1;33m\u001b[0m\u001b[0m\n\u001b[1;32m--> 234\u001b[1;33m             \u001b[0mstorage_options\u001b[0m\u001b[1;33m=\u001b[0m\u001b[0mself\u001b[0m\u001b[1;33m.\u001b[0m\u001b[0mstorage_options\u001b[0m\u001b[1;33m,\u001b[0m\u001b[1;33m\u001b[0m\u001b[1;33m\u001b[0m\u001b[0m\n\u001b[0m\u001b[0;32m    235\u001b[0m         ) as handles:\n\u001b[0;32m    236\u001b[0m \u001b[1;33m\u001b[0m\u001b[0m\n",
      "\u001b[1;32m~\\anaconda3\\envs\\edbo\\lib\\site-packages\\pandas\\io\\common.py\u001b[0m in \u001b[0;36mget_handle\u001b[1;34m(path_or_buf, mode, encoding, compression, memory_map, is_text, errors, storage_options)\u001b[0m\n\u001b[0;32m    650\u001b[0m                 \u001b[0mencoding\u001b[0m\u001b[1;33m=\u001b[0m\u001b[0mioargs\u001b[0m\u001b[1;33m.\u001b[0m\u001b[0mencoding\u001b[0m\u001b[1;33m,\u001b[0m\u001b[1;33m\u001b[0m\u001b[1;33m\u001b[0m\u001b[0m\n\u001b[0;32m    651\u001b[0m                 \u001b[0merrors\u001b[0m\u001b[1;33m=\u001b[0m\u001b[0merrors\u001b[0m\u001b[1;33m,\u001b[0m\u001b[1;33m\u001b[0m\u001b[1;33m\u001b[0m\u001b[0m\n\u001b[1;32m--> 652\u001b[1;33m                 \u001b[0mnewline\u001b[0m\u001b[1;33m=\u001b[0m\u001b[1;34m\"\"\u001b[0m\u001b[1;33m,\u001b[0m\u001b[1;33m\u001b[0m\u001b[1;33m\u001b[0m\u001b[0m\n\u001b[0m\u001b[0;32m    653\u001b[0m             )\n\u001b[0;32m    654\u001b[0m         \u001b[1;32melse\u001b[0m\u001b[1;33m:\u001b[0m\u001b[1;33m\u001b[0m\u001b[1;33m\u001b[0m\u001b[0m\n",
      "\u001b[1;31mFileNotFoundError\u001b[0m: [Errno 2] No such file or directory: 'simulation_results/CNar5_GSD_Poly_ARD_Model.csv'"
     ]
    }
   ],
   "source": [
    "# Data\n",
    "reaction = reaction2(5)\n",
    "name = PATH + 'CNar5_GSD_Poly_ARD_Model'\n",
    "\n",
    "# Simulation\n",
    "results2e, maxs2e = simulation(reaction, 20, reduction=21, budget=50)\n",
    "pd.DataFrame(results2e).to_csv(name + '.csv')\n",
    "\n",
    "r2e = statistic_summary(bo_maxs['reaction2e'], maxs2e, export_path='simulation_results/CNar5_hist_GSD')"
   ]
  },
  {
   "cell_type": "markdown",
   "metadata": {},
   "source": [
    "**Summary**\n",
    "\n",
    "For each of the reactions in the development set you can see that the GSD baed DOE optimization was able to identify the global maximum in some instances. However, upon the shuffling of levels there was a considerable amount of variance in outcome observed. Therefore, while the difference in mean optimization outcome between the two methods are small in some instances (e.g., reaction 2d), the difference between the worst case outcomes was singificantly larger. For each reaction, the statistics tell us: (1) BO performs better on average (p-values < 0.05 in all cases), (2) BO has less variance in outcome even with randomly selected initial conditions, and (3) BO has a better worst case scenario (close to the global max yield)."
   ]
  },
  {
   "cell_type": "code",
   "execution_count": null,
   "metadata": {},
   "outputs": [],
   "source": [
    "summary = pd.concat([r1, r2a, r2b, r2c, r2d, r2e]).reset_index(drop=True)\n",
    "summary.insert(0, 'Reaction', ['1', '2a', '2b', '2c', '2d', '2e'])\n",
    "summary.to_csv('simulation_results/gsd_summary.csv', index=False)\n",
    "summary"
   ]
  },
  {
   "cell_type": "markdown",
   "metadata": {},
   "source": [
    "### D-Optimal Design Simulations "
   ]
  },
  {
   "cell_type": "markdown",
   "metadata": {},
   "source": [
    "**Reaction 1**"
   ]
  },
  {
   "cell_type": "code",
   "execution_count": 19,
   "metadata": {},
   "outputs": [
    {
     "ename": "KeyError",
     "evalue": "'Electrophile_SMILES'",
     "output_type": "error",
     "traceback": [
      "\u001b[1;31m---------------------------------------------------------------------------\u001b[0m",
      "\u001b[1;31mKeyError\u001b[0m                                  Traceback (most recent call last)",
      "\u001b[1;32m~\\anaconda3\\envs\\edbo\\lib\\site-packages\\pandas\\core\\indexes\\base.py\u001b[0m in \u001b[0;36mget_loc\u001b[1;34m(self, key, method, tolerance)\u001b[0m\n\u001b[0;32m   3080\u001b[0m             \u001b[1;32mtry\u001b[0m\u001b[1;33m:\u001b[0m\u001b[1;33m\u001b[0m\u001b[1;33m\u001b[0m\u001b[0m\n\u001b[1;32m-> 3081\u001b[1;33m                 \u001b[1;32mreturn\u001b[0m \u001b[0mself\u001b[0m\u001b[1;33m.\u001b[0m\u001b[0m_engine\u001b[0m\u001b[1;33m.\u001b[0m\u001b[0mget_loc\u001b[0m\u001b[1;33m(\u001b[0m\u001b[0mcasted_key\u001b[0m\u001b[1;33m)\u001b[0m\u001b[1;33m\u001b[0m\u001b[1;33m\u001b[0m\u001b[0m\n\u001b[0m\u001b[0;32m   3082\u001b[0m             \u001b[1;32mexcept\u001b[0m \u001b[0mKeyError\u001b[0m \u001b[1;32mas\u001b[0m \u001b[0merr\u001b[0m\u001b[1;33m:\u001b[0m\u001b[1;33m\u001b[0m\u001b[1;33m\u001b[0m\u001b[0m\n",
      "\u001b[1;32mpandas\\_libs\\index.pyx\u001b[0m in \u001b[0;36mpandas._libs.index.IndexEngine.get_loc\u001b[1;34m()\u001b[0m\n",
      "\u001b[1;32mpandas\\_libs\\index.pyx\u001b[0m in \u001b[0;36mpandas._libs.index.IndexEngine.get_loc\u001b[1;34m()\u001b[0m\n",
      "\u001b[1;32mpandas\\_libs\\hashtable_class_helper.pxi\u001b[0m in \u001b[0;36mpandas._libs.hashtable.PyObjectHashTable.get_item\u001b[1;34m()\u001b[0m\n",
      "\u001b[1;32mpandas\\_libs\\hashtable_class_helper.pxi\u001b[0m in \u001b[0;36mpandas._libs.hashtable.PyObjectHashTable.get_item\u001b[1;34m()\u001b[0m\n",
      "\u001b[1;31mKeyError\u001b[0m: 'Electrophile_SMILES'",
      "\nThe above exception was the direct cause of the following exception:\n",
      "\u001b[1;31mKeyError\u001b[0m                                  Traceback (most recent call last)",
      "\u001b[1;32m<ipython-input-19-e5eb1a49a36b>\u001b[0m in \u001b[0;36m<module>\u001b[1;34m\u001b[0m\n\u001b[0;32m      2\u001b[0m \u001b[1;33m\u001b[0m\u001b[0m\n\u001b[0;32m      3\u001b[0m \u001b[1;31m# Data\u001b[0m\u001b[1;33m\u001b[0m\u001b[1;33m\u001b[0m\u001b[1;33m\u001b[0m\u001b[0m\n\u001b[1;32m----> 4\u001b[1;33m \u001b[0mreaction\u001b[0m \u001b[1;33m=\u001b[0m \u001b[0mreaction1\u001b[0m\u001b[1;33m(\u001b[0m\u001b[1;33m)\u001b[0m\u001b[1;33m\u001b[0m\u001b[1;33m\u001b[0m\u001b[0m\n\u001b[0m\u001b[0;32m      5\u001b[0m \u001b[0mname\u001b[0m \u001b[1;33m=\u001b[0m \u001b[0mPATH\u001b[0m \u001b[1;33m+\u001b[0m \u001b[1;34m'Suzuki_DOpt_Poly_ARD_Model'\u001b[0m\u001b[1;33m\u001b[0m\u001b[1;33m\u001b[0m\u001b[0m\n\u001b[0;32m      6\u001b[0m \u001b[1;33m\u001b[0m\u001b[0m\n",
      "\u001b[1;32m<ipython-input-1-9d9d6cd72feb>\u001b[0m in \u001b[0;36m__init__\u001b[1;34m(self)\u001b[0m\n\u001b[0;32m     14\u001b[0m \u001b[1;33m\u001b[0m\u001b[0m\n\u001b[0;32m     15\u001b[0m         \u001b[1;31m# Load OHE data\u001b[0m\u001b[1;33m\u001b[0m\u001b[1;33m\u001b[0m\u001b[1;33m\u001b[0m\u001b[0m\n\u001b[1;32m---> 16\u001b[1;33m         \u001b[0mself\u001b[0m\u001b[1;33m.\u001b[0m\u001b[0mdata\u001b[0m \u001b[1;33m=\u001b[0m \u001b[0msuzuki\u001b[0m\u001b[1;33m(\u001b[0m\u001b[1;33m)\u001b[0m\u001b[1;33m\u001b[0m\u001b[1;33m\u001b[0m\u001b[0m\n\u001b[0m\u001b[0;32m     17\u001b[0m \u001b[1;33m\u001b[0m\u001b[0m\n\u001b[0;32m     18\u001b[0m         \u001b[1;31m# Components required for DOE\u001b[0m\u001b[1;33m\u001b[0m\u001b[1;33m\u001b[0m\u001b[1;33m\u001b[0m\u001b[0m\n",
      "\u001b[1;32m~\\Documents\\Programming\\AI3SD\\edbo\\examples\\DOE\\data_loader.py\u001b[0m in \u001b[0;36msuzuki\u001b[1;34m(electrophile, nucleophile, base, ligand, solvent)\u001b[0m\n\u001b[0;32m    165\u001b[0m     \u001b[1;31m# Build the descriptor set\u001b[0m\u001b[1;33m\u001b[0m\u001b[1;33m\u001b[0m\u001b[1;33m\u001b[0m\u001b[0m\n\u001b[0;32m    166\u001b[0m \u001b[1;33m\u001b[0m\u001b[0m\n\u001b[1;32m--> 167\u001b[1;33m     index_list = [index['Electrophile_SMILES'],\n\u001b[0m\u001b[0;32m    168\u001b[0m                   \u001b[0mindex\u001b[0m\u001b[1;33m[\u001b[0m\u001b[1;34m'Nucleophile_SMILES'\u001b[0m\u001b[1;33m]\u001b[0m\u001b[1;33m,\u001b[0m\u001b[1;33m\u001b[0m\u001b[1;33m\u001b[0m\u001b[0m\n\u001b[0;32m    169\u001b[0m                   \u001b[0mindex\u001b[0m\u001b[1;33m[\u001b[0m\u001b[1;34m'Base_SMILES'\u001b[0m\u001b[1;33m]\u001b[0m\u001b[1;33m,\u001b[0m\u001b[1;33m\u001b[0m\u001b[1;33m\u001b[0m\u001b[0m\n",
      "\u001b[1;32m~\\anaconda3\\envs\\edbo\\lib\\site-packages\\pandas\\core\\frame.py\u001b[0m in \u001b[0;36m__getitem__\u001b[1;34m(self, key)\u001b[0m\n\u001b[0;32m   3022\u001b[0m             \u001b[1;32mif\u001b[0m \u001b[0mself\u001b[0m\u001b[1;33m.\u001b[0m\u001b[0mcolumns\u001b[0m\u001b[1;33m.\u001b[0m\u001b[0mnlevels\u001b[0m \u001b[1;33m>\u001b[0m \u001b[1;36m1\u001b[0m\u001b[1;33m:\u001b[0m\u001b[1;33m\u001b[0m\u001b[1;33m\u001b[0m\u001b[0m\n\u001b[0;32m   3023\u001b[0m                 \u001b[1;32mreturn\u001b[0m \u001b[0mself\u001b[0m\u001b[1;33m.\u001b[0m\u001b[0m_getitem_multilevel\u001b[0m\u001b[1;33m(\u001b[0m\u001b[0mkey\u001b[0m\u001b[1;33m)\u001b[0m\u001b[1;33m\u001b[0m\u001b[1;33m\u001b[0m\u001b[0m\n\u001b[1;32m-> 3024\u001b[1;33m             \u001b[0mindexer\u001b[0m \u001b[1;33m=\u001b[0m \u001b[0mself\u001b[0m\u001b[1;33m.\u001b[0m\u001b[0mcolumns\u001b[0m\u001b[1;33m.\u001b[0m\u001b[0mget_loc\u001b[0m\u001b[1;33m(\u001b[0m\u001b[0mkey\u001b[0m\u001b[1;33m)\u001b[0m\u001b[1;33m\u001b[0m\u001b[1;33m\u001b[0m\u001b[0m\n\u001b[0m\u001b[0;32m   3025\u001b[0m             \u001b[1;32mif\u001b[0m \u001b[0mis_integer\u001b[0m\u001b[1;33m(\u001b[0m\u001b[0mindexer\u001b[0m\u001b[1;33m)\u001b[0m\u001b[1;33m:\u001b[0m\u001b[1;33m\u001b[0m\u001b[1;33m\u001b[0m\u001b[0m\n\u001b[0;32m   3026\u001b[0m                 \u001b[0mindexer\u001b[0m \u001b[1;33m=\u001b[0m \u001b[1;33m[\u001b[0m\u001b[0mindexer\u001b[0m\u001b[1;33m]\u001b[0m\u001b[1;33m\u001b[0m\u001b[1;33m\u001b[0m\u001b[0m\n",
      "\u001b[1;32m~\\anaconda3\\envs\\edbo\\lib\\site-packages\\pandas\\core\\indexes\\base.py\u001b[0m in \u001b[0;36mget_loc\u001b[1;34m(self, key, method, tolerance)\u001b[0m\n\u001b[0;32m   3081\u001b[0m                 \u001b[1;32mreturn\u001b[0m \u001b[0mself\u001b[0m\u001b[1;33m.\u001b[0m\u001b[0m_engine\u001b[0m\u001b[1;33m.\u001b[0m\u001b[0mget_loc\u001b[0m\u001b[1;33m(\u001b[0m\u001b[0mcasted_key\u001b[0m\u001b[1;33m)\u001b[0m\u001b[1;33m\u001b[0m\u001b[1;33m\u001b[0m\u001b[0m\n\u001b[0;32m   3082\u001b[0m             \u001b[1;32mexcept\u001b[0m \u001b[0mKeyError\u001b[0m \u001b[1;32mas\u001b[0m \u001b[0merr\u001b[0m\u001b[1;33m:\u001b[0m\u001b[1;33m\u001b[0m\u001b[1;33m\u001b[0m\u001b[0m\n\u001b[1;32m-> 3083\u001b[1;33m                 \u001b[1;32mraise\u001b[0m \u001b[0mKeyError\u001b[0m\u001b[1;33m(\u001b[0m\u001b[0mkey\u001b[0m\u001b[1;33m)\u001b[0m \u001b[1;32mfrom\u001b[0m \u001b[0merr\u001b[0m\u001b[1;33m\u001b[0m\u001b[1;33m\u001b[0m\u001b[0m\n\u001b[0m\u001b[0;32m   3084\u001b[0m \u001b[1;33m\u001b[0m\u001b[0m\n\u001b[0;32m   3085\u001b[0m         \u001b[1;32mif\u001b[0m \u001b[0mtolerance\u001b[0m \u001b[1;32mis\u001b[0m \u001b[1;32mnot\u001b[0m \u001b[1;32mNone\u001b[0m\u001b[1;33m:\u001b[0m\u001b[1;33m\u001b[0m\u001b[1;33m\u001b[0m\u001b[0m\n",
      "\u001b[1;31mKeyError\u001b[0m: 'Electrophile_SMILES'"
     ]
    }
   ],
   "source": [
    "PATH = 'simulation_results/'\n",
    "\n",
    "# Data\n",
    "reaction = reaction1()\n",
    "name = PATH + 'Suzuki_DOpt_Poly_ARD_Model'\n",
    "\n",
    "# D-optimal design from R\n",
    "external = pd.read_csv('R_doptimal/suzuki_d-optimal.csv').iloc[:,1:] - 1 # Adjust for python indices\n",
    "\n",
    "# Simulation\n",
    "results1, maxs1 = simulation(reaction, 20, budget=50, design='external', external=external)\n",
    "pd.DataFrame(results1).to_csv(name + '.csv')\n",
    "\n",
    "r1 = statistic_summary(bo_maxs['reaction1'], maxs1, export_path='simulation_results/Suzuki_hist_DOpt')"
   ]
  },
  {
   "cell_type": "markdown",
   "metadata": {},
   "source": [
    "**Reaction 2a**"
   ]
  },
  {
   "cell_type": "code",
   "execution_count": 20,
   "metadata": {},
   "outputs": [
    {
     "name": "stdout",
     "output_type": "stream",
     "text": [
      "Seed: 0 | Design size: 45 | Fit R^2: 0.9586812650238765 | DOE max: 51.75674767 | Max: 55.16379105 | Ground truth: 55.56585889\n",
      "Seed: 1 | Design size: 45 | Fit R^2: 0.9999723896868685 | DOE max: 54.24578847 | Max: 55.16379105 | Ground truth: 55.56585889\n",
      "Seed: 2 | Design size: 45 | Fit R^2: 0.9967361237639185 | DOE max: 53.59986981 | Max: 55.16379105 | Ground truth: 55.56585889\n",
      "Seed: 3 | Design size: 45 | Fit R^2: 0.9999953232238137 | DOE max: 50.13634297 | Max: 52.37811419 | Ground truth: 55.56585889\n",
      "Seed: 4 | Design size: 45 | Fit R^2: 0.9999955265531147 | DOE max: 54.22375463 | Max: 54.22375463 | Ground truth: 55.56585889\n",
      "Seed: 6 | Design size: 45 | Fit R^2: 0.9999464669521015 | DOE max: 52.58811564 | Max: 55.16379105 | Ground truth: 55.56585889\n",
      "Seed: 7 | Design size: 45 | Fit R^2: 0.9999979645643793 | DOE max: 46.14092963 | Max: 52.67302388 | Ground truth: 55.56585889\n",
      "Seed: 9 | Design size: 45 | Fit R^2: 0.9999860591623831 | DOE max: 52.55061961 | Max: 52.55061961 | Ground truth: 55.56585889\n",
      "Seed: 10 | Design size: 45 | Fit R^2: 0.9963681358501164 | DOE max: 53.83922891 | Max: 53.83922891 | Ground truth: 55.56585889\n",
      "Seed: 11 | Design size: 45 | Fit R^2: 0.9999987316241298 | DOE max: 55.16379105 | Max: 55.56585889 | Ground truth: 55.56585889\n",
      "Seed: 12 | Design size: 45 | Fit R^2: 0.9999712130530183 | DOE max: 48.06786456 | Max: 51.75674767 | Ground truth: 55.56585889\n",
      "Seed: 13 | Design size: 45 | Fit R^2: 0.9999985725300498 | DOE max: 53.83922891 | Max: 55.16379105 | Ground truth: 55.56585889\n",
      "Seed: 15 | Design size: 45 | Fit R^2: 0.9492601955661828 | DOE max: 51.75674767 | Max: 55.16379105 | Ground truth: 55.56585889\n",
      "Seed: 16 | Design size: 45 | Fit R^2: 0.9999997930688368 | DOE max: 54.24578847 | Max: 55.56585889 | Ground truth: 55.56585889\n",
      "Seed: 18 | Design size: 45 | Fit R^2: 0.9999861092847309 | DOE max: 52.58811564 | Max: 52.58811564 | Ground truth: 55.56585889\n",
      "Seed: 20 | Design size: 45 | Fit R^2: 0.9999992861199791 | DOE max: 50.27132659 | Max: 54.22375463 | Ground truth: 55.56585889\n",
      "Seed: 22 | Design size: 45 | Fit R^2: 0.9998252100447739 | DOE max: 52.01896484 | Max: 52.01896484 | Ground truth: 55.56585889\n",
      "Seed: 23 | Design size: 45 | Fit R^2: 0.9959288075572643 | DOE max: 48.38997285 | Max: 48.38997285 | Ground truth: 55.56585889\n",
      "Seed: 24 | Design size: 45 | Fit R^2: 0.9999962447298237 | DOE max: 52.58811564 | Max: 52.58811564 | Ground truth: 55.56585889\n",
      "Seed: 25 | Design size: 45 | Fit R^2: 0.9999990568970302 | DOE max: 50.58289676 | Max: 53.59986981 | Ground truth: 55.56585889\n"
     ]
    },
    {
     "ename": "FileNotFoundError",
     "evalue": "[Errno 2] No such file or directory: 'simulation_results/CNar1_DOpt_Poly_ARD_Model.csv'",
     "output_type": "error",
     "traceback": [
      "\u001b[1;31m---------------------------------------------------------------------------\u001b[0m",
      "\u001b[1;31mFileNotFoundError\u001b[0m                         Traceback (most recent call last)",
      "\u001b[1;32m<ipython-input-20-0e00759990e9>\u001b[0m in \u001b[0;36m<module>\u001b[1;34m\u001b[0m\n\u001b[0;32m      8\u001b[0m \u001b[1;31m# Simulation\u001b[0m\u001b[1;33m\u001b[0m\u001b[1;33m\u001b[0m\u001b[1;33m\u001b[0m\u001b[0m\n\u001b[0;32m      9\u001b[0m \u001b[0mresults2a\u001b[0m\u001b[1;33m,\u001b[0m \u001b[0mmaxs2a\u001b[0m \u001b[1;33m=\u001b[0m \u001b[0msimulation\u001b[0m\u001b[1;33m(\u001b[0m\u001b[0mreaction\u001b[0m\u001b[1;33m,\u001b[0m \u001b[1;36m20\u001b[0m\u001b[1;33m,\u001b[0m \u001b[0mbudget\u001b[0m\u001b[1;33m=\u001b[0m\u001b[1;36m50\u001b[0m\u001b[1;33m,\u001b[0m \u001b[0mdesign\u001b[0m\u001b[1;33m=\u001b[0m\u001b[1;34m'external'\u001b[0m\u001b[1;33m,\u001b[0m \u001b[0mexternal\u001b[0m\u001b[1;33m=\u001b[0m\u001b[0mexternal\u001b[0m\u001b[1;33m)\u001b[0m\u001b[1;33m\u001b[0m\u001b[1;33m\u001b[0m\u001b[0m\n\u001b[1;32m---> 10\u001b[1;33m \u001b[0mpd\u001b[0m\u001b[1;33m.\u001b[0m\u001b[0mDataFrame\u001b[0m\u001b[1;33m(\u001b[0m\u001b[0mresults2a\u001b[0m\u001b[1;33m)\u001b[0m\u001b[1;33m.\u001b[0m\u001b[0mto_csv\u001b[0m\u001b[1;33m(\u001b[0m\u001b[0mname\u001b[0m \u001b[1;33m+\u001b[0m \u001b[1;34m'.csv'\u001b[0m\u001b[1;33m)\u001b[0m\u001b[1;33m\u001b[0m\u001b[1;33m\u001b[0m\u001b[0m\n\u001b[0m\u001b[0;32m     11\u001b[0m \u001b[1;33m\u001b[0m\u001b[0m\n\u001b[0;32m     12\u001b[0m \u001b[0mr2a\u001b[0m \u001b[1;33m=\u001b[0m \u001b[0mstatistic_summary\u001b[0m\u001b[1;33m(\u001b[0m\u001b[0mbo_maxs\u001b[0m\u001b[1;33m[\u001b[0m\u001b[1;34m'reaction2a'\u001b[0m\u001b[1;33m]\u001b[0m\u001b[1;33m,\u001b[0m \u001b[0mmaxs2a\u001b[0m\u001b[1;33m,\u001b[0m \u001b[0mexport_path\u001b[0m\u001b[1;33m=\u001b[0m\u001b[1;34m'simulation_results/CNar1_hist_DOpt'\u001b[0m\u001b[1;33m)\u001b[0m\u001b[1;33m\u001b[0m\u001b[1;33m\u001b[0m\u001b[0m\n",
      "\u001b[1;32m~\\anaconda3\\envs\\edbo\\lib\\site-packages\\pandas\\core\\generic.py\u001b[0m in \u001b[0;36mto_csv\u001b[1;34m(self, path_or_buf, sep, na_rep, float_format, columns, header, index, index_label, mode, encoding, compression, quoting, quotechar, line_terminator, chunksize, date_format, doublequote, escapechar, decimal, errors, storage_options)\u001b[0m\n\u001b[0;32m   3401\u001b[0m             \u001b[0mdoublequote\u001b[0m\u001b[1;33m=\u001b[0m\u001b[0mdoublequote\u001b[0m\u001b[1;33m,\u001b[0m\u001b[1;33m\u001b[0m\u001b[1;33m\u001b[0m\u001b[0m\n\u001b[0;32m   3402\u001b[0m             \u001b[0mescapechar\u001b[0m\u001b[1;33m=\u001b[0m\u001b[0mescapechar\u001b[0m\u001b[1;33m,\u001b[0m\u001b[1;33m\u001b[0m\u001b[1;33m\u001b[0m\u001b[0m\n\u001b[1;32m-> 3403\u001b[1;33m             \u001b[0mstorage_options\u001b[0m\u001b[1;33m=\u001b[0m\u001b[0mstorage_options\u001b[0m\u001b[1;33m,\u001b[0m\u001b[1;33m\u001b[0m\u001b[1;33m\u001b[0m\u001b[0m\n\u001b[0m\u001b[0;32m   3404\u001b[0m         )\n\u001b[0;32m   3405\u001b[0m \u001b[1;33m\u001b[0m\u001b[0m\n",
      "\u001b[1;32m~\\anaconda3\\envs\\edbo\\lib\\site-packages\\pandas\\io\\formats\\format.py\u001b[0m in \u001b[0;36mto_csv\u001b[1;34m(self, path_or_buf, encoding, sep, columns, index_label, mode, compression, quoting, quotechar, line_terminator, chunksize, date_format, doublequote, escapechar, errors, storage_options)\u001b[0m\n\u001b[0;32m   1081\u001b[0m             \u001b[0mformatter\u001b[0m\u001b[1;33m=\u001b[0m\u001b[0mself\u001b[0m\u001b[1;33m.\u001b[0m\u001b[0mfmt\u001b[0m\u001b[1;33m,\u001b[0m\u001b[1;33m\u001b[0m\u001b[1;33m\u001b[0m\u001b[0m\n\u001b[0;32m   1082\u001b[0m         )\n\u001b[1;32m-> 1083\u001b[1;33m         \u001b[0mcsv_formatter\u001b[0m\u001b[1;33m.\u001b[0m\u001b[0msave\u001b[0m\u001b[1;33m(\u001b[0m\u001b[1;33m)\u001b[0m\u001b[1;33m\u001b[0m\u001b[1;33m\u001b[0m\u001b[0m\n\u001b[0m\u001b[0;32m   1084\u001b[0m \u001b[1;33m\u001b[0m\u001b[0m\n\u001b[0;32m   1085\u001b[0m         \u001b[1;32mif\u001b[0m \u001b[0mcreated_buffer\u001b[0m\u001b[1;33m:\u001b[0m\u001b[1;33m\u001b[0m\u001b[1;33m\u001b[0m\u001b[0m\n",
      "\u001b[1;32m~\\anaconda3\\envs\\edbo\\lib\\site-packages\\pandas\\io\\formats\\csvs.py\u001b[0m in \u001b[0;36msave\u001b[1;34m(self)\u001b[0m\n\u001b[0;32m    232\u001b[0m             \u001b[0merrors\u001b[0m\u001b[1;33m=\u001b[0m\u001b[0mself\u001b[0m\u001b[1;33m.\u001b[0m\u001b[0merrors\u001b[0m\u001b[1;33m,\u001b[0m\u001b[1;33m\u001b[0m\u001b[1;33m\u001b[0m\u001b[0m\n\u001b[0;32m    233\u001b[0m             \u001b[0mcompression\u001b[0m\u001b[1;33m=\u001b[0m\u001b[0mself\u001b[0m\u001b[1;33m.\u001b[0m\u001b[0mcompression\u001b[0m\u001b[1;33m,\u001b[0m\u001b[1;33m\u001b[0m\u001b[1;33m\u001b[0m\u001b[0m\n\u001b[1;32m--> 234\u001b[1;33m             \u001b[0mstorage_options\u001b[0m\u001b[1;33m=\u001b[0m\u001b[0mself\u001b[0m\u001b[1;33m.\u001b[0m\u001b[0mstorage_options\u001b[0m\u001b[1;33m,\u001b[0m\u001b[1;33m\u001b[0m\u001b[1;33m\u001b[0m\u001b[0m\n\u001b[0m\u001b[0;32m    235\u001b[0m         ) as handles:\n\u001b[0;32m    236\u001b[0m \u001b[1;33m\u001b[0m\u001b[0m\n",
      "\u001b[1;32m~\\anaconda3\\envs\\edbo\\lib\\site-packages\\pandas\\io\\common.py\u001b[0m in \u001b[0;36mget_handle\u001b[1;34m(path_or_buf, mode, encoding, compression, memory_map, is_text, errors, storage_options)\u001b[0m\n\u001b[0;32m    650\u001b[0m                 \u001b[0mencoding\u001b[0m\u001b[1;33m=\u001b[0m\u001b[0mioargs\u001b[0m\u001b[1;33m.\u001b[0m\u001b[0mencoding\u001b[0m\u001b[1;33m,\u001b[0m\u001b[1;33m\u001b[0m\u001b[1;33m\u001b[0m\u001b[0m\n\u001b[0;32m    651\u001b[0m                 \u001b[0merrors\u001b[0m\u001b[1;33m=\u001b[0m\u001b[0merrors\u001b[0m\u001b[1;33m,\u001b[0m\u001b[1;33m\u001b[0m\u001b[1;33m\u001b[0m\u001b[0m\n\u001b[1;32m--> 652\u001b[1;33m                 \u001b[0mnewline\u001b[0m\u001b[1;33m=\u001b[0m\u001b[1;34m\"\"\u001b[0m\u001b[1;33m,\u001b[0m\u001b[1;33m\u001b[0m\u001b[1;33m\u001b[0m\u001b[0m\n\u001b[0m\u001b[0;32m    653\u001b[0m             )\n\u001b[0;32m    654\u001b[0m         \u001b[1;32melse\u001b[0m\u001b[1;33m:\u001b[0m\u001b[1;33m\u001b[0m\u001b[1;33m\u001b[0m\u001b[0m\n",
      "\u001b[1;31mFileNotFoundError\u001b[0m: [Errno 2] No such file or directory: 'simulation_results/CNar1_DOpt_Poly_ARD_Model.csv'"
     ]
    }
   ],
   "source": [
    "# Data\n",
    "reaction = reaction2(1)\n",
    "name = PATH + 'CNar1_DOpt_Poly_ARD_Model'\n",
    "\n",
    "# D-optimal design from R\n",
    "external = pd.read_csv('R_doptimal/amination_d-optimal.csv').iloc[:,1:] - 1 # Adjust for python indices\n",
    "\n",
    "# Simulation\n",
    "results2a, maxs2a = simulation(reaction, 20, budget=50, design='external', external=external)\n",
    "pd.DataFrame(results2a).to_csv(name + '.csv')\n",
    "\n",
    "r2a = statistic_summary(bo_maxs['reaction2a'], maxs2a, export_path='simulation_results/CNar1_hist_DOpt')"
   ]
  },
  {
   "cell_type": "markdown",
   "metadata": {},
   "source": [
    "**Reaction 2b**"
   ]
  },
  {
   "cell_type": "code",
   "execution_count": null,
   "metadata": {},
   "outputs": [],
   "source": [
    "# Data\n",
    "reaction = reaction2(2)\n",
    "name = PATH + 'CNar2_DOpt_Poly_ARD_Model'\n",
    "\n",
    "# D-optimal design from R\n",
    "external = pd.read_csv('R_doptimal/amination_d-optimal.csv').iloc[:,1:] - 1 # Adjust for python indices\n",
    "\n",
    "# Simulation\n",
    "results2b, maxs2b = simulation(reaction, 20, budget=50, design='external', external=external)\n",
    "pd.DataFrame(results2b).to_csv(name + '.csv')\n",
    "\n",
    "r2b = statistic_summary(bo_maxs['reaction2b'], maxs2b, export_path='simulation_results/CNar2_hist_DOpt')"
   ]
  },
  {
   "cell_type": "markdown",
   "metadata": {},
   "source": [
    "**Reaction 2c**"
   ]
  },
  {
   "cell_type": "code",
   "execution_count": null,
   "metadata": {},
   "outputs": [],
   "source": [
    "# Data\n",
    "reaction = reaction2(3)\n",
    "name = PATH + 'CNar3_DOpt_Poly_ARD_Model'\n",
    "\n",
    "# D-optimal design from R\n",
    "external = pd.read_csv('R_doptimal/amination_d-optimal.csv').iloc[:,1:] - 1 # Adjust for python indices\n",
    "\n",
    "# Simulation\n",
    "results2c, maxs2c = simulation(reaction, 20, budget=50, design='external', external=external)\n",
    "pd.DataFrame(results2c).to_csv(name + '.csv')\n",
    "\n",
    "r2c = statistic_summary(bo_maxs['reaction2c'], maxs2c, export_path='simulation_results/CNar3_hist_DOpt')"
   ]
  },
  {
   "cell_type": "markdown",
   "metadata": {},
   "source": [
    "**Reaction 2d**"
   ]
  },
  {
   "cell_type": "code",
   "execution_count": null,
   "metadata": {},
   "outputs": [],
   "source": [
    "# Data\n",
    "reaction = reaction2(4)\n",
    "name = PATH + 'CNar4_DOpt_Poly_ARD_Model'\n",
    "\n",
    "# D-optimal design from R\n",
    "external = pd.read_csv('R_doptimal/amination_d-optimal.csv').iloc[:,1:] - 1 # Adjust for python indices\n",
    "\n",
    "# Simulation\n",
    "results2d, maxs2d = simulation(reaction, 20, budget=50, design='external', external=external)\n",
    "pd.DataFrame(results2d).to_csv(name + '.csv')\n",
    "\n",
    "r2d = statistic_summary(bo_maxs['reaction2d'], maxs2d, export_path='simulation_results/CNar4_hist_DOpt')"
   ]
  },
  {
   "cell_type": "markdown",
   "metadata": {},
   "source": [
    "**Reaction 2e**"
   ]
  },
  {
   "cell_type": "code",
   "execution_count": null,
   "metadata": {},
   "outputs": [],
   "source": [
    "# Data\n",
    "reaction = reaction2(5)\n",
    "name = PATH + 'CNar5_DOpt_Poly_ARD_Model'\n",
    "\n",
    "# D-optimal design from R\n",
    "external = pd.read_csv('R_doptimal/amination_d-optimal.csv').iloc[:,1:] - 1 # Adjust for python indices\n",
    "\n",
    "# Simulation\n",
    "results2e, maxs2e = simulation(reaction, 20, budget=50, design='external', external=external)\n",
    "pd.DataFrame(results2e).to_csv(name + '.csv')\n",
    "\n",
    "r2e = statistic_summary(bo_maxs['reaction2e'], maxs2e, export_path='simulation_results/CNar5_hist_DOpt')"
   ]
  },
  {
   "cell_type": "markdown",
   "metadata": {},
   "source": [
    "**Summary**\n",
    "\n",
    "For each of the reactions in the development set you can see that the D-Optimal DOE optimization was able to identify the global maximum in some or many instances. However, upon the shuffling of levels there was a considerable amount of variance in outcome observed. Therefore, while the difference in mean optimization outcome between the two methods is small and not statistically significant in the case of reaction 2b, the difference between the worst-case outcomes was still large. For each reaction, the statistics tell us: (1) BO performs somewhat better on average (p-values < 0.05 in 5 out of 6 cases), (2) BO has less variance in outcome even with randomly selected initial conditions and more simulations, and (3) BO has a better worst case scenario (close to the global max yield).\n"
   ]
  },
  {
   "cell_type": "code",
   "execution_count": null,
   "metadata": {},
   "outputs": [],
   "source": [
    "summary = pd.concat([r1, r2a, r2b, r2c, r2d, r2e]).reset_index(drop=True)\n",
    "summary.insert(0, 'Reaction', ['1', '2a', '2b', '2c', '2d', '2e'])\n",
    "summary.to_csv('simulation_results/dopt_summary.csv', index=False)\n",
    "summary"
   ]
  }
 ],
 "metadata": {
  "kernelspec": {
   "display_name": "Python 3 (ipykernel)",
   "language": "python",
   "name": "python3"
  },
  "language_info": {
   "codemirror_mode": {
    "name": "ipython",
    "version": 3
   },
   "file_extension": ".py",
   "mimetype": "text/x-python",
   "name": "python",
   "nbconvert_exporter": "python",
   "pygments_lexer": "ipython3",
   "version": "3.8.10"
  }
 },
 "nbformat": 4,
 "nbformat_minor": 4
}
